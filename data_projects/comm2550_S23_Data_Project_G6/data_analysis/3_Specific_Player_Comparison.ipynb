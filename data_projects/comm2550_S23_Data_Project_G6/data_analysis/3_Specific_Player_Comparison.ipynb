{
 "cells": [
  {
   "cell_type": "markdown",
   "id": "d4cc3efc-6858-402d-9a2b-338abc44d846",
   "metadata": {},
   "source": [
    "# TITLE\n",
    "\n",
    "#### DESCRIPTION OF WHAT THE NOTEBOOK DOES"
   ]
  },
  {
   "cell_type": "markdown",
   "id": "0fa6dae0-327f-45c6-a0ad-96b078ccdd45",
   "metadata": {
    "tags": []
   },
   "source": [
    "## Set up"
   ]
  },
  {
   "cell_type": "code",
   "execution_count": 1,
   "id": "fcc54100-99ea-4b7a-b716-a7adead5bb34",
   "metadata": {},
   "outputs": [],
   "source": [
    "import pandas as pd \n",
    "import matplotlib.pyplot as plt"
   ]
  },
  {
   "cell_type": "code",
   "execution_count": 2,
   "id": "441b2cb9-e06a-4f01-9214-0100a477ca28",
   "metadata": {},
   "outputs": [],
   "source": [
    "Full_season= pd.read_csv('../data/player_stats_season.csv')"
   ]
  },
  {
   "cell_type": "code",
   "execution_count": 3,
   "id": "0df1d9c5-d891-44d0-9595-0e6fabeb00de",
   "metadata": {},
   "outputs": [],
   "source": [
    "Pre_AS= pd.read_csv('../data/player_stats_pre.csv')"
   ]
  },
  {
   "cell_type": "code",
   "execution_count": 4,
   "id": "2396576f-3cbb-43fb-a9a0-4fcc9865bcba",
   "metadata": {},
   "outputs": [],
   "source": [
    "filtered_data = list(Pre_AS[Pre_AS['AS'] > 0]['Name'])"
   ]
  },
  {
   "cell_type": "markdown",
   "id": "ab74e8bc-c2b5-4ddc-a972-93293434a3bd",
   "metadata": {
    "tags": []
   },
   "source": [
    "## Data Analysis "
   ]
  },
  {
   "cell_type": "markdown",
   "id": "492f9644-f8c8-41a1-b1a8-b18515a3ef81",
   "metadata": {
    "tags": []
   },
   "source": [
    "### Harden vs Player Comparison Pre All Star Game ###"
   ]
  },
  {
   "cell_type": "markdown",
   "id": "2d54dc46-59e7-4b88-be46-c1e6cad91887",
   "metadata": {},
   "source": [
    "Taking what I learned from developing Player Rankings, I can now closely examine certain players stats.\n",
    "\n",
    "- James Harden (Non All Star) \n",
    "\n",
    "vs. \n",
    "\n",
    "- Jrue Holiday \n",
    "- Jaren Jackson Jr\n",
    "- Tyrese Haliburton \n",
    "\n",
    "I am seeking to answer the question \"Did the original AS selections get it right?\". My theory is that they __didn't__ get it right, because Harden was snubbed. I will answer this by looking at Harden and seeing if he should have beat out the other competitors. "
   ]
  },
  {
   "cell_type": "markdown",
   "id": "80578e9f-6959-478d-9898-13f48471888f",
   "metadata": {
    "tags": []
   },
   "source": [
    "### Harden vs Tyrese "
   ]
  },
  {
   "cell_type": "code",
   "execution_count": 5,
   "id": "e9bcb513-8248-43b6-8ea5-ffe947965d61",
   "metadata": {},
   "outputs": [],
   "source": [
    "Pre_APG_Filter = Pre_AS.sort_values('APG', ascending=False)"
   ]
  },
  {
   "cell_type": "code",
   "execution_count": 11,
   "id": "fc7d4ea9-b55e-4525-aa02-96998b39b2e0",
   "metadata": {},
   "outputs": [
    {
     "data": {
      "image/png": "[encoded data removed]",
      "text/plain": [
       "<Figure size 432x288 with 1 Axes>"
      ]
     },
     "metadata": {
      "needs_background": "light"
     },
     "output_type": "display_data"
    }
   ],
   "source": [
    "\n",
    "\n",
    "# Select the two rows to compare\n",
    "Harden = Pre_APG_Filter.iloc[0]  # Select the first row\n",
    "Tyrese = Pre_APG_Filter.iloc[2]  # Select the sixth row\n",
    "\n",
    "# Extract the data from the two rows\n",
    "data1 = Harden[['PPG', 'APG', 'RPG']].tolist()  # Replace column1, column2, and column3 with the column names of interest in row1\n",
    "data2 = Tyrese[['PPG', 'APG', 'RPG']].tolist()  # Replace column1, column2, and column3 with the column names of interest in row2\n",
    "\n",
    "# Create a bar chart to compare the data\n",
    "x_labels = ['PPG', 'APG', 'RPG']  # Replace with the column names\n",
    "x = [ 0.6, 1.6, 2.6]\n",
    "x1 = [ 0.5, 1.5, 2.5]\n",
    "x2 = [ 0.7, 1.7, 2.7 ]\n",
    "\n",
    "plt.bar(x1, data1, label='Harden', width=0.2)\n",
    "plt.bar(x2, data2, label='Tyrese', width=0.2)\n",
    "plt.xticks(x, x_labels)\n",
    "plt.xlabel('Stat categories')\n",
    "plt.ylabel('Stat amounts')\n",
    "plt.title('Comparison of PPG, APG, RPG for James Harden and Tyrese Haliburton')\n",
    "plt.legend()\n",
    "plt.show()\n"
   ]
  },
  {
   "cell_type": "markdown",
   "id": "91f32abe-c779-4bea-8c14-f3c3924075a0",
   "metadata": {},
   "source": [
    "Data analysis:\n",
    "- Harden beat Tyrese in all of the major stats\n",
    "- the Largest separation comes in RPG"
   ]
  },
  {
   "cell_type": "markdown",
   "id": "88b60b7c-2581-44b3-b6b0-6ce0396c8478",
   "metadata": {
    "tags": []
   },
   "source": [
    "### Harden vs Jrue"
   ]
  },
  {
   "cell_type": "code",
   "execution_count": 45,
   "id": "47fcea01-d008-4b06-b1d2-50a0b48a7e38",
   "metadata": {},
   "outputs": [
    {
     "data": {
      "image/png": "[encoded data removed]",
      "text/plain": [
       "<Figure size 432x288 with 1 Axes>"
      ]
     },
     "metadata": {
      "needs_background": "light"
     },
     "output_type": "display_data"
    }
   ],
   "source": [
    "\n",
    "\n",
    "# Select the two rows to compare\n",
    "Harden = Pre_APG_Filter.iloc[0]  # Select the first row\n",
    "Jrue = Pre_APG_Filter.iloc[10]  # Select the sixth row\n",
    "\n",
    "# Extract the data from the two rows\n",
    "data1 = Harden[['PPG', 'APG', 'RPG']].tolist()  # Replace column1, column2, and column3 with the column names of interest in row1\n",
    "data2 = Jrue[['PPG', 'APG', 'RPG']].tolist()  # Replace column1, column2, and column3 with the column names of interest in row2\n",
    "\n",
    "# Create a bar chart to compare the data\n",
    "x_labels = ['PPG', 'APG', 'RPG']  # Replace with the column names\n",
    "\n",
    "x = [ 0.6, 1.6, 2.6]\n",
    "x1 = [ 0.5, 1.5, 2.5]\n",
    "x2 = [ 0.7, 1.7, 2.7 ]\n",
    "\n",
    "plt.bar(x1, data1, label='Harden', width=0.2)\n",
    "plt.bar(x2, data2, label='Jrue', width=0.2)\n",
    "plt.xticks(x, x_labels)\n",
    "plt.xlabel('Stat categories')\n",
    "plt.ylabel('Stat amounts')\n",
    "plt.title('Comparison of PPG, APG, RPG for James Harden and Jrue Holiday')\n",
    "plt.legend()\n",
    "plt.show()"
   ]
  },
  {
   "cell_type": "markdown",
   "id": "d613ad56-a608-464a-bc0b-ef5a3415be09",
   "metadata": {},
   "source": [
    "Data analysis:\n",
    "- Harden once again beats out his opponent.\n",
    "- Harden has significant leads in PPG and APG\n",
    "- Jrue plays better defense which isnt reflected in the data\n",
    "    "
   ]
  },
  {
   "cell_type": "markdown",
   "id": "980d80cd-90d9-4cd9-aed8-b20379b80ce8",
   "metadata": {
    "tags": []
   },
   "source": [
    "### Harden vs Jaren Jackson Jr"
   ]
  },
  {
   "cell_type": "code",
   "execution_count": 46,
   "id": "aca214f7-7587-4c6d-8a9f-7ad522cbd4a3",
   "metadata": {},
   "outputs": [
    {
     "data": {
      "image/png": "[encoded data removed]",
      "text/plain": [
       "<Figure size 432x288 with 1 Axes>"
      ]
     },
     "metadata": {
      "needs_background": "light"
     },
     "output_type": "display_data"
    }
   ],
   "source": [
    "\n",
    "\n",
    "# Select the two rows to compare\n",
    "Harden = Pre_APG_Filter.iloc[0]  # Select the first row\n",
    "JJJ = Pre_APG_Filter.iloc[98]  # Select the sixth row\n",
    "\n",
    "# Extract the data from the two rows\n",
    "data1 = Harden[['PPG', 'APG', 'RPG']].tolist()  # Replace column1, column2, and column3 with the column names of interest in row1\n",
    "data2 = JJJ[['PPG', 'APG', 'RPG']].tolist()  # Replace column1, column2, and column3 with the column names of interest in row2\n",
    "\n",
    "# Create a bar chart to compare the data\n",
    "x_labels = ['PPG', 'APG', 'RPG']  # Replace with the column names\n",
    "\n",
    "x = [ 0.6, 1.6, 2.6]\n",
    "x1 = [ 0.5, 1.5, 2.5]\n",
    "x2 = [ 0.7, 1.7, 2.7 ]\n",
    "\n",
    "plt.bar(x1, data1, label='Harden', width=0.2)\n",
    "plt.bar(x2, data2, label='JJJ', width=0.2)\n",
    "plt.xticks(x, x_labels)\n",
    "plt.xlabel('Stat categories')\n",
    "plt.ylabel('Stat amounts')\n",
    "plt.title('Comparison of PPG, APG, RPG for James Harden and Jaren Jackson Jr')\n",
    "plt.legend()\n",
    "plt.show()"
   ]
  },
  {
   "cell_type": "markdown",
   "id": "19ad07b1-e4e0-48c1-8523-cce691d92abe",
   "metadata": {},
   "source": [
    "Data analysis:\n",
    "- Harden once again beats out his opponent.\n",
    "- Harden has significant leads in PPG and APG\n",
    "- These are the largest possible differences so far.\n",
    "- Harden is beating out JJJ in rebounds which is historically good. Guards rarely beat out centers."
   ]
  },
  {
   "cell_type": "markdown",
   "id": "e6c53b7d-531c-4f65-9e72-65daf2008dbb",
   "metadata": {
    "tags": []
   },
   "source": [
    "### Games played comparison "
   ]
  },
  {
   "cell_type": "code",
   "execution_count": 35,
   "id": "dd44b66a-7e65-4cbc-bb1b-8c118fef9b34",
   "metadata": {},
   "outputs": [
    {
     "data": {
      "image/png": "[encoded data removed]",
      "text/plain": [
       "<Figure size 432x288 with 1 Axes>"
      ]
     },
     "metadata": {
      "needs_background": "light"
     },
     "output_type": "display_data"
    }
   ],
   "source": [
    "\n",
    "\n",
    "# Select the rows you want to compare\n",
    "rows_to_compare = Pre_APG_Filter.loc[Pre_APG_Filter['Name'].isin(['James Harden', 'Jrue Holiday', 'Tyrese Haliburton', 'Jaren Jackson, Jr.'])]\n",
    "\n",
    "# Create a bar graph comparing the values of the selected rows\n",
    "plt.bar(rows_to_compare['Name'], rows_to_compare['Games Played'])\n",
    "\n",
    "# Add axis labels and title\n",
    "plt.xlabel('Players')\n",
    "plt.ylabel('Gampes Played')\n",
    "plt.title('Games Played Pre All Star Break')\n",
    "\n",
    "# Display the graph\n",
    "plt.show()\n",
    "\n"
   ]
  },
  {
   "cell_type": "markdown",
   "id": "dd21b86c-c66b-4f09-a0eb-b14f8e98bb9b",
   "metadata": {},
   "source": [
    "Data analysis:\n",
    "- James harden played a comparable amount of games to the other players, eliminating that as a reason for why Harden didn't make the team.\n",
    "- JJJ played even less games"
   ]
  },
  {
   "cell_type": "markdown",
   "id": "da44f6f2-6baa-46f7-8fe8-a922e9c3f2f2",
   "metadata": {
    "tags": []
   },
   "source": [
    "## Final Conclusions "
   ]
  },
  {
   "cell_type": "markdown",
   "id": "181e8264-5338-443a-bd7a-546cf06d1d41",
   "metadata": {},
   "source": [
    "To answer my hypothesis based off of PPG, RPG, APG, and games played I can confidently say Harden was snubbed.\n",
    "\n",
    "__Harden beat three all stars in the major stats, sometimes by wide margins__\n",
    "\n",
    "The reasons for the other players making the team over harden were largely superficial and ignored the data, these reasons ignored:\n",
    "- Tyrese was a younger and more \"likeable\" player\n",
    "- JJJ and Jrue are considered much better defenders than harden, but that shouldn't make up for the wide margins in other stats\n",
    "\n",
    "__I can confidently say my hypothesis was correct: the original selections were wrong because they didn't include Harden__"
   ]
  }
 ],
 "metadata": {
  "kernelspec": {
   "display_name": "Python 3 (COMM318)",
   "language": "python",
   "name": "python3"
  },
  "language_info": {
   "codemirror_mode": {
    "name": "ipython",
    "version": 3
   },
   "file_extension": ".py",
   "mimetype": "text/x-python",
   "name": "python",
   "nbconvert_exporter": "python",
   "pygments_lexer": "ipython3",
   "version": "3.8.8"
  }
 },
 "nbformat": 4,
 "nbformat_minor": 5
}
