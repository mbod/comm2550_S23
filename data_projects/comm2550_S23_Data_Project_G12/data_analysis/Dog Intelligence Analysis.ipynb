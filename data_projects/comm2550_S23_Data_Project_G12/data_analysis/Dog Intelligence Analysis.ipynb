{
 "cells": [
  {
   "cell_type": "markdown",
   "id": "8a6dc7ce-4eb8-4010-a90d-1aef04dfb70c",
   "metadata": {},
   "source": [
    "# Dog Intelligence Dataframe\n",
    "\n",
    "In this notebook, I open the dog intelligence csv and then make observations about the shape of the data and the distribution of how many breeds are in each intelligence classification. The dog_intelligence csv is based on a study from a University of BC professor named Stanley Coren who was testing how many repetitions are required to teach each dog breed a new trick. Then, Dr.Coren classified these breeds into 6 groups of intelligence."
   ]
  },
  {
   "cell_type": "code",
   "execution_count": 3,
   "id": "3679224a",
   "metadata": {},
   "outputs": [],
   "source": [
    "import pandas as pd\n",
    "import random\n",
    "import numpy as np\n",
    "\n",
    "import matplotlib.pyplot as plt\n",
    "import plotly.express as px\n",
    "import seaborn as sns"
   ]
  },
  {
   "cell_type": "code",
   "execution_count": 4,
   "id": "fa7785a1",
   "metadata": {},
   "outputs": [],
   "source": [
    "dog_int=pd.read_csv('../data/dog_intelligence.csv')"
   ]
  },
  {
   "cell_type": "code",
   "execution_count": 5,
   "id": "ddd8c081",
   "metadata": {},
   "outputs": [
    {
     "data": {
      "text/html": [
       "<div>\n",
       "<style scoped>\n",
       "    .dataframe tbody tr th:only-of-type {\n",
       "        vertical-align: middle;\n",
       "    }\n",
       "\n",
       "    .dataframe tbody tr th {\n",
       "        vertical-align: top;\n",
       "    }\n",
       "\n",
       "    .dataframe thead th {\n",
       "        text-align: right;\n",
       "    }\n",
       "</style>\n",
       "<table border=\"1\" class=\"dataframe\">\n",
       "  <thead>\n",
       "    <tr style=\"text-align: right;\">\n",
       "      <th></th>\n",
       "      <th>Breed</th>\n",
       "      <th>Classification</th>\n",
       "      <th>obey</th>\n",
       "      <th>reps_lower</th>\n",
       "      <th>reps_upper</th>\n",
       "    </tr>\n",
       "  </thead>\n",
       "  <tbody>\n",
       "    <tr>\n",
       "      <th>0</th>\n",
       "      <td>Border Collie</td>\n",
       "      <td>Brightest Dogs</td>\n",
       "      <td>95%</td>\n",
       "      <td>1</td>\n",
       "      <td>4</td>\n",
       "    </tr>\n",
       "    <tr>\n",
       "      <th>1</th>\n",
       "      <td>Poodle</td>\n",
       "      <td>Brightest Dogs</td>\n",
       "      <td>95%</td>\n",
       "      <td>1</td>\n",
       "      <td>4</td>\n",
       "    </tr>\n",
       "    <tr>\n",
       "      <th>2</th>\n",
       "      <td>German Shepherd</td>\n",
       "      <td>Brightest Dogs</td>\n",
       "      <td>95%</td>\n",
       "      <td>1</td>\n",
       "      <td>4</td>\n",
       "    </tr>\n",
       "    <tr>\n",
       "      <th>3</th>\n",
       "      <td>Golden Retriever</td>\n",
       "      <td>Brightest Dogs</td>\n",
       "      <td>95%</td>\n",
       "      <td>1</td>\n",
       "      <td>4</td>\n",
       "    </tr>\n",
       "    <tr>\n",
       "      <th>4</th>\n",
       "      <td>Doberman Pinscher</td>\n",
       "      <td>Brightest Dogs</td>\n",
       "      <td>95%</td>\n",
       "      <td>1</td>\n",
       "      <td>4</td>\n",
       "    </tr>\n",
       "  </tbody>\n",
       "</table>\n",
       "</div>"
      ],
      "text/plain": [
       "               Breed  Classification obey  reps_lower  reps_upper\n",
       "0      Border Collie  Brightest Dogs  95%           1           4\n",
       "1             Poodle  Brightest Dogs  95%           1           4\n",
       "2    German Shepherd  Brightest Dogs  95%           1           4\n",
       "3   Golden Retriever  Brightest Dogs  95%           1           4\n",
       "4  Doberman Pinscher  Brightest Dogs  95%           1           4"
      ]
     },
     "execution_count": 5,
     "metadata": {},
     "output_type": "execute_result"
    }
   ],
   "source": [
    "dog_int.head()"
   ]
  },
  {
   "cell_type": "code",
   "execution_count": 6,
   "id": "4a18af8f",
   "metadata": {},
   "outputs": [
    {
     "data": {
      "text/plain": [
       "(136, 5)"
      ]
     },
     "execution_count": 6,
     "metadata": {},
     "output_type": "execute_result"
    }
   ],
   "source": [
    "dog_int.shape"
   ]
  },
  {
   "cell_type": "code",
   "execution_count": 7,
   "id": "75c9805d-4292-4538-aa8e-35b483e7128e",
   "metadata": {},
   "outputs": [
    {
     "data": {
      "text/html": [
       "<div>\n",
       "<style scoped>\n",
       "    .dataframe tbody tr th:only-of-type {\n",
       "        vertical-align: middle;\n",
       "    }\n",
       "\n",
       "    .dataframe tbody tr th {\n",
       "        vertical-align: top;\n",
       "    }\n",
       "\n",
       "    .dataframe thead th {\n",
       "        text-align: right;\n",
       "    }\n",
       "</style>\n",
       "<table border=\"1\" class=\"dataframe\">\n",
       "  <thead>\n",
       "    <tr style=\"text-align: right;\">\n",
       "      <th></th>\n",
       "      <th>Breed</th>\n",
       "      <th>Classification</th>\n",
       "      <th>obey</th>\n",
       "      <th>reps_lower</th>\n",
       "      <th>reps_upper</th>\n",
       "    </tr>\n",
       "  </thead>\n",
       "  <tbody>\n",
       "    <tr>\n",
       "      <th>92</th>\n",
       "      <td>Staffordshire Bull Terrier</td>\n",
       "      <td>Average Working/Obedience Intelligence</td>\n",
       "      <td>50%</td>\n",
       "      <td>26</td>\n",
       "      <td>40</td>\n",
       "    </tr>\n",
       "    <tr>\n",
       "      <th>107</th>\n",
       "      <td>French Bulldog</td>\n",
       "      <td>Fair Working/Obedience Intelligence</td>\n",
       "      <td>30%</td>\n",
       "      <td>41</td>\n",
       "      <td>80</td>\n",
       "    </tr>\n",
       "    <tr>\n",
       "      <th>121</th>\n",
       "      <td>Bull Terrier</td>\n",
       "      <td>Fair Working/Obedience Intelligence</td>\n",
       "      <td>30%</td>\n",
       "      <td>41</td>\n",
       "      <td>80</td>\n",
       "    </tr>\n",
       "    <tr>\n",
       "      <th>124</th>\n",
       "      <td>Bullmastiff</td>\n",
       "      <td>Fair Working/Obedience Intelligence</td>\n",
       "      <td>30%</td>\n",
       "      <td>41</td>\n",
       "      <td>80</td>\n",
       "    </tr>\n",
       "    <tr>\n",
       "      <th>133</th>\n",
       "      <td>Bulldog</td>\n",
       "      <td>Lowest Degree of Working/Obedience Intelligence</td>\n",
       "      <td>NaN</td>\n",
       "      <td>81</td>\n",
       "      <td>100</td>\n",
       "    </tr>\n",
       "  </tbody>\n",
       "</table>\n",
       "</div>"
      ],
      "text/plain": [
       "                          Breed  \\\n",
       "92   Staffordshire Bull Terrier   \n",
       "107              French Bulldog   \n",
       "121                Bull Terrier   \n",
       "124                 Bullmastiff   \n",
       "133                     Bulldog   \n",
       "\n",
       "                                       Classification obey  reps_lower  \\\n",
       "92             Average Working/Obedience Intelligence  50%          26   \n",
       "107               Fair Working/Obedience Intelligence  30%          41   \n",
       "121               Fair Working/Obedience Intelligence  30%          41   \n",
       "124               Fair Working/Obedience Intelligence  30%          41   \n",
       "133  Lowest Degree of Working/Obedience Intelligence   NaN          81   \n",
       "\n",
       "     reps_upper  \n",
       "92           40  \n",
       "107          80  \n",
       "121          80  \n",
       "124          80  \n",
       "133         100  "
      ]
     },
     "execution_count": 7,
     "metadata": {},
     "output_type": "execute_result"
    }
   ],
   "source": [
    "dog_int[dog_int['Breed'].str.contains('Bull')]"
   ]
  },
  {
   "cell_type": "code",
   "execution_count": 8,
   "id": "864c0ad2-5dc4-4dc0-948c-d7891a26dbc5",
   "metadata": {},
   "outputs": [
    {
     "data": {
      "text/plain": [
       "<Axes: title={'center': 'Number of Breeds Per Intelligence Classification'}, xlabel='Intelligence Class', ylabel='Number of Breeds'>"
      ]
     },
     "execution_count": 8,
     "metadata": {},
     "output_type": "execute_result"
    },
    {
     "data": {
      "image/png": "[encoded data removed]",
      "text/plain": [
       "<Figure size 432x288 with 1 Axes>"
      ]
     },
     "metadata": {
      "needs_background": "light"
     },
     "output_type": "display_data"
    }
   ],
   "source": [
    "int_order=[\"Brightest Dogs\", \"Excellent Working Dogs\", \"Above Average Working Dogs\", \"Average Working/Obedience Intelligence\", \"Fair Working/Obedience Intelligence\", \"Lowest Degree of Working/Obedience Intelligence \"]\n",
    "breeds_by_int=dog_int.groupby(\"Classification\")[\"Breed\"].count().loc[int_order]\n",
    "breeds_by_int\n",
    "breeds_by_int.plot(kind='bar',title=\"Number of Breeds Per Intelligence Classification\", ylabel=\"Number of Breeds\", xlabel=\"Intelligence Class\")"
   ]
  },
  {
   "cell_type": "code",
   "execution_count": null,
   "id": "22b48228-26f5-46e6-aee9-5d2d74c9b867",
   "metadata": {},
   "outputs": [],
   "source": []
  }
 ],
 "metadata": {
  "kernelspec": {
   "display_name": "Python 3 (COMM318)",
   "language": "python",
   "name": "python3"
  },
  "language_info": {
   "codemirror_mode": {
    "name": "ipython",
    "version": 3
   },
   "file_extension": ".py",
   "mimetype": "text/x-python",
   "name": "python",
   "nbconvert_exporter": "python",
   "pygments_lexer": "ipython3",
   "version": "3.8.8"
  }
 },
 "nbformat": 4,
 "nbformat_minor": 5
}
