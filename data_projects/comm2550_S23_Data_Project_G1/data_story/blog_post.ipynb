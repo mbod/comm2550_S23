{
 "cells": [
  {
   "cell_type": "markdown",
   "id": "92915cb8-d23e-4aaa-b419-7a970d44add3",
   "metadata": {},
   "source": [
    "# COMM2550 Spring 2023 \n",
    "# **Crime and Light:**\n",
    "## Data: Street Lights, Crime, Philly Districts (OpenDataPhilly)\n",
    "**Annabel Sumardi and Michael Li**\n",
    "\n",
    "---\n",
    "## Making interpretations on the presence of street lights and crime in the Philadelphia datasets \n",
    "- Looking into whether light affects amount of crime\n",
    "\n",
    "### The Data \n",
    "- Data is available on opendataphilly.org\n",
    "    - *Street Light data*: https://opendataphilly.org/datasets/street-poles/ \n",
    "    - *Crime data*: https://opendataphilly.org/datasets/crime-incidents/\n",
    "    - *Philly Police District data*: https://opendataphilly.org/datasets/police-districts/\n",
    "    - *Philly Sunset data*: provided by Prof. O'Donnell\n",
    "    - *Philly Neighborhood data*: https://github.com/blackmad/neighborhoods/blob/master/gn-philadelphia.geojson\n",
    "\n",
    "* Related articles\n",
    "    * https://urbanlabs.uchicago.edu/projects/crime-lights-study\n",
    "    * https://popcenter.asu.edu/content/improving-street-lighting-reduce-crime-residential-areas-page-2 \n",
    "\n",
    " \n",
    "**Research Question**: Does the presence of street light poles in a neighborhood have a correlation with crime rates in that area? What inferences or further questions can we make based on a correlational relationship?\n",
    "\n",
    "**Analysis:**\n",
    "What parts of Philly are better lit? Why?\n",
    "What parts of Philly have more crime? \n",
    "Does the amount of light in certain Philly districts affect the amount of crime in that district? \n",
    "\n",
    "**Hypothesis**: We hypothesize that the presence of light poles in a neighborhood has a negative correlation with crime rates. If we add more light poles into a neighborhood, the crime rates will go down. \n",
    "\n",
    "**Possible conclusions**: If the results show a negative correlation between light pole presence and crime rates, it can be concluded that increasing the number of light poles in a neighborhood may be an effective strategy for reducing crime. If there is no significant correlation between light pole presence and crime rates, it may be necessary to investigate other factors that may be contributing to crime in the area.\n",
    "*Similarly, crime rates can be correlated to other data sets, so note there could be confounding variables even if we find a correlation.*"
   ]
  },
  {
   "cell_type": "markdown",
   "id": "86f39128-e68a-468b-b15d-ff2539861c81",
   "metadata": {
    "tags": []
   },
   "source": [
    "### Our Data Analysis, Explained and Interpreted\n",
    "In the data_analysis notebook, we analyzed the correlation between brightness and crime. In order to do so, we are utilizing the Open Data Philly datasets which regard Street Pole presence and Crime presence. "
   ]
  },
  {
   "cell_type": "markdown",
   "id": "53f96c65-bc3e-421d-89eb-ecbbde2ffb05",
   "metadata": {},
   "source": [
    "**0. Before beginning our data analysis,** \n",
    "- We imported the Philly police district data in order to add district borders onto our map. This will help better visualize the data. \n",
    "- We later decided we wanted to dive into the data with more granularity, which we eventually plotted by neighborhood. This allowed us to visualize the data in more granular sectors than police district."
   ]
  },
  {
   "cell_type": "markdown",
   "id": "8336c0b7-0f52-4502-bae4-61fb3f3c49f8",
   "metadata": {},
   "source": [
    "**1. First, we must aggregate the street pole data onto a map of brightness.** \n",
    "- Because there is a mass amount of street lights, the map appears to be fully covered when not accounting for density of the lights. Thus, we decided to try heat mapping the street light presence. \n",
    "    - This way, our data illustrates where the street lights are most present with the use of the darker green shades, an example of the expressiveness principle. Because we associate darker colors with higher density, this choice of visualization matches what a viewer would most easily interpret. \n",
    "    - *In the hexplot,* we saw how the districts surrounding Center City, spanning from Chinatown area to Fishtown area, seemed to have the highest number of street lights. This fact makes sense as the downtown area in Philly is more populated and more visited, thus street poles are more necessary. \n",
    "    - *In the heatmap,* the districts with the most amount of street lights actually appear to be a bit further out than Center City. This could be due to the fact that the districts are all different sizes, so the larger districts will by nature have more street lights since there is more area to cover. "
   ]
  },
  {
   "cell_type": "markdown",
   "id": "f945b2fd-180e-4b27-8bec-ab1433b70fc5",
   "metadata": {
    "tags": []
   },
   "source": [
    "<font color=\"ForestGreen\"> **Used the following codeblock to plot out street pole heatmap** </font>\n",
    "\n",
    "> <font color=\"ForestGreen\"> fig, ax = plt.subplots(figsize=(10,10))  \n",
    "> district_pole_gdf.plot(column='pole_count', cmap='BuGn', linewidth=1, ax=ax, edgecolor='black', legend=True)  \n",
    "> ax.set_xlabel('Longitude')  \n",
    "> ax.set_ylabel('Latitude')  \n",
    "> ax.set_title('Street Poles Heatmap by District')  \n",
    "> dplot=districts_gdf.apply(show_district_nums, axis=1)  \n",
    "</font>"
   ]
  },
  {
   "cell_type": "markdown",
   "id": "16b167e9-19a9-435d-8b93-742aa1b444fc",
   "metadata": {},
   "source": [
    "**2. Second, we heatmapped the Crime presence by district.** \n",
    "- We wanted to have a way to eventually aggregate our light and crime data, so sorting by district allowed us to do so. \n",
    "    - We first mapped the crimes onto the same map of Philly as the street lights were mapped onto, utilizing a method of heat mapping to best illustrate where the crimes were most occurring. \n",
    "    - We noted how the districts with the highest crime did not line up with the districts with the highest amount of street lights, so if we find a correlation, then this fact supports the idea it would be a negative correlation instead of a positive correlation.\n",
    "    - *In the heatmap,* the crime data appeared to be the highest in a couple of districts, one of which bordered the UPenn Drexel area. "
   ]
  },
  {
   "cell_type": "markdown",
   "id": "cb0a0b30-6e4c-4cc3-af2d-81a5d3300818",
   "metadata": {},
   "source": [
    "<font color=\"ForestGreen\"> **Used the following codeblock to plot out night crimes on a heatmap** </font>\n",
    "\n",
    "> <font color=\"ForestGreen\"> fig, ax = plt.subplots(figsize=(10,10))  \n",
    "district_crime_gdf.plot(column='all_night_crimes', cmap='BuPu', linewidth=1, ax=ax, edgecolor='black', legend=True)  \n",
    "ax.set_xlabel('Longitude')  \n",
    "ax.set_ylabel('Latitude')  \n",
    "ax.set_title('Number of Night Crimes per District', fontsize=16)  \n",
    "districts_gdf.apply(show_district_nums, axis=1) </font>"
   ]
  },
  {
   "cell_type": "markdown",
   "id": "b09cf003-1a1d-44de-8d51-7b8af77be013",
   "metadata": {},
   "source": [
    "**3. Finally, we aggregated the data into a table together,** integrating the datasets into a multi-variable data table. With the correlation tool, we illustrated how there is a `0.53` correlation between street lights and crime. Because our tables and heatmaps suggest that a higher amount of light correlates to slightly less crime, we could lean toward the idea that light and crime have a negative correlation. Thus, more light could lead to a decrease in crime, as we hypothesized. "
   ]
  },
  {
   "cell_type": "markdown",
   "id": "32f46254-e25a-404b-bc95-c4d5a9760a8e",
   "metadata": {},
   "source": [
    "<font color=\"ForestGreen\"> **Used the following codeblock to find correlations** </font>\n",
    "\n",
    "> <font color=\"ForestGreen\"> combined_df[['pole_count', 'all_night_crimes']].corr() </font>"
   ]
  },
  {
   "cell_type": "markdown",
   "id": "97acc92a-5f0f-4819-977b-2964c8e0b6bd",
   "metadata": {},
   "source": [
    "**4. At this point, we wanted to dig a little deeper into our data,** as we already set the baseline steps for the coding and heatmapping. We decided to ask the question, could light affect different types of crime different amounts? \n",
    "- First, we created a filter which split the crime data into severe crimes, which we defined as ‘Aggravated Assault No Firearm’, 'Aggravated Assault Firearm', 'Rape', 'Other Sex Offenses (Not Commercialized)', 'Arson', and 'Offenses Against Family and Children'. \n",
    "- Second, we created a filter which split the crime data into petty crimes, which we defined as 'Thefts', 'Theft from Vehicle', 'Robbery No Firearm', 'Burglary Non-Residential', ‘Vandalism/Criminal Mischief', 'Disorderly Conduct', 'DRIVING UNDER THE INFLUENCE', 'Prostitution and Commercialized Vice', 'Public Drunkenness', 'Liquor Law Violations', and 'Gambling Violations'. \n",
    "- Using these two filters, we followed the same steps we used in heatmapping all night crimes to create two new heatmaps which illustrated where severe cirmes were most present as well as where petty crimes were most present. \n",
    "- Then, we followed our same correlation table steps to define the correlations between lights and severe crime and lights and petty crime. We observed that light and severe crime had a correlation of `.36`, and then we noted that light and petty crime had a correlation of `.50`. \n",
    "- The light and severe crime correlation was relatively weaker compared to the light and petty crime correlation. We felt this made sense as petty crimes like pickpocketing might be prevented by the presence of light, due to the added difficulty which the ability to see or spot who the criminal is induces. \n",
    "- The weaker correlation between light and severe crime might be due to the fact that a street lamp would probably not prevent a murderer or other violent crime from occurring.  "
   ]
  },
  {
   "cell_type": "markdown",
   "id": "fab73f19-fc32-4477-b36a-53419003d986",
   "metadata": {},
   "source": [
    "**5. After our presentation, we decided the next step would be to increase the granularity of our analysis,** and we decided to accomplish this goal by mapping by neighborhood. \n",
    "- We could note that Frankford has the highest amount of severe crimes, with a count of `44` severe crimes.\n",
    "    - We then decided to zoom into this neighborhood to visualize how Franford's severe crime and street light data mapped out\n",
    "        - Frankford is a neighborhood located in the Northeast section of Philadelphia that has experienced some of the highest rates of severe crime in the city. According to crime statistics from the Philadelphia Police Department, Frankford consistently ranks as one of the top neighborhoods in the city for incidents of assault and other severe crimes.\n",
    "        - The visualization was intriguing, but it did not actually reveal a large amount of correlation between street poles and severe crime. Because we have previously noted how severe crime and street lights have a weaker correlation, this could be due to the fact that we are analyzing based on severe crimes. \n",
    "- So we could also note that Upper Kensington has the highest amount of petty crimes, at a count of `97`. \n",
    "    - We decided to zoom into Upper Kensington with a similar visualization style as Franford. \n",
    "        - Upper Kensington is a neighborhood located in the Lower Northeast section of Philadelphia that has experienced some of the highest rates of petty crime in the city. Petty crimes are typically nonviolent offenses that involve theft or property damage.\n",
    "        - According to crime statistics from the Philadelphia Police Department, Upper Kensington consistently ranks as one of the top neighborhoods in the city for incidents of petty crime. These types of crimes can have a significant impact on the quality of life for residents, as they create a sense of insecurity and vulnerability. \n",
    "- Both of these neighborhoods are located along the SEPTA Market-Frankford line, which could contribute to their higher instances of crime. This could be a counfounding variable which is making us visualize correlation where there may not be any. This is just to emphasize that any correlation we note does not equal causation. "
   ]
  },
  {
   "cell_type": "markdown",
   "id": "79a71452-f4bc-4228-a406-bbb4a93f37c8",
   "metadata": {},
   "source": [
    "<font color=\"ForestGreen\"> **Used the following codeblock to map Upper Kensington** </font>\n",
    "\n",
    "> <font color=\"ForestGreen\"> uk_pole_density = len(uk_sp_gdf) / uk_gdf.geometry.iloc[0].area  \n",
    "    uk_crime_density = len(uk_petty_gdf) / uk_gdf.geometry.iloc[0].area  \n",
    "    uk_pole_normalized_count = len(uk_sp_gdf) / uk_gdf.geometry.iloc[0].area * .000001  \n",
    "    uk_crime_normalized_count = len(uk_petty_gdf) / uk_gdf.geometry.iloc[0].area * .0005  \n",
    "    fig, ax = plt.subplots(figsize=(10, 10))  \n",
    "    uk_gdf.plot(ax=ax, color='lightgrey', edgecolor='black', label='Upper Kensington')  \n",
    "    uk_sp_gdf.plot(ax=ax, color='red', markersize=uk_pole_normalized_count, label='Street Poles')  \n",
    "    uk_petty_gdf.plot(ax=ax, color='blue', markersize=uk_crime_normalized_count, label='Petty Crimes')  \n",
    "    ax.set_title('Street Poles and Petty Crimes in Upper Kensington')      \n",
    "    ax.legend() \n",
    "    plt.show()   </font>"
   ]
  },
  {
   "cell_type": "markdown",
   "id": "9c609645-92ae-4f88-b9a0-f83ec7799bcd",
   "metadata": {},
   "source": [
    "--- \n",
    "\n",
    "This knowledge obtained from our data could contribute to city-wide solutions for preventing crime and decreasing overall crime rates. By increasing the presence of street lights, districts could be made safer. This could be due to the fact that it is easier to commit a crime if one cannot be seen, so adding lights could counteract that idea. We could also look to the idea that [citizens feel safer when walking under light as opposed to down a dark alley](https://citymonitor.ai/infrastructure/architecture-design/what-makes-people-feel-safe-night-science-street-lights-4251). In whatever reasoning, if increasing the amount of lights could help decrease crime, then it would be a good idea to install more lights, especially in crime-heavy areas. Especially if the change would be within Philly's budget, then it could serve a positive purpose."
   ]
  },
  {
   "cell_type": "markdown",
   "id": "90871003-a15b-4201-8d97-5ca69ab51c4a",
   "metadata": {
    "tags": []
   },
   "source": [
    "Overall, analyzing the correlation between brightness and crime using Open Data Philly datasets can provide valuable insights into how light levels can impact crime rates in a city. By using data to inform policy decisions and allocate resources more effectively, we can work towards creating a safer and more secure city for everyone. This was a really fun project for us to work on in order to test our Python skills on real data. "
   ]
  },
  {
   "cell_type": "code",
   "execution_count": null,
   "id": "158a5c6d-bb4c-425d-b966-277b4f1314c7",
   "metadata": {},
   "outputs": [],
   "source": []
  }
 ],
 "metadata": {
  "kernelspec": {
   "display_name": "Python 3.8",
   "language": "python",
   "name": "python3"
  },
  "language_info": {
   "codemirror_mode": {
    "name": "ipython",
    "version": 3
   },
   "file_extension": ".py",
   "mimetype": "text/x-python",
   "name": "python",
   "nbconvert_exporter": "python",
   "pygments_lexer": "ipython3",
   "version": "3.8.8"
  }
 },
 "nbformat": 4,
 "nbformat_minor": 5
}
