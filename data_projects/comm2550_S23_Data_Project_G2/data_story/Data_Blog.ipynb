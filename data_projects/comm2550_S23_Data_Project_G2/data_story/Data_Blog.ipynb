{
 "cells": [
  {
   "cell_type": "markdown",
   "id": "2afa707c-47f7-4799-9cc7-f19aca7c8064",
   "metadata": {},
   "source": [
    "# Final Data Project\n",
    "\n",
    "## Blog post\n",
    "\n",
    "## COMM2550 (Spring 2023)"
   ]
  },
  {
   "cell_type": "markdown",
   "id": "9e09d667-5335-4c2c-b98b-68e187f15b4b",
   "metadata": {},
   "source": [
    "BREAKING: Graffiti rates in Manhattan SPIKE in March 2022. What can account for this huge rise in graffiti incidents? An article in THE CITY \"Graffiti on Subway Surges as World Visits NYC for ‘Risky Game’\" by Jose Martinez explains that following the deaths of two popular graffiti artists, Julien Blanc and Pierre Audebert, the tagging of subway cars skyrocketed. Many street artists that come from abroad want to be able to \"make their mark\" and tag a subway car in the \"birthplace of subway grafitti\" as described in the article. As restrictions on international travel were lifted in the heart of 2022 as the world began to exit the pandemic, the NYPD saw an increase in vandalised subway cars.   "
   ]
  },
  {
   "cell_type": "markdown",
   "id": "7f2bd85e-5203-4f17-9edd-f91e3c935c8c",
   "metadata": {},
   "source": [
    "__As one of the world's most populous and diverse cities, New York City has a reputation for being busy, noisy, and often, chaotic. Manhattan, the most populous borough of NYC is known for its iconic skyline, bustling streets, and diverse population. With so many people living and working in close proximity, it is no surprise to 3 native New Yorkers like us that issues such as vandalism can be a concern in NYC, especially Manhattan. As a result, we took the opportunity to explore the number of graffiti complaints in Manhattan in the year 2022, using data found in the NYC Open Data Portal. Additionally, we wanted to examine crime complaints in Manhattan in 2022 and see if there was a relationship between crime and graffiti rates.__"
   ]
  },
  {
   "cell_type": "markdown",
   "id": "178f1ea4-6ce1-46b3-ab99-9717bac81997",
   "metadata": {},
   "source": [
    "__The main question we sought out to answer was \"Is there a positive correlation between the number of graffiti incidents and reported crime incidents in Manhattan in the year 2022?\" We formed 2 hypothesis: there will be more incidents of graffiti in areas with higher crime rates and downtown Manhattan may have a negative correlation between crime and graffiti due to the change in cultural acceptance of graffiti as a modern art form.__"
   ]
  },
  {
   "cell_type": "markdown",
   "id": "6d0a6b3f-55cb-4cee-88e1-3b7fee0a117f",
   "metadata": {},
   "source": [
    "__First, we examined the 2022 Manhattan graffiti data. There were 3,160 reported complaints of graffiti in that borough in 2022. After exploring the data through its difference variables including area code and City Council District, we compiled the data and plotted it according to its longitude and latitude coordinates onto a map of NYC using dots to represent graffiti complaints (see below).__"
   ]
  },
  {
   "cell_type": "markdown",
   "id": "7f847bcf-5ddc-435c-ae79-521561bf34de",
   "metadata": {},
   "source": [
    "![](img/image1.png)"
   ]
  },
  {
   "cell_type": "markdown",
   "id": "82af849f-05c4-4164-8fcd-6bb5300e777c",
   "metadata": {},
   "source": [
    "__After representing the data on this map, we realized we needed a more efficient way to display the data, especially given that we would need to compare and contrast it to the crime complaints in Manhattan. As a result, we examined the graffiti complaints report by precinct then mapped our findings using a heat map, with the darker areas representing precincts/areas with more reported graffiti complains in 2022 (see below). The southeast part of Manhattan as well as the area just North of Central Park by far had the most reported graffiti incidents, while Central Park and the very southern tip of Manhattan did not have many cases.__"
   ]
  },
  {
   "cell_type": "markdown",
   "id": "945090ee-ef1c-4ae7-a022-f25ab73b5e54",
   "metadata": {},
   "source": [
    "![](img/image2.png)"
   ]
  },
  {
   "cell_type": "markdown",
   "id": "dc5698c2-165d-470b-8d20-3b8027553145",
   "metadata": {},
   "source": [
    "**While it is interesting to see the year's worth of graffiti complaints plotted out on a map to see which areas are most/least heavily concentrated with vandalism, we also thought it would be interesting to look into what times of the year were most/least common for graffiti incidents (see below). As explained above, there was a large spike in graffiti complaints in March of 2022 with 531 complaints filed. While we could not find much causation for this spike in our research, articles point towards higher numbers relating to a specific increase in the MTA ((source:[https://www.thecity.nyc/2022/5/5/23059299/graffiti-on-subway-surges-as-world-visits-nyc]. Perhaps this may not have to do with the graffiti specifically, but instead the quick dip in COVID-19 cases that would result in increased public transport as seen (source: [https://www.nyc.gov/site/doh/covid/covid-19-data-totals.page].**\n",
    "\n",
    "**From April to November, there was relatively few complaints compared to March, with those months never exceeding 300 graffiti complaints. The data increases for the month of December, finishing off the year with 362 complaints, a number not far from the 299 complaints filed at the start of the year in January**"
   ]
  },
  {
   "cell_type": "markdown",
   "id": "47a76e19-3b82-45ee-a5e8-f824f5242b06",
   "metadata": {},
   "source": [
    "![](img/image3.png)"
   ]
  },
  {
   "cell_type": "markdown",
   "id": "cc1ffca8-6ed5-4a7b-946b-29b904c137a9",
   "metadata": {},
   "source": [
    "__After analyzing the graffiti complaint data, we took similar steps in analyzing the crime complaint data. There were much more crime complaints in Manhattan in 2022 than complaints of graffiti. We worked with a dataset of over 130,000 observed crime complaints. After loading the data, we examined different variables such as victim age, race, and gender. After plotting the data as dots onto the map of NYC, it was impossible to draw any conclusions since it was unclear which areas of NYC were more densely populated with crime complaints over others (see below).__"
   ]
  },
  {
   "cell_type": "markdown",
   "id": "a99c6c9c-06e0-4094-9a2d-00baf8fab82c",
   "metadata": {},
   "source": [
    "![](img/image4.png)"
   ]
  },
  {
   "cell_type": "markdown",
   "id": "0047b163-0d35-443e-a7b9-4325da96766d",
   "metadata": {},
   "source": [
    "__As a result, we created a heat map of the crime complaints to better represent and understand the density of the data in different areas of Manhattan (see below). The area with the highest number of crime complaints (16,000 complaints) is right Harlem. Directly to the Northeast of Central Park and to the Southeast of Central Park (near the Theater District), there are roughly 13,000 crimes reported. To the East and West of Central Park, there are roughly 10,000 crime complaints. Other areas such as the Southern part of Manhattan and the very north of Manhattan have the fewest reported crimes.__"
   ]
  },
  {
   "cell_type": "markdown",
   "id": "2265b467-49a0-4f25-afb5-4e670346d1ec",
   "metadata": {},
   "source": [
    "![](img/image5.png)"
   ]
  },
  {
   "cell_type": "markdown",
   "id": "d6ea9223-be17-4334-89fc-0b7fe0ed70c8",
   "metadata": {},
   "source": [
    "__At this point, it came time to map the two datasets on top of one another to explore the findings and answer our research question. We took the heat map of crime complaints and mapped the dots representing the graffiti complaints on top in order to compare areas of high vs low density.__"
   ]
  },
  {
   "cell_type": "markdown",
   "id": "e2f800ef-4ed1-46d1-8961-cc48f6cee8ac",
   "metadata": {},
   "source": [
    "![](img/image6.png)"
   ]
  },
  {
   "cell_type": "markdown",
   "id": "6b14b9f9-6725-48ab-90f5-ad3588d3c398",
   "metadata": {},
   "source": [
    "__As we can see, the area with the highest number of crime complaints (15,000 complaints), in Harlem, is also reported to have a large sum graffiti incidents. Graffiti complaints are heavily concentrated both in Harlem as well as in the southeast part of Manhattan (near the Lower East Side), in areas where there were roughly 5,000-12,500 crime complaints in 2022. Additionally, there is a concentration of graffiti complaints found in the Upper East Side, where there are roughly 10,000 crime complaints.__"
   ]
  },
  {
   "cell_type": "markdown",
   "id": "484ea0ce-bb6e-46e5-9aca-e206352b975c",
   "metadata": {},
   "source": [
    "__After calculating and plotting the correlation between the two datasets, we can officially answer our big question and state there is correlation between the relationship of graffiti complaints and crime complaints in Manhattan in 2022 (see below).__"
   ]
  },
  {
   "cell_type": "markdown",
   "id": "f0380a36-098f-4da9-a755-4436c92e9338",
   "metadata": {},
   "source": [
    "![](img/image7.png)"
   ]
  },
  {
   "cell_type": "markdown",
   "id": "20b8f9ee-a42d-4972-a156-e2584bbfa4dd",
   "metadata": {},
   "source": [
    "![](img/image8.png)"
   ]
  },
  {
   "cell_type": "markdown",
   "id": "a75e3039-546c-4f39-9c49-9e6efbfefff8",
   "metadata": {},
   "source": [
    "__It is important to note that due to the lack of perfect correlation, there are areas where no relationship is found between the two variables. For example, Midtown and East Harlem have more crime complaints than graffiti complaints. On the other hand, areas such as Soho and Chinatown have in proportion, fewer crime complaints than graffiti complaints.__"
   ]
  },
  {
   "cell_type": "markdown",
   "id": "97dafc85-c9fc-4eb0-8b52-e1eb5a8f6d4f",
   "metadata": {},
   "source": [
    "__After exploring this data and its relationship, we wanted to explore another dataset looking at various trends that exist in different parts of Manhattan. We pulled a dataset on Protected Streets from NYC Open Data. Protected Streets are streets that have been resurfaced or rehabilitated in the past five years. After loading the data and examining the data in Manhattan, we saw these results.__"
   ]
  },
  {
   "cell_type": "markdown",
   "id": "0ed56b56-22d1-4331-8cbd-08108c88b23a",
   "metadata": {},
   "source": [
    "![](img/image9.png)"
   ]
  },
  {
   "cell_type": "markdown",
   "id": "38cf0bbf-40b2-4286-aceb-de5ccada6bcc",
   "metadata": {},
   "source": [
    "__While this didn't mean much to us and didn't leave us with the opportunity to fully understand the density of protected streets in different areas, we decided to numerically focus on the amount of protected streets located in each neighborhood and then plot them onto a heat map to see which neighborhoods had the most/least protected streets.__"
   ]
  },
  {
   "cell_type": "markdown",
   "id": "203763e3-8707-4ec8-9f72-51507e271f5b",
   "metadata": {},
   "source": [
    "![](img/image10.png)"
   ]
  },
  {
   "cell_type": "markdown",
   "id": "8e536137-19d9-4765-82ad-10b6442d9ec7",
   "metadata": {},
   "source": [
    "__As depicted, Harlem had the most amount of protected streets -- roughly 350. Other neighborhoods such as the Upper West Side and Midtown as well as the Upper East Side and Washington Heights also had a high number of protected streets. The very Northern tip of Manhattan and the very Southern tip did not have many protected streets.__"
   ]
  },
  {
   "cell_type": "markdown",
   "id": "35681890-1b1d-4f4d-96f9-c4395103c26d",
   "metadata": {},
   "source": [
    "__In order to view the trends found in different neighborhoods when it comes to graffiti complaints, crime complaints, and protected streets, we lined up the heat maps side-by-side.__"
   ]
  },
  {
   "cell_type": "markdown",
   "id": "8f55c671-039c-4fa8-a04e-beb4ebf5a1a7",
   "metadata": {},
   "source": [
    "![](img/image11.png)"
   ]
  },
  {
   "cell_type": "markdown",
   "id": "3f3061bd-db3e-4c8c-adb7-8f132eafbdbb",
   "metadata": {},
   "source": [
    "__It is clear that Harlem has the most amount of graffiti reports, crime complaints, and protected streets. Midtown has a large number of both crime complaints as well as protected streets. The Upper East side has a large number of both graffiti complaints and protected streets. It is interesting to note that while the Lower East Side has much reported graffiti, it does not have a large number of crime complaints or protected streets.__"
   ]
  },
  {
   "cell_type": "markdown",
   "id": "c0f0da6e-8470-49a7-a53c-d6ebca7c3bd4",
   "metadata": {},
   "source": [
    "__While there are recognizable patterns and trends across the three heat maps, it is impossible to define their relationship without exploring their correlations.__"
   ]
  },
  {
   "cell_type": "markdown",
   "id": "363a5166-95e1-43d4-85ba-b2fa0e8bc7a9",
   "metadata": {},
   "source": [
    "![](img/image12.png)"
   ]
  },
  {
   "cell_type": "markdown",
   "id": "77ab7a1d-2f75-48c4-8f3a-7b4d3244013b",
   "metadata": {},
   "source": [
    "__As expected, we see there is a correlation between all three variables. We see that the more protected streets a neighborhood has, the more graffiti complaints and crime complaints there are. One confounder that is important to address is the fact that the neighborhoods (such as Harlem) that have high densities on most if not all the variables may be because the volume of that neighborhood is largely, so naturally, there are more spacial opportunities for protected streets, graffiti incidents, and crime.__"
   ]
  },
  {
   "cell_type": "markdown",
   "id": "c00f23e7-fab3-4fad-bcd4-9a949f8dbc4b",
   "metadata": {},
   "source": [
    "__Our confound aside, we were able to successfully find a relationship between crime and graffiti incidents, suggesting that in areas with higher crime rates, there tends to be more acts of vandalism. Tying the protected streets into the mix, based on our findings, we suggest that areas with more protected streets more likely needed the roads to be refurbished in the past five years because they are poorly-kept/maintained neighborhoods and as a result, acts of crime and vandalism run more rampant.__"
   ]
  }
 ],
 "metadata": {
  "citation-manager": {
   "items": {}
  },
  "kernelspec": {
   "display_name": "Python 3.8",
   "language": "python",
   "name": "python3"
  },
  "language_info": {
   "codemirror_mode": {
    "name": "ipython",
    "version": 3
   },
   "file_extension": ".py",
   "mimetype": "text/x-python",
   "name": "python",
   "nbconvert_exporter": "python",
   "pygments_lexer": "ipython3",
   "version": "3.8.8"
  }
 },
 "nbformat": 4,
 "nbformat_minor": 5
}
