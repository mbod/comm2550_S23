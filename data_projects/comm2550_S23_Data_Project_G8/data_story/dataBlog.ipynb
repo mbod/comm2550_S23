{
 "cells": [
  {
   "cell_type": "markdown",
   "id": "e6bffffa-fbd9-49b7-b641-8f5245a2b370",
   "metadata": {},
   "source": [
    "# Police Misconduct and Violence Rates: A Troubling Correlation "
   ]
  },
  {
   "cell_type": "markdown",
   "id": "0e03763f-81ae-4d4a-a9f9-a736fedec2ec",
   "metadata": {},
   "source": [
    "![](traffic.jpg)"
   ]
  },
  {
   "cell_type": "markdown",
   "id": "bf1e8f70-408e-4120-8db3-3aa4c7055506",
   "metadata": {},
   "source": [
    "#### By: Jalen Patel\n",
    "---"
   ]
  },
  {
   "cell_type": "markdown",
   "id": "82113191-cbbb-4f6c-9487-f50cf547072f",
   "metadata": {},
   "source": [
    "Philadelphia, commonly referred to as the city of the brotherly love, is often thought of as anything but. Crime and violence run rampant in the city, even in the more affluent parts of the city that are advertised as safe. Although there are many factors that aid in reducing crime rates, the efficacy of an area’s police force is a critical one. The number of complaints against Philadelphia police officers is extremely high compared to other urban areas. Furthermore, less than 1% of all complaints made against officers in the city result in formal disciplinary action (Mozelle 2021).  Moreover the Philadelphia Police Department (PPD), in conjunction with New York and Chicago, is responsible for over a third of the police complaints in American cities (Bushey 2021).  Clearly there is an issue present with departments ability to regulate crime in the city while maintaining a fair justice system. When a police department is not serving the people in a proper manner, it can lead to a breakdown in trust and escalate situations that would have otherwise been minor if they had been handled better. Using 2017 police complaint and crime data found on OpenPhilly, which records crimes and police complaints by date and time, this article seeks to examine any possible connections between police complaints and crimes, particularly violent assaults, in the city. "
   ]
  },
  {
   "cell_type": "markdown",
   "id": "779576db-6591-40ba-8cc7-94f2cb62e6fe",
   "metadata": {},
   "source": [
    "Before delving deeper into assaults, let’s look at general crime. Upon aggregating complaints for 2017 across all complaint types, the following visual shows an interesting pattern."
   ]
  },
  {
   "cell_type": "markdown",
   "id": "49853fe9-f237-4d56-b221-512c0a895de2",
   "metadata": {},
   "source": [
    "![Crime and Complaints by District](Picture1.png)"
   ]
  },
  {
   "cell_type": "markdown",
   "id": "6582d718-cf54-428d-b6d6-056221aee8ce",
   "metadata": {},
   "source": [
    "These visuals sum over 31 types of crime and 12 complaint classifications. From a macro perspective, districts with high crime levels also appear to higher complaint levels. With the advent of various movements calling for the defunding of the police, governments have begun to investigate if increasing police presence would really decrease crime. Although it naturally seems like it would, officials realize the need to consider the possible erosion of public trust and that negative interactions with civilians may be exacerbated by a larger police presence. Of course, these visuals don’t show direct causation."
   ]
  },
  {
   "cell_type": "markdown",
   "id": "25e84756-e8ee-4275-b711-4bc715db4731",
   "metadata": {},
   "source": [
    "---\n",
    "## Police Abuse and Instances of Assault\n",
    "---"
   ]
  },
  {
   "cell_type": "markdown",
   "id": "eab25dcf-3a94-428c-9bfe-8e9053ad8ddf",
   "metadata": {},
   "source": [
    "Based on the reported crime types, the best proxy for violence is assaults. The three reported types are assault with firearm, assault without firearm, and other assaults. The reason homicide is not being included in the analysis is because this article’s purpose is to examine how better treatment and interactions by the police could decrease violence. Homicides are often unrelated to police interactions, due to the much lower number of police homicides. The following visual further zooms in on the data by focusing on complaints concerning varying degrees of physical and verbal abuse perpetrated by officers. "
   ]
  },
  {
   "cell_type": "markdown",
   "id": "d40e8c78-7171-4531-97bd-b7a666239158",
   "metadata": {},
   "source": [
    "![](Picture2.png)"
   ]
  },
  {
   "cell_type": "markdown",
   "id": "7e7fa569-f8ba-4628-8657-60faf4f0880b",
   "metadata": {},
   "source": [
    "When the 22 districts are divided into four quartiles based on the number of police complaints filed in 2017, an insightful observation can be made. We see that there is clear separation in the number of assaults across the four groupings of complaint levels. Apart from the two obviously present outlier districts, we see that the median assault amount in each group increases by a significant amount across the 4 levels. The first quartile has around 500 median assaults while the fourth quartile has over 2,000. However, you may ask what this means in a broader context?\n",
    "\n",
    "Over-policing can also lead to more interactions between officer and civilians, which can increase the likelihood of violent confrontations. However, because people are not as able to take out their aggression on police officers, due to extremely harsh repercussions, they may turn to other members of the community. This behavior is simply a way of redirecting one’s anger towards a softer, less shielded, target. In fact, although increased severity of action by police has an effect in reducing theft offense, this does not hold true at all for violent offenses (Cowen 2021).  This finding provides some evidence towards the idea that improper treatment by the police on civilians may lead to displaced aggression, which could increase violence in already violent and poorly policed areas. \n"
   ]
  },
  {
   "cell_type": "markdown",
   "id": "b6a6b9f8-5a77-40c2-be3a-8108cadc65d3",
   "metadata": {},
   "source": [
    "---\n",
    "## Confounding Variables\n",
    "---"
   ]
  },
  {
   "cell_type": "markdown",
   "id": "0a6376ff-c326-4442-8000-96f47a810d77",
   "metadata": {},
   "source": [
    "Unfortunately, we cannot accurately confirm that there is causation between abuse complaints and total assaults in Philadelphia. To explore possible confounding, demographic data that records information such as median income and average unemployment across the Philly police districts was analyzed.  There are too many confounding factors that may also come into play, as the following two visuals depict."
   ]
  },
  {
   "cell_type": "markdown",
   "id": "3f160069-3694-4197-9fc9-b4856bb1ae04",
   "metadata": {},
   "source": [
    "![](sidebyside.png)"
   ]
  },
  {
   "cell_type": "markdown",
   "id": "a8ed7402-a617-47d4-99da-9876d197885c",
   "metadata": {},
   "source": [
    "Unemployment rates and the percentage of white across the districts are just two possible factors that could also contribute to assaults across the police districts. Unemployment can lead to crimes, such as assault, for reasons such as financial stress or even substance abuse as a coping mechanism. Furthermore, as the percentage of whites decreases, crime often increases as these areas tend to have less resources due to a multitude of factors, including lower wealth and discrimination (Piquero 2008).  Although not pictured here, there is also a negative correlation between median income and total assaults; however, summary shows it is not as strong as the above visuals as the data is more spread out and it has a lower standard error.\n",
    "\n",
    "The high number of complaints against police officers and the low rate of formal disciplinary action in Philadelphia implies a possible inability for the police department to properly regulate crime while also maintaining a fair justice system. Of course, it is impossible to know if police abuses are the true reason behind the increased violence. Possible confounding factors such as unemployment and racial demographics may also come into play. Although the available data is not sufficient to imply that police abuse is the sole cause of the increased violence across districts, the data exploration was extremely insightful, nonetheless. \n"
   ]
  },
  {
   "cell_type": "markdown",
   "id": "7c1381f2-cf9d-41f6-abb0-2e486535fb0f",
   "metadata": {},
   "source": [
    "---\n",
    "## Works Cited\n",
    "---\n"
   ]
  },
  {
   "cell_type": "markdown",
   "id": "77837a5a-6324-47dc-8d5c-8ebc811bdc2a",
   "metadata": {},
   "source": [
    "Bushey, Claire, and Christine Zhang. “Small Share of US Police Draw Third of Complaints in Big Cities.” Subscribe to Read | Financial Times, Financial Times, 28 May 2021, www.ft.com/content/141182fc-7727-4af8-a555-5418fa46d09e. \n",
    "\n",
    "Cowen, Nick, and Siddhartha Bandypadhyay. “Classical Deterrence Theory Revisited: An Empirical Analysis of Police ...” ResearchGate, European Journal of Criminology, Nov. 2021, www.researchgate.net/publication/356268321_Classical_deterrence_theory_revisited_An_empirical_analysis_of_Police_Force_Areas_in_England_and_Wales. \n",
    "\n",
    "Moselle, Aaron. “Report: Less than 1% of Civilian Complaints Filed against Philly Police Result in Discipline.” WHYY, WHYY, 14 May 2021, whyy.org/articles/report-less-than-1-of-civilian-complaints-filed-against-philly-police-result-in-discipline/. \n",
    "\n",
    "Piquero, Alex R, and Robert W Brame. “Assessing the Race-Crime and Ethnicity-Crime Relationship in a Sample of Serious Adolescent Delinquents.” Crime and Delinquency, U.S. National Library of Medicine, 1 July 2008, www.ncbi.nlm.nih.gov/pmc/articles/PMC2782848/. "
   ]
  }
 ],
 "metadata": {
  "kernelspec": {
   "display_name": "Python 3 (COMM318)",
   "language": "python",
   "name": "python3"
  },
  "language_info": {
   "codemirror_mode": {
    "name": "ipython",
    "version": 3
   },
   "file_extension": ".py",
   "mimetype": "text/x-python",
   "name": "python",
   "nbconvert_exporter": "python",
   "pygments_lexer": "ipython3",
   "version": "3.8.8"
  }
 },
 "nbformat": 4,
 "nbformat_minor": 5
}
