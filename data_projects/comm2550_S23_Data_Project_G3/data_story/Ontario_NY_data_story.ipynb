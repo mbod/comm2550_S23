{
 "cells": [
  {
   "cell_type": "markdown",
   "id": "4c06b198-f7f2-47fd-acac-e5fe60a2d857",
   "metadata": {},
   "source": [
    "# Lake Ontario Fish Stocking Patterns by *Ontario* & *New York*"
   ]
  },
  {
   "cell_type": "markdown",
   "id": "7f95e64a-5c46-470d-a041-5fc325aec2b7",
   "metadata": {},
   "source": [
    "<img src=\"img/lake_ontario.png\" width=450 />\n",
    "Map of Ontario and New York Borders with Lake Ontario"
   ]
  },
  {
   "cell_type": "markdown",
   "id": "6cff8e7f-bb38-4839-8156-7a86d083def4",
   "metadata": {},
   "source": [
    "### Exploring the Species of Fish Stocked by Each Location:\n",
    "\n",
    "#### Ontario, Canada:\n",
    "- Atlantic Salmon\n",
    "- Brown Trout\n",
    "- Chinook Salmon\n",
    "- Lake Trout\n",
    "- Rainbow Trout\n",
    "\n",
    "#### New York, United States:\n",
    "- Brown Trout\n",
    "- Chinkook\n",
    "- Coho\n",
    "- Lake Herring\n",
    "- Lake Sturgeon\n",
    "- Lake Trout\n",
    "- Landlocked Salmon\n",
    "- Rainbow Trout"
   ]
  },
  {
   "cell_type": "markdown",
   "id": "b5245b6a-4639-4b71-8d3c-080c50bdaef6",
   "metadata": {},
   "source": [
    "### New York Stocking Patterns"
   ]
  },
  {
   "cell_type": "markdown",
   "id": "1ff6795d-7a97-41ae-945f-43c7e1fa7663",
   "metadata": {},
   "source": [
    "There are a ton of unique and interesting stocking patterns that can be observed by taking a look at just New York's fish stocking into Lake Ontario history. These patterns are important to take note of, as they can highlight aspects of New York stocking practices that might need a little bit of extra attention to fully understand. "
   ]
  },
  {
   "cell_type": "markdown",
   "id": "2af61e6b-b0c0-49c8-a2a4-52d729cb78a2",
   "metadata": {},
   "source": [
    "After cleaning and filtering our data set to display the years and columns we wanted, we were able to determine total instances of stocking per fish species stocked by New York into Lake Ontario between the years 2013 and 2021. Our findings can be seen below."
   ]
  },
  {
   "cell_type": "markdown",
   "id": "d7c5eee5-6aa6-4ce0-b928-461a22c985b1",
   "metadata": {},
   "source": [
    "![](img/NYspeciesandinstances.jpeg)"
   ]
  },
  {
   "cell_type": "markdown",
   "id": "0c9701cb-c621-42d6-a5c8-c5a7bfbb696f",
   "metadata": {},
   "source": [
    "Brown Trout were stocked a whopping 222 times while Lake Herring were only stocked 5 times."
   ]
  },
  {
   "cell_type": "markdown",
   "id": "7e7de11d-5681-43b6-8ec8-75c2cc3e2721",
   "metadata": {},
   "source": [
    "Stemming from this, we wanted to see if every species is stocked every year. More specifically, we wanted a break down of these stocking instances proportions from year to year so we could really see what was going on. So, we coded the bar graph seen below."
   ]
  },
  {
   "cell_type": "markdown",
   "id": "746bca6d-e4ba-4153-a481-1609bf3e58b7",
   "metadata": {},
   "source": [
    "![](img/bargraphspeciesinstancesny.jpeg)"
   ]
  },
  {
   "cell_type": "markdown",
   "id": "078cca77-c976-4729-8317-a254853d920b",
   "metadata": {},
   "source": [
    "Something interesting about the graph above is it tells us that some fish species are not stocked every year. For example, Lake Herring were only stocked in 2014 and 2015. Coho were not stocked in 2014, 2017, and 2021. Lake Sturgeon were not stocked until after 2017. Rainbow Trout were not stocked in 2020 or 2021. Chinook stopped being stocked after 2019. The only species consistently stocked every year here are Lake Trout, Brown Trout and Landlocked Salmon.\n",
    "\n",
    "Although information about why every single one of these changes is not readily available, we did manage to find and explanation in our qualitative research as to why Chinook stopped being stocked by New York into Lake Ontario after 2019. The New York Department of Environmental Conservation (DEC) released a memo on December 20th, 2019, stating that the rationale behind this move was related to one of the lake's naturally reproducing fish species, the Alewife. Alewife are a naturally reproducing, native baitfish in Lake Ontario. Chinook feed almost exclusively on Alewife and are not native to Lake Ontario. In order to keep Alewife populations healthy, New York had to stop stocking Chinook into Lake Ontario in order to mitigate predation. Given New York stocks non-native fish into Lake Ontario, they must keep a careful eye on how these non-natives impact native fish populations and act accordingly. Stemming from this, we can assume that at least some of the other changes visible above that we could not find information on are also due to New York trying to artificially maintain a balanced ecosystem in Lake Ontario with both native and non-native fish. \n",
    "\n",
    "One may ask, why does New York stock non-native fish in the first place? Well, the answer is quite simple. Chinook and other stocked non-native fish draw hundreds of thousands of recreational fishermen to the Great Lakes every year due to these species' sportfish designations. Without the stocked non-natives, New York would be sacrificing millions in revenue every year. "
   ]
  },
  {
   "cell_type": "markdown",
   "id": "af77d580-39f7-4f68-90ac-cc3063843fd9",
   "metadata": {},
   "source": [
    "Next, we wanted to take a look at what the actual quantities of these fish being stocked by New York into Lake Ontario looks like. To do this we made a line graph representing total quantity of fish stocked by species each year. This graph can be seen below."
   ]
  },
  {
   "cell_type": "markdown",
   "id": "73cb6634-c6d5-464a-b9ed-3919c8d36b02",
   "metadata": {},
   "source": [
    "![](img/nyline.jpeg)"
   ]
  },
  {
   "cell_type": "markdown",
   "id": "3d07cfb9-6c5b-4afc-a7a8-4ab7957bb1a2",
   "metadata": {},
   "source": [
    "Our first interesting observation is that Brown Trout are stocked in the lowest quantity each year, yet the bar graph before showed us that they are stocked most frequently. Why is this? According to a publication by the NYS DEC, Brown Trout are stocked with such high frequency because of the biomass distribution the state desires. According to this paper, Brown Trout are one of Lake Ontario's most sought-after gamefish. In order to facilitate a productive nearshore fishery, New York must stock Brown Trout at a ton of different locations along the Lake's coast to ensure an evenly distributed biomass for the sportfishing industry. Basically, Brown Trout are New York's main fishing attraction, and to ensure this continues, New York must distribute Brown Trout stockings the best they can, and to do this they need to stock very frequently in many different locations (even though the overall quantity may not be that many). \n",
    "\n",
    "\n",
    "Another observation is that after 2014, there was a sharp drop in almost all species stocked (especially Landlocked Salmon, Rainbow Trout, and Lake Trout). Then, after 2017, these numbers seem to rise again then fall back down after 2019. It is also interesting that the quantity of each species stocked seems to fluctuate in the same general direction. When a few species are stocked at a lower quantity, it seems like the rest follow. To fully understand this we needed to look for some qualitative information. What we found was very similar to what drove the Chinook trends we saw before. According to a NYS DEC stocking strategy overview, the fluctuations in quantity of each species stocked has to do with the predator/prey balance. When New York notices that prey fish populations are in decline, they cut back on predatory fish stocking. When New York notices that there is an abundance of prey fish, they amp up the amount of predatory fish stocked. Rainbow Trout, Landlocked Salmon, and Lake Trout are all highly predatory fish. You can notice in the graph above, these species seem to witness the most dramatic fluctuations in quantity stocked. "
   ]
  },
  {
   "cell_type": "markdown",
   "id": "7ef4cad4-d856-4b32-a611-5a200608f831",
   "metadata": {},
   "source": [
    "The last thing we wanted to look at specific to New York was stocking quantities by month. The Ontario data set did not have month values, so we wanted to take advantage of New York having this information to try and notice some trends. After writing some more code we came up with the table below."
   ]
  },
  {
   "cell_type": "markdown",
   "id": "2003c3c7-f8c0-4fdd-9962-f56bfcc90018",
   "metadata": {},
   "source": [
    "![](img/stockingbymonth.jpeg)"
   ]
  },
  {
   "cell_type": "markdown",
   "id": "9bcbcbaf-aab0-4d90-8fe4-c6fe3117aea0",
   "metadata": {},
   "source": [
    "The most interesting thing we noticed here is that Brown Trout are stocked much more frequently throughout the year than any other fish. This is related to the NYS DEC distribution goals discussed previously. Another interesting thing to notice is that no fish are stocked in the middle of the winter, we assume this is due to freezing conditions on Lake Ontario."
   ]
  },
  {
   "cell_type": "markdown",
   "id": "fb673e87-fbf3-4dfb-b059-aacc32de5170",
   "metadata": {},
   "source": [
    "### Ontario Stocking Patterns"
   ]
  },
  {
   "cell_type": "markdown",
   "id": "cc327dfa-c735-4a6c-b0b4-f7460b70c301",
   "metadata": {},
   "source": [
    "Similar to what we did for New York, we also want to look into stocking patterns unique to Ontario. Similar to what we did with New York, we began by putting together a table of species stocked and the number of instances of those species being stocked. This table can be seen below."
   ]
  },
  {
   "cell_type": "markdown",
   "id": "93b4ea80-d9e3-4a14-af72-79642d3fa1b2",
   "metadata": {},
   "source": [
    "![](img/ONspecies.jpeg)"
   ]
  },
  {
   "cell_type": "markdown",
   "id": "96677a60-7410-4899-9e82-d2a67124328b",
   "metadata": {},
   "source": [
    "As you can see, Ontario stocks fewer species than New York. Ontario also stocks Brown Trout just about as frequently as they stock Chinook. After seeing this we wanted to make a similar bar graph to the one we made for New York to see if we could notice any more trends. This bar graph can be seen below."
   ]
  },
  {
   "cell_type": "markdown",
   "id": "6551c8e7-06ed-4946-9908-f665a35a393b",
   "metadata": {},
   "source": [
    "![](img/ONbar.jpeg)"
   ]
  },
  {
   "cell_type": "markdown",
   "id": "b38189fe-4c0c-493b-8fe9-fb5332f62930",
   "metadata": {},
   "source": [
    "Here we notice some similar inconsistencies that we did with New York. For example, Rainbow Trout were not stocked in 2016, Lake Trout were not stocked in 2017,2018,2019, or 2021 and Atlantic Salmon were only stocked in 2016, 2018, 2019, and 2021. The reasoning behind this is the same as it was in New York, these fish are all highly predatory and Ontario must regulate how frequently they stock these species to ensure native baitfish (like Alewifes) do not die off."
   ]
  },
  {
   "cell_type": "markdown",
   "id": "019568fc-9a4d-4234-9036-4a9f234df54c",
   "metadata": {},
   "source": [
    "After seeing this, we wanted to repeat the same line graph we did for New York, but for Ontario. Here it is below."
   ]
  },
  {
   "cell_type": "markdown",
   "id": "17a1a535-04cb-4d11-9af7-c17e847171f7",
   "metadata": {},
   "source": [
    "![](img/ONline.jpeg)"
   ]
  },
  {
   "cell_type": "markdown",
   "id": "7098182e-5595-4ae2-b30c-3352a1971223",
   "metadata": {},
   "source": [
    "As you can see, similar trends can be observed here as the trends observed in New York. These highly predatory fish at the top of the graph see similarly timed spikes and decreases in stocking due to the predator-prey balance Ontario is trying to artificially implement. "
   ]
  },
  {
   "cell_type": "markdown",
   "id": "8134b010-ca99-4f7d-ac07-832cf8f96099",
   "metadata": {},
   "source": [
    "These findings were definitely interesting, but now we must move on to our combination analysis to see if we can notice any more trends."
   ]
  },
  {
   "cell_type": "markdown",
   "id": "ea4344a8-38cb-4b38-bccc-d326a1404b49",
   "metadata": {},
   "source": [
    "### New York and Ontario Stocking Patterns + Comparison "
   ]
  },
  {
   "cell_type": "markdown",
   "id": "791238e1-a216-4b36-bd56-6a188b2bfc11",
   "metadata": {},
   "source": [
    "We have done analyses on both New York and Ontario fish stocking patterns and found some similarities already, now we must examine them both together, to determine if any other patterns arise."
   ]
  },
  {
   "cell_type": "markdown",
   "id": "2a546cec-599e-416e-8ec9-a7455216adc2",
   "metadata": {},
   "source": [
    "To begin this venture, we first started by cleaning and orienting the two data sets so that they could be combined into one combined data frame. After this, we wanted to see which species both New York and Ontario stock into Lake Ontario, so we wrote some code that left us with a graph we were able to use to determine which species were stocked by both Countries."
   ]
  },
  {
   "cell_type": "markdown",
   "id": "d2c171b5-a3c9-4e5d-bd98-71103ba5191a",
   "metadata": {},
   "source": [
    "The species were...\n",
    "\n",
    "1. Brown Trout\n",
    "2. Chinook\n",
    "3. Lake Trout\n",
    "4. Rainbow Trout"
   ]
  },
  {
   "cell_type": "markdown",
   "id": "23888573-63b5-498f-baec-e7a8050f6578",
   "metadata": {},
   "source": [
    "Given this information, we wanted to see if New York and Ontario stock Lake Ontario with these species equally. Due to the fact that fish stocking is incredibly expensive, any inequalities seen here could be indicative of an unfair budgeting shared natural resource problem that should be addressed. To visualize this we constructed the bar graph below."
   ]
  },
  {
   "cell_type": "markdown",
   "id": "bd1eca8b-b365-452c-9010-9ec399e0cca8",
   "metadata": {},
   "source": [
    "![](img/NYONbar.jpeg)"
   ]
  },
  {
   "cell_type": "markdown",
   "id": "78491752-9a34-462b-92b3-052b2a2563a8",
   "metadata": {},
   "source": [
    "These results were relatively comforting, as there does not seem to be an extreme inequality in either direction. New York stocks more Lake Trout, Brown Trout and Rainbow Trout than Canada (although neither stocks that many Rainbow Trout). Canada stocks more Chinook than New York. Due to the fact we do not have cost per species of fish rearing data, it can be assumed these two Countries stock Lake Ontario in an at least somewhat equitable fashion."
   ]
  },
  {
   "cell_type": "markdown",
   "id": "7ade0b39-bed9-4e20-a161-54eeed274bc0",
   "metadata": {},
   "source": [
    "Next, we wanted to examine stocking patterns for each country of these shared species over time. To do this, we created the following line graph."
   ]
  },
  {
   "cell_type": "markdown",
   "id": "f6c2ef9a-413f-45ab-8fba-fddfbcbae274",
   "metadata": {},
   "source": [
    "![](img/NYONline.jpeg)"
   ]
  },
  {
   "cell_type": "markdown",
   "id": "33b155b7-991d-484a-bd5a-71f630147595",
   "metadata": {},
   "source": [
    "The most interesting observation we made here was that although there were fluctuations in quantities stocked as discussed in previous sections, New York had a HUGE spike in Lake Trout stockings around 2014-2015. Lake Trout are also one of the Alewife's main predators, and Lake Trout stocking fluctuations are almost always due to a predator-prey imbalance. Clearly New York really messed up and stocked way too many Lake Trout during these years, which they quickly corrected by slashing those numbers by almost 80% in 2017 from 2015. According to another piece of qualitative information we found, stocked Lake Trout genetics are different than naturally reproducing Lake Trout. The shift seen here also may have had to do with a desire to stop \"stocking over\" naturally reproducing \"wild\" Lake Trout as much as they had in previous years. Although Lake Trout are not native to Lake Ontario, fish that are stocked into the lake that naturally reproduce are called \"wild\" fish. These \"wild\" Lake Trout have genetics more prone to sustaining a naturally reproducing population. By reducing the amount of Lake Trout stocked into Lake Ontario, New York can reduce competition with the \"wild\" Lake Trout and give them a better chance of future success. These are two reasons that could explain this spike, however, the predator-prey dynamic likely carries more weight to it given how much it is talked about in official stocking strategy information. This spike in New York Lake Trout stocking can be seen as wildly irresponsible and put both native and wild fish at risk. This could certainly be an issue Canada has with US stocking practices, as the Canadian stocking methods seem much less invasive and threatening to native species."
   ]
  },
  {
   "cell_type": "markdown",
   "id": "a98c29c8-2b05-422c-a6f5-89b0c955a755",
   "metadata": {},
   "source": [
    "### Conlussion"
   ]
  },
  {
   "cell_type": "markdown",
   "id": "883cd907-642b-4d54-9095-7da08a8e30fa",
   "metadata": {},
   "source": [
    "Overall, we noticed some pretty cool patterns here and were able to explain some of them with qualitative research. This project definitely helped us learn a ton about fish stocking dynamics in Lake Ontario, likely even more than the average Lake Ontario fisherman knows. It will certainly be interesting to see how both Countries navigate the predator-prey and native-stocked-wild balance in the future, given it does not seem either country has it down perfectly yet."
   ]
  },
  {
   "cell_type": "markdown",
   "id": "8a66c31c-57ab-4276-9605-8af5065f1217",
   "metadata": {},
   "source": [
    "### Refernces"
   ]
  },
  {
   "cell_type": "markdown",
   "id": "ffdf37d0-aa2f-4fc6-9e05-aca2061815a4",
   "metadata": {},
   "source": [
    "https://www.dec.ny.gov/docs/fish_marine_pdf/lostockingstrategy.pdf"
   ]
  },
  {
   "cell_type": "markdown",
   "id": "6166bfa2-e079-4f97-97ec-e53b22602c42",
   "metadata": {},
   "source": [
    "https://www.dec.ny.gov/press/119010.html"
   ]
  },
  {
   "cell_type": "code",
   "execution_count": null,
   "id": "ba542270-0561-4039-b758-5c969b553eb0",
   "metadata": {},
   "outputs": [],
   "source": []
  }
 ],
 "metadata": {
  "kernelspec": {
   "display_name": "Python 3 (COMM318)",
   "language": "python",
   "name": "python3"
  },
  "language_info": {
   "codemirror_mode": {
    "name": "ipython",
    "version": 3
   },
   "file_extension": ".py",
   "mimetype": "text/x-python",
   "name": "python",
   "nbconvert_exporter": "python",
   "pygments_lexer": "ipython3",
   "version": "3.8.8"
  }
 },
 "nbformat": 4,
 "nbformat_minor": 5
}
