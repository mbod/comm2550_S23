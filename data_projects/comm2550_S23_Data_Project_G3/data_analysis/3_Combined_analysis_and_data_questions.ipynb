{
 "cells": [
  {
   "cell_type": "markdown",
   "id": "999b4c17-58bd-42f5-98de-c184fd142c1e",
   "metadata": {},
   "source": [
    "# Combined Data Analysis\n",
    "\n",
    "* In this notebook we blaa blaa blaa\n",
    "\n",
    "\n",
    "----\n"
   ]
  },
  {
   "cell_type": "code",
   "execution_count": 36,
   "id": "07e6b294-bf2e-4275-83f2-c2444f127049",
   "metadata": {},
   "outputs": [],
   "source": [
    "import pandas as pd\n",
    "import matplotlib.pyplot as plt\n",
    "import seaborn as sns"
   ]
  },
  {
   "cell_type": "markdown",
   "id": "4ddb862e-8a7c-42c6-93eb-0cdf953516b8",
   "metadata": {},
   "source": [
    "## Downloading the Data"
   ]
  },
  {
   "cell_type": "code",
   "execution_count": 37,
   "id": "e0c95a9a-1555-471c-a05d-7e583fb89d54",
   "metadata": {},
   "outputs": [],
   "source": [
    "ON_df = pd.read_csv('../data/ON_lakeontario_2013-2021.csv')\n",
    "NY_df = pd.read_csv('../data/NY_lakeontario_2013-2021.csv')"
   ]
  },
  {
   "cell_type": "code",
   "execution_count": 38,
   "id": "cb7882d7-1cbd-48a1-895c-1cb32edcee77",
   "metadata": {},
   "outputs": [
    {
     "data": {
      "text/html": [
       "<div>\n",
       "<style scoped>\n",
       "    .dataframe tbody tr th:only-of-type {\n",
       "        vertical-align: middle;\n",
       "    }\n",
       "\n",
       "    .dataframe tbody tr th {\n",
       "        vertical-align: top;\n",
       "    }\n",
       "\n",
       "    .dataframe thead th {\n",
       "        text-align: right;\n",
       "    }\n",
       "</style>\n",
       "<table border=\"1\" class=\"dataframe\">\n",
       "  <thead>\n",
       "    <tr style=\"text-align: right;\">\n",
       "      <th></th>\n",
       "      <th>X</th>\n",
       "      <th>Y</th>\n",
       "      <th>MNRF_District</th>\n",
       "      <th>Stocking_Year</th>\n",
       "      <th>Species</th>\n",
       "      <th>Official_Waterbody_Name</th>\n",
       "      <th>Official_French_Waterbody_Name</th>\n",
       "      <th>Unoffcial_Waterbody_Name</th>\n",
       "      <th>Waterbody_Location_Identifier</th>\n",
       "      <th>Geographic_Township</th>\n",
       "      <th>Developmental_Stage</th>\n",
       "      <th>Number_of_Fish_Stocked</th>\n",
       "      <th>Latitude</th>\n",
       "      <th>Longitude</th>\n",
       "      <th>ObjectId</th>\n",
       "    </tr>\n",
       "  </thead>\n",
       "  <tbody>\n",
       "    <tr>\n",
       "      <th>0</th>\n",
       "      <td>-78.106985</td>\n",
       "      <td>43.728679</td>\n",
       "      <td>Lake Ontario Management Unit</td>\n",
       "      <td>2013</td>\n",
       "      <td>Brown Trout</td>\n",
       "      <td>Lake Ontario</td>\n",
       "      <td>lac Ontario</td>\n",
       "      <td>NaN</td>\n",
       "      <td>17-7415-48483</td>\n",
       "      <td>FREDERICKSBURGH</td>\n",
       "      <td>Yearlings</td>\n",
       "      <td>14974</td>\n",
       "      <td>43.728679</td>\n",
       "      <td>-78.106985</td>\n",
       "      <td>5047</td>\n",
       "    </tr>\n",
       "    <tr>\n",
       "      <th>1</th>\n",
       "      <td>-78.106985</td>\n",
       "      <td>43.728679</td>\n",
       "      <td>Lake Ontario Management Unit</td>\n",
       "      <td>2013</td>\n",
       "      <td>Brown Trout</td>\n",
       "      <td>Lake Ontario</td>\n",
       "      <td>lac Ontario</td>\n",
       "      <td>NaN</td>\n",
       "      <td>17-7415-48483</td>\n",
       "      <td>FREDERICKSBURGH</td>\n",
       "      <td>Yearlings</td>\n",
       "      <td>9836</td>\n",
       "      <td>43.728679</td>\n",
       "      <td>-78.106985</td>\n",
       "      <td>5048</td>\n",
       "    </tr>\n",
       "    <tr>\n",
       "      <th>2</th>\n",
       "      <td>-78.106985</td>\n",
       "      <td>43.728679</td>\n",
       "      <td>Lake Ontario Management Unit</td>\n",
       "      <td>2013</td>\n",
       "      <td>Brown Trout</td>\n",
       "      <td>Lake Ontario</td>\n",
       "      <td>lac Ontario</td>\n",
       "      <td>NaN</td>\n",
       "      <td>17-7415-48483</td>\n",
       "      <td>FREDERICKSBURGH</td>\n",
       "      <td>Yearlings</td>\n",
       "      <td>16960</td>\n",
       "      <td>43.728679</td>\n",
       "      <td>-78.106985</td>\n",
       "      <td>5049</td>\n",
       "    </tr>\n",
       "    <tr>\n",
       "      <th>3</th>\n",
       "      <td>-78.106985</td>\n",
       "      <td>43.728679</td>\n",
       "      <td>Lake Ontario Management Unit</td>\n",
       "      <td>2013</td>\n",
       "      <td>Brown Trout</td>\n",
       "      <td>Lake Ontario</td>\n",
       "      <td>lac Ontario</td>\n",
       "      <td>NaN</td>\n",
       "      <td>17-7415-48483</td>\n",
       "      <td>FREDERICKSBURGH</td>\n",
       "      <td>Yearlings</td>\n",
       "      <td>9911</td>\n",
       "      <td>43.728679</td>\n",
       "      <td>-78.106985</td>\n",
       "      <td>5050</td>\n",
       "    </tr>\n",
       "    <tr>\n",
       "      <th>4</th>\n",
       "      <td>-78.106985</td>\n",
       "      <td>43.728679</td>\n",
       "      <td>Lake Ontario Management Unit</td>\n",
       "      <td>2013</td>\n",
       "      <td>Brown Trout</td>\n",
       "      <td>Lake Ontario</td>\n",
       "      <td>lac Ontario</td>\n",
       "      <td>NaN</td>\n",
       "      <td>17-7415-48483</td>\n",
       "      <td>FREDERICKSBURGH</td>\n",
       "      <td>Yearlings</td>\n",
       "      <td>11415</td>\n",
       "      <td>43.728679</td>\n",
       "      <td>-78.106985</td>\n",
       "      <td>5051</td>\n",
       "    </tr>\n",
       "  </tbody>\n",
       "</table>\n",
       "</div>"
      ],
      "text/plain": [
       "           X          Y                 MNRF_District  Stocking_Year  \\\n",
       "0 -78.106985  43.728679  Lake Ontario Management Unit           2013   \n",
       "1 -78.106985  43.728679  Lake Ontario Management Unit           2013   \n",
       "2 -78.106985  43.728679  Lake Ontario Management Unit           2013   \n",
       "3 -78.106985  43.728679  Lake Ontario Management Unit           2013   \n",
       "4 -78.106985  43.728679  Lake Ontario Management Unit           2013   \n",
       "\n",
       "       Species Official_Waterbody_Name Official_French_Waterbody_Name  \\\n",
       "0  Brown Trout            Lake Ontario                    lac Ontario   \n",
       "1  Brown Trout            Lake Ontario                    lac Ontario   \n",
       "2  Brown Trout            Lake Ontario                    lac Ontario   \n",
       "3  Brown Trout            Lake Ontario                    lac Ontario   \n",
       "4  Brown Trout            Lake Ontario                    lac Ontario   \n",
       "\n",
       "   Unoffcial_Waterbody_Name Waterbody_Location_Identifier Geographic_Township  \\\n",
       "0                       NaN                 17-7415-48483     FREDERICKSBURGH   \n",
       "1                       NaN                 17-7415-48483     FREDERICKSBURGH   \n",
       "2                       NaN                 17-7415-48483     FREDERICKSBURGH   \n",
       "3                       NaN                 17-7415-48483     FREDERICKSBURGH   \n",
       "4                       NaN                 17-7415-48483     FREDERICKSBURGH   \n",
       "\n",
       "  Developmental_Stage  Number_of_Fish_Stocked   Latitude  Longitude  ObjectId  \n",
       "0           Yearlings                   14974  43.728679 -78.106985      5047  \n",
       "1           Yearlings                    9836  43.728679 -78.106985      5048  \n",
       "2           Yearlings                   16960  43.728679 -78.106985      5049  \n",
       "3           Yearlings                    9911  43.728679 -78.106985      5050  \n",
       "4           Yearlings                   11415  43.728679 -78.106985      5051  "
      ]
     },
     "execution_count": 38,
     "metadata": {},
     "output_type": "execute_result"
    }
   ],
   "source": [
    "ON_df.head()"
   ]
  },
  {
   "cell_type": "code",
   "execution_count": 39,
   "id": "2b0b4faf-e940-441b-850a-b513771cc4a9",
   "metadata": {},
   "outputs": [
    {
     "data": {
      "text/plain": [
       "array(['Yearlings', 'Fingerlings', 'Adult'], dtype=object)"
      ]
     },
     "execution_count": 39,
     "metadata": {},
     "output_type": "execute_result"
    }
   ],
   "source": [
    "ON_df['Developmental_Stage'].unique()"
   ]
  },
  {
   "cell_type": "code",
   "execution_count": 40,
   "id": "c9502c97-d16a-46ee-999d-fc71eeb84c56",
   "metadata": {},
   "outputs": [
    {
     "data": {
      "text/html": [
       "<div>\n",
       "<style scoped>\n",
       "    .dataframe tbody tr th:only-of-type {\n",
       "        vertical-align: middle;\n",
       "    }\n",
       "\n",
       "    .dataframe tbody tr th {\n",
       "        vertical-align: top;\n",
       "    }\n",
       "\n",
       "    .dataframe thead th {\n",
       "        text-align: right;\n",
       "    }\n",
       "</style>\n",
       "<table border=\"1\" class=\"dataframe\">\n",
       "  <thead>\n",
       "    <tr style=\"text-align: right;\">\n",
       "      <th></th>\n",
       "      <th>Species</th>\n",
       "      <th>Size</th>\n",
       "      <th>0</th>\n",
       "    </tr>\n",
       "  </thead>\n",
       "  <tbody>\n",
       "    <tr>\n",
       "      <th>0</th>\n",
       "      <td>Brown Trout</td>\n",
       "      <td>3.6</td>\n",
       "      <td>1</td>\n",
       "    </tr>\n",
       "    <tr>\n",
       "      <th>1</th>\n",
       "      <td>Brown Trout</td>\n",
       "      <td>3.9</td>\n",
       "      <td>1</td>\n",
       "    </tr>\n",
       "    <tr>\n",
       "      <th>2</th>\n",
       "      <td>Brown Trout</td>\n",
       "      <td>5.3</td>\n",
       "      <td>1</td>\n",
       "    </tr>\n",
       "    <tr>\n",
       "      <th>3</th>\n",
       "      <td>Brown Trout</td>\n",
       "      <td>7.0</td>\n",
       "      <td>2</td>\n",
       "    </tr>\n",
       "    <tr>\n",
       "      <th>4</th>\n",
       "      <td>Brown Trout</td>\n",
       "      <td>7.1</td>\n",
       "      <td>4</td>\n",
       "    </tr>\n",
       "    <tr>\n",
       "      <th>...</th>\n",
       "      <td>...</td>\n",
       "      <td>...</td>\n",
       "      <td>...</td>\n",
       "    </tr>\n",
       "    <tr>\n",
       "      <th>93</th>\n",
       "      <td>Rainbow Trout</td>\n",
       "      <td>9.5</td>\n",
       "      <td>2</td>\n",
       "    </tr>\n",
       "    <tr>\n",
       "      <th>94</th>\n",
       "      <td>Rainbow Trout</td>\n",
       "      <td>9.6</td>\n",
       "      <td>4</td>\n",
       "    </tr>\n",
       "    <tr>\n",
       "      <th>95</th>\n",
       "      <td>Rainbow Trout</td>\n",
       "      <td>9.7</td>\n",
       "      <td>2</td>\n",
       "    </tr>\n",
       "    <tr>\n",
       "      <th>96</th>\n",
       "      <td>Rainbow Trout</td>\n",
       "      <td>9.8</td>\n",
       "      <td>1</td>\n",
       "    </tr>\n",
       "    <tr>\n",
       "      <th>97</th>\n",
       "      <td>Rainbow Trout</td>\n",
       "      <td>9.9</td>\n",
       "      <td>1</td>\n",
       "    </tr>\n",
       "  </tbody>\n",
       "</table>\n",
       "<p>98 rows × 3 columns</p>\n",
       "</div>"
      ],
      "text/plain": [
       "          Species  Size  0\n",
       "0     Brown Trout   3.6  1\n",
       "1     Brown Trout   3.9  1\n",
       "2     Brown Trout   5.3  1\n",
       "3     Brown Trout   7.0  2\n",
       "4     Brown Trout   7.1  4\n",
       "..            ...   ... ..\n",
       "93  Rainbow Trout   9.5  2\n",
       "94  Rainbow Trout   9.6  4\n",
       "95  Rainbow Trout   9.7  2\n",
       "96  Rainbow Trout   9.8  1\n",
       "97  Rainbow Trout   9.9  1\n",
       "\n",
       "[98 rows x 3 columns]"
      ]
     },
     "execution_count": 40,
     "metadata": {},
     "output_type": "execute_result"
    }
   ],
   "source": [
    "NY_df.groupby(['Species','Size']).size().reset_index()"
   ]
  },
  {
   "cell_type": "markdown",
   "id": "4c6592ad-25bc-43d3-9b1c-393a550e7db1",
   "metadata": {},
   "source": [
    "## Combined Data Columns\n",
    "\n",
    "* Using the common columns:\n",
    "    1. `year`\n",
    "    2. `species`\n",
    "    3. `count`\n",
    "    4. `country`"
   ]
  },
  {
   "cell_type": "code",
   "execution_count": 41,
   "id": "90036c19-ba43-4427-893c-2977dca5c3f5",
   "metadata": {},
   "outputs": [
    {
     "data": {
      "text/plain": [
       "Index(['Year', 'County', 'Waterbody', 'Town', 'Month', 'Number', 'Species',\n",
       "       'Size'],\n",
       "      dtype='object')"
      ]
     },
     "execution_count": 41,
     "metadata": {},
     "output_type": "execute_result"
    }
   ],
   "source": [
    "NY_df.columns"
   ]
  },
  {
   "cell_type": "code",
   "execution_count": 42,
   "id": "0d69abb7-ae60-4698-ad99-3ebe5cf29b42",
   "metadata": {},
   "outputs": [],
   "source": [
    "NY_by_year_df = NY_df.groupby(['Species', 'Year'])['Number'].sum().reset_index()"
   ]
  },
  {
   "cell_type": "code",
   "execution_count": 43,
   "id": "bd5728ce-5c4b-4fef-b539-c7fd3019ca65",
   "metadata": {},
   "outputs": [],
   "source": [
    "NY_by_year_df['Country']='US'\n",
    "\n",
    "NY_subset_df = NY_by_year_df[['Country', 'Year', 'Species', 'Number']]"
   ]
  },
  {
   "cell_type": "markdown",
   "id": "a6433da6-2fab-4e4d-bbe2-006404c77546",
   "metadata": {},
   "source": [
    "### Renaming Columns in Ontario Dataframe"
   ]
  },
  {
   "cell_type": "code",
   "execution_count": 59,
   "id": "8a825fb5-2094-47a9-b18e-cf9860f6be0f",
   "metadata": {},
   "outputs": [
    {
     "data": {
      "text/plain": [
       "Index(['X', 'Y', 'MNRF_District', 'Year', 'Species', 'Official_Waterbody_Name',\n",
       "       'Official_French_Waterbody_Name', 'Unoffcial_Waterbody_Name',\n",
       "       'Waterbody_Location_Identifier', 'Geographic_Township',\n",
       "       'Developmental_Stage', 'Number', 'Latitude', 'Longitude', 'ObjectId'],\n",
       "      dtype='object')"
      ]
     },
     "execution_count": 59,
     "metadata": {},
     "output_type": "execute_result"
    }
   ],
   "source": [
    "ON_df.columns"
   ]
  },
  {
   "cell_type": "code",
   "execution_count": 45,
   "id": "8c17f1a4-52ec-475c-8548-ca1043af9686",
   "metadata": {},
   "outputs": [],
   "source": [
    "ON_df = ON_df.rename(columns = { 'Number_of_Fish_Stocked': 'Number',\n",
    "                         'Stocking_Year': 'Year'})\n",
    "\n",
    "\n",
    "ON_by_year_df = ON_df.groupby(['Species', 'Year'])['Number'].sum().reset_index()\n",
    "ON_by_year_df['Country'] = 'Canada'\n",
    "\n",
    "ON_subset_df = ON_by_year_df[['Country', 'Year', 'Species', 'Number']]"
   ]
  },
  {
   "cell_type": "markdown",
   "id": "64ee16f1-4414-4f77-8754-d6cebcd157d0",
   "metadata": {
    "tags": []
   },
   "source": [
    "## Creating Combined Dataframe: `combined_df`"
   ]
  },
  {
   "cell_type": "code",
   "execution_count": 46,
   "id": "eb66a4f1-19bc-468c-906e-f327af75c91e",
   "metadata": {},
   "outputs": [],
   "source": [
    "combined_df = pd.concat([NY_subset_df, ON_subset_df]).drop_duplicates()"
   ]
  },
  {
   "cell_type": "code",
   "execution_count": 47,
   "id": "3bd92cb8-8aa6-4468-b793-a93cf891b8a0",
   "metadata": {},
   "outputs": [
    {
     "data": {
      "text/plain": [
       "array(['Brown Trout', 'Chinook', 'Coho', 'Lake Herring (Cisco)',\n",
       "       'Lake Sturgeon', 'Lake Trout', 'Landlocked Salmon',\n",
       "       'Rainbow Trout', 'Atlantic Salmon', 'Chinook Salmon'], dtype=object)"
      ]
     },
     "execution_count": 47,
     "metadata": {},
     "output_type": "execute_result"
    }
   ],
   "source": [
    "combined_df['Species'].unique()"
   ]
  },
  {
   "cell_type": "code",
   "execution_count": 48,
   "id": "14e89b43-1344-43a0-97f7-3a0a67e65d92",
   "metadata": {},
   "outputs": [],
   "source": [
    "fish_name_mapping = {'Chinook Salmon': 'Chinook'}"
   ]
  },
  {
   "cell_type": "code",
   "execution_count": 49,
   "id": "47d25e6e-751a-46b4-a6f2-0fe1c96f3a24",
   "metadata": {},
   "outputs": [],
   "source": [
    "combined_df['Species'].replace(fish_name_mapping, inplace=True)"
   ]
  },
  {
   "cell_type": "markdown",
   "id": "4327382b-2979-49ed-bd5a-f36675341471",
   "metadata": {},
   "source": [
    "## Average Stocking of Each Species Per Year (2013-2021)"
   ]
  },
  {
   "cell_type": "code",
   "execution_count": 74,
   "id": "6977e57d-d9f8-4c56-ab9d-add0a9c7cf4d",
   "metadata": {},
   "outputs": [
    {
     "data": {
      "text/html": [
       "<div>\n",
       "<style scoped>\n",
       "    .dataframe tbody tr th:only-of-type {\n",
       "        vertical-align: middle;\n",
       "    }\n",
       "\n",
       "    .dataframe tbody tr th {\n",
       "        vertical-align: top;\n",
       "    }\n",
       "\n",
       "    .dataframe thead th {\n",
       "        text-align: right;\n",
       "    }\n",
       "</style>\n",
       "<table border=\"1\" class=\"dataframe\">\n",
       "  <thead>\n",
       "    <tr style=\"text-align: right;\">\n",
       "      <th>Species</th>\n",
       "      <th>Atlantic Salmon</th>\n",
       "      <th>Brown Trout</th>\n",
       "      <th>Chinook</th>\n",
       "      <th>Coho</th>\n",
       "      <th>Lake Herring (Cisco)</th>\n",
       "      <th>Lake Sturgeon</th>\n",
       "      <th>Lake Trout</th>\n",
       "      <th>Landlocked Salmon</th>\n",
       "      <th>Rainbow Trout</th>\n",
       "    </tr>\n",
       "    <tr>\n",
       "      <th>Country</th>\n",
       "      <th></th>\n",
       "      <th></th>\n",
       "      <th></th>\n",
       "      <th></th>\n",
       "      <th></th>\n",
       "      <th></th>\n",
       "      <th></th>\n",
       "      <th></th>\n",
       "      <th></th>\n",
       "    </tr>\n",
       "  </thead>\n",
       "  <tbody>\n",
       "    <tr>\n",
       "      <th>Canada</th>\n",
       "      <td>6750.25</td>\n",
       "      <td>160113.111111</td>\n",
       "      <td>246306.333333</td>\n",
       "      <td>NaN</td>\n",
       "      <td>NaN</td>\n",
       "      <td>NaN</td>\n",
       "      <td>93917.400000</td>\n",
       "      <td>NaN</td>\n",
       "      <td>34614.375</td>\n",
       "    </tr>\n",
       "    <tr>\n",
       "      <th>US</th>\n",
       "      <td>NaN</td>\n",
       "      <td>419261.888889</td>\n",
       "      <td>95587.142857</td>\n",
       "      <td>21151.666667</td>\n",
       "      <td>106955.0</td>\n",
       "      <td>3558.25</td>\n",
       "      <td>476533.222222</td>\n",
       "      <td>18406.666667</td>\n",
       "      <td>66245.000</td>\n",
       "    </tr>\n",
       "  </tbody>\n",
       "</table>\n",
       "</div>"
      ],
      "text/plain": [
       "Species  Atlantic Salmon    Brown Trout        Chinook          Coho  \\\n",
       "Country                                                                \n",
       "Canada           6750.25  160113.111111  246306.333333           NaN   \n",
       "US                   NaN  419261.888889   95587.142857  21151.666667   \n",
       "\n",
       "Species  Lake Herring (Cisco)  Lake Sturgeon     Lake Trout  \\\n",
       "Country                                                       \n",
       "Canada                    NaN            NaN   93917.400000   \n",
       "US                   106955.0        3558.25  476533.222222   \n",
       "\n",
       "Species  Landlocked Salmon  Rainbow Trout  \n",
       "Country                                    \n",
       "Canada                 NaN      34614.375  \n",
       "US            18406.666667      66245.000  "
      ]
     },
     "execution_count": 74,
     "metadata": {},
     "output_type": "execute_result"
    }
   ],
   "source": [
    "combined_df.groupby(['Country', 'Species'])['Number'].mean().unstack()"
   ]
  },
  {
   "cell_type": "markdown",
   "id": "663ddc92-919e-4f8e-9d5f-02e5bc94dc96",
   "metadata": {},
   "source": [
    "## Total Stocking of Each Species Per Year (2013-2021)"
   ]
  },
  {
   "cell_type": "code",
   "execution_count": 51,
   "id": "97cae2ae-ff64-45fa-a2b5-75f857345650",
   "metadata": {},
   "outputs": [
    {
     "data": {
      "text/html": [
       "<div>\n",
       "<style scoped>\n",
       "    .dataframe tbody tr th:only-of-type {\n",
       "        vertical-align: middle;\n",
       "    }\n",
       "\n",
       "    .dataframe tbody tr th {\n",
       "        vertical-align: top;\n",
       "    }\n",
       "\n",
       "    .dataframe thead th {\n",
       "        text-align: right;\n",
       "    }\n",
       "</style>\n",
       "<table border=\"1\" class=\"dataframe\">\n",
       "  <thead>\n",
       "    <tr style=\"text-align: right;\">\n",
       "      <th>Species</th>\n",
       "      <th>Atlantic Salmon</th>\n",
       "      <th>Brown Trout</th>\n",
       "      <th>Chinook</th>\n",
       "      <th>Coho</th>\n",
       "      <th>Lake Herring (Cisco)</th>\n",
       "      <th>Lake Sturgeon</th>\n",
       "      <th>Lake Trout</th>\n",
       "      <th>Landlocked Salmon</th>\n",
       "      <th>Rainbow Trout</th>\n",
       "    </tr>\n",
       "    <tr>\n",
       "      <th>Country</th>\n",
       "      <th></th>\n",
       "      <th></th>\n",
       "      <th></th>\n",
       "      <th></th>\n",
       "      <th></th>\n",
       "      <th></th>\n",
       "      <th></th>\n",
       "      <th></th>\n",
       "      <th></th>\n",
       "    </tr>\n",
       "  </thead>\n",
       "  <tbody>\n",
       "    <tr>\n",
       "      <th>Canada</th>\n",
       "      <td>27001.0</td>\n",
       "      <td>1441018.0</td>\n",
       "      <td>2216757.0</td>\n",
       "      <td>NaN</td>\n",
       "      <td>NaN</td>\n",
       "      <td>NaN</td>\n",
       "      <td>469587.0</td>\n",
       "      <td>NaN</td>\n",
       "      <td>276915.0</td>\n",
       "    </tr>\n",
       "    <tr>\n",
       "      <th>US</th>\n",
       "      <td>NaN</td>\n",
       "      <td>3773357.0</td>\n",
       "      <td>669110.0</td>\n",
       "      <td>126910.0</td>\n",
       "      <td>213910.0</td>\n",
       "      <td>14233.0</td>\n",
       "      <td>4288799.0</td>\n",
       "      <td>165660.0</td>\n",
       "      <td>463715.0</td>\n",
       "    </tr>\n",
       "  </tbody>\n",
       "</table>\n",
       "</div>"
      ],
      "text/plain": [
       "Species  Atlantic Salmon  Brown Trout    Chinook      Coho  \\\n",
       "Country                                                      \n",
       "Canada           27001.0    1441018.0  2216757.0       NaN   \n",
       "US                   NaN    3773357.0   669110.0  126910.0   \n",
       "\n",
       "Species  Lake Herring (Cisco)  Lake Sturgeon  Lake Trout  Landlocked Salmon  \\\n",
       "Country                                                                       \n",
       "Canada                    NaN            NaN    469587.0                NaN   \n",
       "US                   213910.0        14233.0   4288799.0           165660.0   \n",
       "\n",
       "Species  Rainbow Trout  \n",
       "Country                 \n",
       "Canada        276915.0  \n",
       "US            463715.0  "
      ]
     },
     "execution_count": 51,
     "metadata": {},
     "output_type": "execute_result"
    }
   ],
   "source": [
    "combined_df.groupby(['Country', 'Species'])['Number'].sum().unstack()"
   ]
  },
  {
   "cell_type": "code",
   "execution_count": 98,
   "id": "823af3cd-67de-4489-b651-f60b03dd9000",
   "metadata": {},
   "outputs": [
    {
     "data": {
      "image/png": "[encoded data removed]",
      "text/plain": [
       "<Figure size 864x504 with 1 Axes>"
      ]
     },
     "metadata": {
      "needs_background": "light"
     },
     "output_type": "display_data"
    }
   ],
   "source": [
    "combined_df.groupby(['Species', 'Country'])['Number'].sum().unstack().plot(kind='bar',figsize=(12,7))\n",
    "plt.title('Total Stocking of Each Species Per Year (2013-2021)')\n",
    "plt.xlabel('Species')\n",
    "plt.ylabel('Amount (Shown in Quantities of 100,000)')\n",
    "plt.show()"
   ]
  },
  {
   "cell_type": "markdown",
   "id": "0c7889a3-f65d-44b1-a70f-899d891c015f",
   "metadata": {},
   "source": [
    "This bar graph depicts the total stocking of each fish species from both New York and Ontario. The x axis displays the total of nine species stocked by the US and Canada. The y axis depicts the amount of fish that were stocked in hundreds of thousands.\n",
    "\n",
    "In species that stocked by both New York and Ontario –– we can see a blue bar representing Canada and an orange bar representing the US –– next to each other. The four stocking fish that the countries have in common are Brown Trout, Chinook Salmon, Lake Trout, and Rainbow Trout."
   ]
  },
  {
   "cell_type": "markdown",
   "id": "b9022dc5-76ac-4324-aca8-eb2bfd8dd795",
   "metadata": {},
   "source": [
    "### Extracting Species US and Canada Have in Common\n",
    "    1. Brown Trout\n",
    "    2. Chinook\n",
    "    3. Lake Trout\n",
    "    4. Rainbow Trout"
   ]
  },
  {
   "cell_type": "code",
   "execution_count": 53,
   "id": "745f1524-8fcb-4644-92ed-8884e1e0a620",
   "metadata": {},
   "outputs": [],
   "source": [
    "species_to_use = ['Brown Trout', 'Chinook', 'Lake Trout', 'Rainbow Trout']"
   ]
  },
  {
   "cell_type": "code",
   "execution_count": 54,
   "id": "691deaf0-e845-4dfe-8fc4-83333688fcee",
   "metadata": {},
   "outputs": [],
   "source": [
    "species_filter = combined_df['Species'].isin(species_to_use)"
   ]
  },
  {
   "cell_type": "code",
   "execution_count": 55,
   "id": "2f079f16-e073-4752-9e28-9f4fd2115e85",
   "metadata": {},
   "outputs": [],
   "source": [
    "combined_filtered_df = combined_df[species_filter].drop_duplicates()"
   ]
  },
  {
   "cell_type": "code",
   "execution_count": 100,
   "id": "c5d0ff57-6529-4b62-bc0a-79076bd2325a",
   "metadata": {},
   "outputs": [
    {
     "data": {
      "image/png": "[encoded data removed]",
      "text/plain": [
       "<Figure size 864x504 with 1 Axes>"
      ]
     },
     "metadata": {
      "needs_background": "light"
     },
     "output_type": "display_data"
    }
   ],
   "source": [
    "combined_filtered_df.groupby(['Species', 'Country'])['Number'].sum().unstack().plot(kind='bar',figsize=(12,7))\n",
    "plt.title('Total Stocking of Shared Species Per Year (2013-2021)')\n",
    "plt.xlabel('Species')\n",
    "plt.ylabel('Amount (Shown in Quantities of 100,000)')\n",
    "plt.show()"
   ]
  },
  {
   "cell_type": "markdown",
   "id": "cd425a67-cc31-47b2-bd97-9f4df1729e79",
   "metadata": {},
   "source": [
    "This bar graph depicts the total stocking of each of the shared species between New York and Ontario. The x axis shows the total of four shared species which are Brown Trout, Chinook Salmon, Lake Trout, and Rainbow Trout. The y axis depicts the amount of fish that were stocked in hundreds of thousands in Lake Ontario. A blue bar represents Canada and an orange bar represents the US.\n",
    "\n",
    "In each of the four species we can see that one country always out-stocks the other. Brown Trout, Lake Trout, and Rainbow Trout are all stocked more by the US. The only species that is stocked more by Canada are the Chinook Salmon. Of all four species, Lake Trout is the fish stocked the most by the US--surpassing 400,000 fish. Of the four species, Canada is responsible for stocking the most Chinook Salmon--surpassing 200,000 fish. However, overall Lake Trout is the most stocked fish between the two countries."
   ]
  },
  {
   "cell_type": "markdown",
   "id": "13dbb8cd-f8e3-4c14-a033-e773a5534e4d",
   "metadata": {},
   "source": [
    "### Patterns over time"
   ]
  },
  {
   "cell_type": "code",
   "execution_count": null,
   "id": "f27f26c0-79d5-43b8-82d6-34e9ac633986",
   "metadata": {},
   "outputs": [
    {
     "data": {
      "image/png": "[encoded data removed]",
      "text/plain": [
       "<Figure size 1008x432 with 2 Axes>"
      ]
     },
     "metadata": {
      "needs_background": "light"
     },
     "output_type": "display_data"
    }
   ],
   "source": [
    "US = combined_filtered_df['Country']=='US'\n",
    "\n",
    "\n",
    "fig, ax = plt.subplots(1,2, figsize=(14,6))\n",
    "\n",
    "sns.lineplot(x='Year', y='Number', hue='Species', \n",
    "             data=combined_filtered_df[US], ax=ax[0])\n",
    "\n",
    "\n",
    "sns.lineplot(x='Year', y='Number', hue='Species', \n",
    "             data=combined_filtered_df[-US], ax=ax[1])\n",
    "\n",
    "ax[0].set_title('US Stocking 2013-2021')\n",
    "ax[1].set_title('Canada Stocking 2013-2021')\n",
    "\n",
    "plt.show()"
   ]
  },
  {
   "cell_type": "code",
   "execution_count": 114,
   "id": "44d34e59-1d22-4e32-b487-7e55df294a4c",
   "metadata": {},
   "outputs": [
    {
     "data": {
      "image/png": "[encoded data removed]",
      "text/plain": [
       "<Figure size 538.125x216 with 2 Axes>"
      ]
     },
     "metadata": {
      "needs_background": "light"
     },
     "output_type": "display_data"
    }
   ],
   "source": [
    "g=sns.FacetGrid(hue='Species', col='Country', data=combined_filtered_df)\n",
    "g.map_dataframe(sns.lineplot, x='Year', y='Number')\n",
    "g.add_legend()\n",
    "\n",
    "ax[0].set_title('US Stocking 2013-2021')\n",
    "ax[1].set_title('Canada Stocking 2013-2021') ##? cant insert title or make bigger\n",
    "\n",
    "plt.show()"
   ]
  },
  {
   "cell_type": "markdown",
   "id": "9510d81d-0dc8-4743-a932-e85f67572f62",
   "metadata": {},
   "source": [
    "A side by side comparison shows the amount each of the four shared species are stocked by the US and Canada. \n",
    "\n",
    "The line graph on the left shows the amount of Brown Trout, Chinook, Lake Trout, and Rainbow Trout stocked across the years in the US. During the years of 2013 and 2015, the US stocked Lake Trout more than the other three species before taking a sharp decrease in 2015 through 2017. The amount of Lake Trout stocked began increasing again in 2017, but never jumped back to its original amounts. Instead, Lake Trout once again, begins a decrease pattern in 2019, unlike any other of the other three species. Since dipping below Brown Trout in 2016, Lake Trout has yet to out-stock Brown Trout once again. Brown Trout stocking in the US has a more consistent pattern compared to Lake Trout with occasional spikes and what seems like a slow but steady increase across the years. Chinook, and Rainbow Trout are the amount least stocked in the US and seem to stick to a consistent pattern throughout the years, until stopping in 2019.\n",
    "\n",
    "The line graph on the right shows the amount of Brown Trout, Chinook, Lake Trout, and Rainbow Trout stocked across the years in Canada. Across the board, there is less distribution/outliers of amount stocked between the four species--all four species stick closer together. Still, Chinook is the species most stocked in Canada and also seems to experience the most fluctuation out of the four, with peaks in 2016 and 2020. By the end of 2021, amount of Chinook stocked in Canada has reached its lowest point since 2013. Brown Trout seems to consistently be the second largest amount of fish stocked, but experiences a much more steady pattern across the years, with only a minimal amount increase by the end of 2021. Rainbow Trout remained to be the least stocked species in Canada, with a very stable pattern of stocking, until 2020. In 2020, Lake Trout dipped below Rainbow Trout as Canada terminated Lake Trout stocking.\n",
    "\n",
    "When comparing US and Canada, Rainbow Trout in both countries are the species most similarly stocked. While the US has terminated their stocking of Rainbow Trout and Chinook, Canada continues to stock both fish in their usual pattern. Additionally, while Canada has terminated stocking of Lake Trout, the US continues to stock Lake Trout, but with an evident decrease."
   ]
  },
  {
   "cell_type": "code",
   "execution_count": null,
   "id": "bca7a5eb-ab8b-4308-bbce-eb9d5d4e7474",
   "metadata": {},
   "outputs": [],
   "source": []
  },
  {
   "cell_type": "code",
   "execution_count": null,
   "id": "65cbe2db-c29f-41d5-ac0e-69fbdb5b6117",
   "metadata": {},
   "outputs": [],
   "source": []
  }
 ],
 "metadata": {
  "kernelspec": {
   "display_name": "Python 3 (COMM318)",
   "language": "python",
   "name": "python3"
  },
  "language_info": {
   "codemirror_mode": {
    "name": "ipython",
    "version": 3
   },
   "file_extension": ".py",
   "mimetype": "text/x-python",
   "name": "python",
   "nbconvert_exporter": "python",
   "pygments_lexer": "ipython3",
   "version": "3.8.8"
  }
 },
 "nbformat": 4,
 "nbformat_minor": 5
}
