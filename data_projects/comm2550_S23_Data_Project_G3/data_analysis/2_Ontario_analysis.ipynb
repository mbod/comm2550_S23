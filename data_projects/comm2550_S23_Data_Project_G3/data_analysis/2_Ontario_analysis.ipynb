{
 "cells": [
  {
   "cell_type": "markdown",
   "id": "157584a9-ce1a-4ed0-bb5f-c3a08c4eaa01",
   "metadata": {},
   "source": [
    "# Ontario Fish Stocking\n",
    "\n",
    "This notebook contains a series of cells that analyzes open data on fish stocking in Ontario, Canada\n",
    "\n",
    "----"
   ]
  },
  {
   "cell_type": "code",
   "execution_count": 4,
   "id": "f2f2d983-685c-43a4-b0f2-3a971f007507",
   "metadata": {},
   "outputs": [],
   "source": [
    "import pandas as pd\n",
    "import geopandas as gpd\n",
    "\n",
    "import matplotlib.pyplot as plt\n",
    "import warnings\n",
    "warnings.filterwarnings('ignore')"
   ]
  },
  {
   "cell_type": "markdown",
   "id": "356b824b-df25-4ed8-b394-bd8da4cf76d7",
   "metadata": {
    "tags": []
   },
   "source": [
    "## Dowloading Data: Ontario Fish Stocking CSV"
   ]
  },
  {
   "cell_type": "code",
   "execution_count": 5,
   "id": "53cfc48b-dcbd-4259-955e-c57f1dec6c16",
   "metadata": {},
   "outputs": [],
   "source": [
    "ontario_df = pd.read_csv('../data/ON_Stocking.csv')"
   ]
  },
  {
   "cell_type": "code",
   "execution_count": 6,
   "id": "dd0e80ef-fd53-423e-8497-37ab76a3f29c",
   "metadata": {},
   "outputs": [
    {
     "data": {
      "text/plain": [
       "(13757, 15)"
      ]
     },
     "execution_count": 6,
     "metadata": {},
     "output_type": "execute_result"
    }
   ],
   "source": [
    "ontario_df.shape"
   ]
  },
  {
   "cell_type": "code",
   "execution_count": 7,
   "id": "7947f7f6-d811-498d-a67e-ae06139b9465",
   "metadata": {},
   "outputs": [
    {
     "data": {
      "text/html": [
       "<div>\n",
       "<style scoped>\n",
       "    .dataframe tbody tr th:only-of-type {\n",
       "        vertical-align: middle;\n",
       "    }\n",
       "\n",
       "    .dataframe tbody tr th {\n",
       "        vertical-align: top;\n",
       "    }\n",
       "\n",
       "    .dataframe thead th {\n",
       "        text-align: right;\n",
       "    }\n",
       "</style>\n",
       "<table border=\"1\" class=\"dataframe\">\n",
       "  <thead>\n",
       "    <tr style=\"text-align: right;\">\n",
       "      <th></th>\n",
       "      <th>X</th>\n",
       "      <th>Y</th>\n",
       "      <th>MNRF_District</th>\n",
       "      <th>Stocking_Year</th>\n",
       "      <th>Species</th>\n",
       "      <th>Official_Waterbody_Name</th>\n",
       "      <th>Official_French_Waterbody_Name</th>\n",
       "      <th>Unoffcial_Waterbody_Name</th>\n",
       "      <th>Waterbody_Location_Identifier</th>\n",
       "      <th>Geographic_Township</th>\n",
       "      <th>Developmental_Stage</th>\n",
       "      <th>Number_of_Fish_Stocked</th>\n",
       "      <th>Latitude</th>\n",
       "      <th>Longitude</th>\n",
       "      <th>ObjectId</th>\n",
       "    </tr>\n",
       "  </thead>\n",
       "  <tbody>\n",
       "    <tr>\n",
       "      <th>0</th>\n",
       "      <td>-76.929648</td>\n",
       "      <td>44.989589</td>\n",
       "      <td>Bancroft District</td>\n",
       "      <td>2013</td>\n",
       "      <td>Brook Trout</td>\n",
       "      <td>Crooked Lake</td>\n",
       "      <td>lac Crooked</td>\n",
       "      <td>NaN</td>\n",
       "      <td>18-3479-49834</td>\n",
       "      <td>CLARENDON</td>\n",
       "      <td>Yearlings</td>\n",
       "      <td>2000</td>\n",
       "      <td>44.989589</td>\n",
       "      <td>-76.929648</td>\n",
       "      <td>1</td>\n",
       "    </tr>\n",
       "    <tr>\n",
       "      <th>1</th>\n",
       "      <td>-77.609710</td>\n",
       "      <td>44.973660</td>\n",
       "      <td>Bancroft District</td>\n",
       "      <td>2013</td>\n",
       "      <td>Brook Trout</td>\n",
       "      <td>Currie Lake</td>\n",
       "      <td>lac Currie</td>\n",
       "      <td>NaN</td>\n",
       "      <td>18-2942-49831</td>\n",
       "      <td>CASHEL</td>\n",
       "      <td>Yearlings</td>\n",
       "      <td>750</td>\n",
       "      <td>44.973660</td>\n",
       "      <td>-77.609710</td>\n",
       "      <td>2</td>\n",
       "    </tr>\n",
       "    <tr>\n",
       "      <th>2</th>\n",
       "      <td>-78.148330</td>\n",
       "      <td>45.038380</td>\n",
       "      <td>Bancroft District</td>\n",
       "      <td>2013</td>\n",
       "      <td>Brook Trout</td>\n",
       "      <td>Dixie Lake</td>\n",
       "      <td>lac Dixie</td>\n",
       "      <td>NaN</td>\n",
       "      <td>17-7246-49909</td>\n",
       "      <td>CARDIFF</td>\n",
       "      <td>Yearlings</td>\n",
       "      <td>800</td>\n",
       "      <td>45.038380</td>\n",
       "      <td>-78.148330</td>\n",
       "      <td>3</td>\n",
       "    </tr>\n",
       "    <tr>\n",
       "      <th>3</th>\n",
       "      <td>-77.612480</td>\n",
       "      <td>44.981160</td>\n",
       "      <td>Bancroft District</td>\n",
       "      <td>2013</td>\n",
       "      <td>Brook Trout</td>\n",
       "      <td>East Tommy Lake</td>\n",
       "      <td>lac Tommy Est</td>\n",
       "      <td>NaN</td>\n",
       "      <td>18-2940-49840</td>\n",
       "      <td>CASHEL</td>\n",
       "      <td>Yearlings</td>\n",
       "      <td>1100</td>\n",
       "      <td>44.981160</td>\n",
       "      <td>-77.612480</td>\n",
       "      <td>4</td>\n",
       "    </tr>\n",
       "    <tr>\n",
       "      <th>4</th>\n",
       "      <td>-77.285520</td>\n",
       "      <td>44.994220</td>\n",
       "      <td>Bancroft District</td>\n",
       "      <td>2013</td>\n",
       "      <td>Brook Trout</td>\n",
       "      <td>Feeny Lake</td>\n",
       "      <td>lac Feeny</td>\n",
       "      <td>NaN</td>\n",
       "      <td>18-3198-49846</td>\n",
       "      <td>EFFINGHAM</td>\n",
       "      <td>Yearlings</td>\n",
       "      <td>800</td>\n",
       "      <td>44.994220</td>\n",
       "      <td>-77.285520</td>\n",
       "      <td>5</td>\n",
       "    </tr>\n",
       "    <tr>\n",
       "      <th>5</th>\n",
       "      <td>-77.807040</td>\n",
       "      <td>45.587660</td>\n",
       "      <td>Bancroft District</td>\n",
       "      <td>2013</td>\n",
       "      <td>Brook Trout</td>\n",
       "      <td>Finger Lake</td>\n",
       "      <td>lac Finger</td>\n",
       "      <td>NaN</td>\n",
       "      <td>18-2816-50514</td>\n",
       "      <td>DICKENS</td>\n",
       "      <td>Yearlings</td>\n",
       "      <td>800</td>\n",
       "      <td>45.587660</td>\n",
       "      <td>-77.807040</td>\n",
       "      <td>6</td>\n",
       "    </tr>\n",
       "    <tr>\n",
       "      <th>6</th>\n",
       "      <td>-76.961620</td>\n",
       "      <td>45.120330</td>\n",
       "      <td>Bancroft District</td>\n",
       "      <td>2013</td>\n",
       "      <td>Brook Trout</td>\n",
       "      <td>Graham Lake</td>\n",
       "      <td>lac Graham</td>\n",
       "      <td>NaN</td>\n",
       "      <td>18-3457-49980</td>\n",
       "      <td>MILLER</td>\n",
       "      <td>Yearlings</td>\n",
       "      <td>500</td>\n",
       "      <td>45.120330</td>\n",
       "      <td>-76.961620</td>\n",
       "      <td>7</td>\n",
       "    </tr>\n",
       "    <tr>\n",
       "      <th>7</th>\n",
       "      <td>-77.289970</td>\n",
       "      <td>45.093380</td>\n",
       "      <td>Bancroft District</td>\n",
       "      <td>2013</td>\n",
       "      <td>Brook Trout</td>\n",
       "      <td>Greggs Lake</td>\n",
       "      <td>lac Greggs</td>\n",
       "      <td>NaN</td>\n",
       "      <td>18-3198-49957</td>\n",
       "      <td>DENBIGH</td>\n",
       "      <td>Yearlings</td>\n",
       "      <td>600</td>\n",
       "      <td>45.093380</td>\n",
       "      <td>-77.289970</td>\n",
       "      <td>8</td>\n",
       "    </tr>\n",
       "    <tr>\n",
       "      <th>8</th>\n",
       "      <td>-78.176801</td>\n",
       "      <td>45.026502</td>\n",
       "      <td>Bancroft District</td>\n",
       "      <td>2013</td>\n",
       "      <td>Brook Trout</td>\n",
       "      <td>Halls Lake</td>\n",
       "      <td>lac Halls</td>\n",
       "      <td>NaN</td>\n",
       "      <td>17-7224-49896</td>\n",
       "      <td>CARDIFF</td>\n",
       "      <td>Yearlings</td>\n",
       "      <td>800</td>\n",
       "      <td>45.026502</td>\n",
       "      <td>-78.176801</td>\n",
       "      <td>9</td>\n",
       "    </tr>\n",
       "    <tr>\n",
       "      <th>9</th>\n",
       "      <td>-78.443900</td>\n",
       "      <td>45.212560</td>\n",
       "      <td>Bancroft District</td>\n",
       "      <td>2013</td>\n",
       "      <td>Brook Trout</td>\n",
       "      <td>Harburn Lake</td>\n",
       "      <td>lac Harburn</td>\n",
       "      <td>NaN</td>\n",
       "      <td>17-7007-50095</td>\n",
       "      <td>HARBURN</td>\n",
       "      <td>Yearlings</td>\n",
       "      <td>3100</td>\n",
       "      <td>45.212560</td>\n",
       "      <td>-78.443900</td>\n",
       "      <td>10</td>\n",
       "    </tr>\n",
       "  </tbody>\n",
       "</table>\n",
       "</div>"
      ],
      "text/plain": [
       "           X          Y      MNRF_District  Stocking_Year      Species  \\\n",
       "0 -76.929648  44.989589  Bancroft District           2013  Brook Trout   \n",
       "1 -77.609710  44.973660  Bancroft District           2013  Brook Trout   \n",
       "2 -78.148330  45.038380  Bancroft District           2013  Brook Trout   \n",
       "3 -77.612480  44.981160  Bancroft District           2013  Brook Trout   \n",
       "4 -77.285520  44.994220  Bancroft District           2013  Brook Trout   \n",
       "5 -77.807040  45.587660  Bancroft District           2013  Brook Trout   \n",
       "6 -76.961620  45.120330  Bancroft District           2013  Brook Trout   \n",
       "7 -77.289970  45.093380  Bancroft District           2013  Brook Trout   \n",
       "8 -78.176801  45.026502  Bancroft District           2013  Brook Trout   \n",
       "9 -78.443900  45.212560  Bancroft District           2013  Brook Trout   \n",
       "\n",
       "  Official_Waterbody_Name Official_French_Waterbody_Name  \\\n",
       "0            Crooked Lake                    lac Crooked   \n",
       "1             Currie Lake                     lac Currie   \n",
       "2              Dixie Lake                      lac Dixie   \n",
       "3         East Tommy Lake                  lac Tommy Est   \n",
       "4              Feeny Lake                      lac Feeny   \n",
       "5             Finger Lake                     lac Finger   \n",
       "6             Graham Lake                     lac Graham   \n",
       "7             Greggs Lake                     lac Greggs   \n",
       "8              Halls Lake                      lac Halls   \n",
       "9            Harburn Lake                    lac Harburn   \n",
       "\n",
       "  Unoffcial_Waterbody_Name Waterbody_Location_Identifier Geographic_Township  \\\n",
       "0                      NaN                 18-3479-49834           CLARENDON   \n",
       "1                      NaN                 18-2942-49831              CASHEL   \n",
       "2                      NaN                 17-7246-49909             CARDIFF   \n",
       "3                      NaN                 18-2940-49840              CASHEL   \n",
       "4                      NaN                 18-3198-49846           EFFINGHAM   \n",
       "5                      NaN                 18-2816-50514             DICKENS   \n",
       "6                      NaN                 18-3457-49980              MILLER   \n",
       "7                      NaN                 18-3198-49957             DENBIGH   \n",
       "8                      NaN                 17-7224-49896             CARDIFF   \n",
       "9                      NaN                 17-7007-50095             HARBURN   \n",
       "\n",
       "  Developmental_Stage  Number_of_Fish_Stocked   Latitude  Longitude  ObjectId  \n",
       "0           Yearlings                    2000  44.989589 -76.929648         1  \n",
       "1           Yearlings                     750  44.973660 -77.609710         2  \n",
       "2           Yearlings                     800  45.038380 -78.148330         3  \n",
       "3           Yearlings                    1100  44.981160 -77.612480         4  \n",
       "4           Yearlings                     800  44.994220 -77.285520         5  \n",
       "5           Yearlings                     800  45.587660 -77.807040         6  \n",
       "6           Yearlings                     500  45.120330 -76.961620         7  \n",
       "7           Yearlings                     600  45.093380 -77.289970         8  \n",
       "8           Yearlings                     800  45.026502 -78.176801         9  \n",
       "9           Yearlings                    3100  45.212560 -78.443900        10  "
      ]
     },
     "execution_count": 7,
     "metadata": {},
     "output_type": "execute_result"
    }
   ],
   "source": [
    "ontario_df.head(10)"
   ]
  },
  {
   "cell_type": "markdown",
   "id": "05dd0d8a-2c39-4a43-be88-f9a859f47122",
   "metadata": {},
   "source": [
    "## Cleaning up & Applying Filters"
   ]
  },
  {
   "cell_type": "markdown",
   "id": "3291f5cb-f1ae-4f92-ad38-3b4d45553444",
   "metadata": {},
   "source": [
    "### Extracting Occurrences Where Lake Ontario Was Stocked"
   ]
  },
  {
   "cell_type": "code",
   "execution_count": 8,
   "id": "d9513f36-729a-4535-9931-25f519ee53ac",
   "metadata": {},
   "outputs": [
    {
     "data": {
      "text/plain": [
       "(238, 15)"
      ]
     },
     "execution_count": 8,
     "metadata": {},
     "output_type": "execute_result"
    }
   ],
   "source": [
    "lake_ontario = ontario_df.loc[ontario_df['Official_Waterbody_Name'] == \"Lake Ontario\"]\n",
    "lake_ontario.shape"
   ]
  },
  {
   "cell_type": "code",
   "execution_count": 9,
   "id": "b61c558e-7e39-4f4a-abd6-a6c09aa32f9a",
   "metadata": {},
   "outputs": [
    {
     "data": {
      "text/plain": [
       "array([2013, 2017, 2014, 2015, 2016, 2020, 2021, 2018, 2022, 2019, 2023])"
      ]
     },
     "execution_count": 9,
     "metadata": {},
     "output_type": "execute_result"
    }
   ],
   "source": [
    "lake_ontario['Stocking_Year'].unique()"
   ]
  },
  {
   "cell_type": "markdown",
   "id": "075a1cee-9c2c-48a8-9904-31dab7e03e61",
   "metadata": {},
   "source": [
    "### Extracting Required Years (2013 - 2021)"
   ]
  },
  {
   "cell_type": "markdown",
   "id": "36e29636-96b9-4c56-bdb6-01bf9e562b47",
   "metadata": {},
   "source": [
    "year_filter = lake_ontario['Stocking_Year'] <2022\n",
    "ca_lake_ontario = lake_ontario[year_filter]\n",
    "ca_lake_ontario['Stocking_Year'].unique()"
   ]
  },
  {
   "cell_type": "code",
   "execution_count": 18,
   "id": "0cf16e91-f50d-4dcd-b311-53f1725a807a",
   "metadata": {},
   "outputs": [],
   "source": [
    "ca_lake_ontario.to_csv('../data/ON_lakeontario_2013-2021.csv', index=False)"
   ]
  },
  {
   "cell_type": "markdown",
   "id": "02ef5df9-d8f3-457b-825c-790e3f512f6d",
   "metadata": {},
   "source": [
    "## Exploring Species Stocked"
   ]
  },
  {
   "cell_type": "code",
   "execution_count": 11,
   "id": "3d752609-d753-49f7-88f2-2e866d2e9854",
   "metadata": {},
   "outputs": [
    {
     "name": "stdout",
     "output_type": "stream",
     "text": [
      "['Brown Trout' 'Chinook Salmon' 'Lake Trout' 'Rainbow Trout'\n",
      " 'Atlantic Salmon']\n"
     ]
    }
   ],
   "source": [
    "ca_species = ca_lake_ontario['Species'].unique()\n",
    "print(ca_species)"
   ]
  },
  {
   "cell_type": "code",
   "execution_count": 12,
   "id": "3b378954-7738-48bb-8f43-a649c4f98068",
   "metadata": {},
   "outputs": [
    {
     "name": "stdout",
     "output_type": "stream",
     "text": [
      "Brown Trout        79\n",
      "Chinook Salmon     76\n",
      "Lake Trout         25\n",
      "Rainbow Trout      18\n",
      "Atlantic Salmon    17\n",
      "Name: Species, dtype: int64\n"
     ]
    }
   ],
   "source": [
    "ca_species_count = ca_lake_ontario['Species'].value_counts()\n",
    "print(ca_species_count)"
   ]
  },
  {
   "cell_type": "markdown",
   "id": "35558f50-0131-4f6f-8c27-208e3051b74a",
   "metadata": {},
   "source": [
    "### Creating a data subset grouped by Stocking Year followed by Species"
   ]
  },
  {
   "cell_type": "code",
   "execution_count": 13,
   "id": "a282f69e-318a-4012-960e-f1770ef0325e",
   "metadata": {},
   "outputs": [
    {
     "data": {
      "text/html": [
       "<div>\n",
       "<style scoped>\n",
       "    .dataframe tbody tr th:only-of-type {\n",
       "        vertical-align: middle;\n",
       "    }\n",
       "\n",
       "    .dataframe tbody tr th {\n",
       "        vertical-align: top;\n",
       "    }\n",
       "\n",
       "    .dataframe thead th {\n",
       "        text-align: right;\n",
       "    }\n",
       "</style>\n",
       "<table border=\"1\" class=\"dataframe\">\n",
       "  <thead>\n",
       "    <tr style=\"text-align: right;\">\n",
       "      <th>Species</th>\n",
       "      <th>Atlantic Salmon</th>\n",
       "      <th>Brown Trout</th>\n",
       "      <th>Chinook Salmon</th>\n",
       "      <th>Lake Trout</th>\n",
       "      <th>Rainbow Trout</th>\n",
       "    </tr>\n",
       "    <tr>\n",
       "      <th>Stocking_Year</th>\n",
       "      <th></th>\n",
       "      <th></th>\n",
       "      <th></th>\n",
       "      <th></th>\n",
       "      <th></th>\n",
       "    </tr>\n",
       "  </thead>\n",
       "  <tbody>\n",
       "    <tr>\n",
       "      <th>2013</th>\n",
       "      <td>NaN</td>\n",
       "      <td>10.0</td>\n",
       "      <td>9.0</td>\n",
       "      <td>2.0</td>\n",
       "      <td>2.0</td>\n",
       "    </tr>\n",
       "    <tr>\n",
       "      <th>2014</th>\n",
       "      <td>NaN</td>\n",
       "      <td>9.0</td>\n",
       "      <td>10.0</td>\n",
       "      <td>3.0</td>\n",
       "      <td>3.0</td>\n",
       "    </tr>\n",
       "    <tr>\n",
       "      <th>2015</th>\n",
       "      <td>NaN</td>\n",
       "      <td>6.0</td>\n",
       "      <td>11.0</td>\n",
       "      <td>11.0</td>\n",
       "      <td>4.0</td>\n",
       "    </tr>\n",
       "    <tr>\n",
       "      <th>2016</th>\n",
       "      <td>1.0</td>\n",
       "      <td>8.0</td>\n",
       "      <td>9.0</td>\n",
       "      <td>8.0</td>\n",
       "      <td>NaN</td>\n",
       "    </tr>\n",
       "    <tr>\n",
       "      <th>2017</th>\n",
       "      <td>NaN</td>\n",
       "      <td>9.0</td>\n",
       "      <td>9.0</td>\n",
       "      <td>NaN</td>\n",
       "      <td>1.0</td>\n",
       "    </tr>\n",
       "    <tr>\n",
       "      <th>2018</th>\n",
       "      <td>3.0</td>\n",
       "      <td>9.0</td>\n",
       "      <td>7.0</td>\n",
       "      <td>NaN</td>\n",
       "      <td>2.0</td>\n",
       "    </tr>\n",
       "    <tr>\n",
       "      <th>2019</th>\n",
       "      <td>8.0</td>\n",
       "      <td>9.0</td>\n",
       "      <td>9.0</td>\n",
       "      <td>NaN</td>\n",
       "      <td>1.0</td>\n",
       "    </tr>\n",
       "    <tr>\n",
       "      <th>2020</th>\n",
       "      <td>NaN</td>\n",
       "      <td>8.0</td>\n",
       "      <td>8.0</td>\n",
       "      <td>1.0</td>\n",
       "      <td>2.0</td>\n",
       "    </tr>\n",
       "    <tr>\n",
       "      <th>2021</th>\n",
       "      <td>5.0</td>\n",
       "      <td>11.0</td>\n",
       "      <td>4.0</td>\n",
       "      <td>NaN</td>\n",
       "      <td>3.0</td>\n",
       "    </tr>\n",
       "  </tbody>\n",
       "</table>\n",
       "</div>"
      ],
      "text/plain": [
       "Species        Atlantic Salmon  Brown Trout  Chinook Salmon  Lake Trout  \\\n",
       "Stocking_Year                                                             \n",
       "2013                       NaN         10.0             9.0         2.0   \n",
       "2014                       NaN          9.0            10.0         3.0   \n",
       "2015                       NaN          6.0            11.0        11.0   \n",
       "2016                       1.0          8.0             9.0         8.0   \n",
       "2017                       NaN          9.0             9.0         NaN   \n",
       "2018                       3.0          9.0             7.0         NaN   \n",
       "2019                       8.0          9.0             9.0         NaN   \n",
       "2020                       NaN          8.0             8.0         1.0   \n",
       "2021                       5.0         11.0             4.0         NaN   \n",
       "\n",
       "Species        Rainbow Trout  \n",
       "Stocking_Year                 \n",
       "2013                     2.0  \n",
       "2014                     3.0  \n",
       "2015                     4.0  \n",
       "2016                     NaN  \n",
       "2017                     1.0  \n",
       "2018                     2.0  \n",
       "2019                     1.0  \n",
       "2020                     2.0  \n",
       "2021                     3.0  "
      ]
     },
     "execution_count": 13,
     "metadata": {},
     "output_type": "execute_result"
    }
   ],
   "source": [
    "species_by_year = ca_lake_ontario.groupby('Stocking_Year')['Species'].value_counts().unstack()\n",
    "species_by_year"
   ]
  },
  {
   "cell_type": "markdown",
   "id": "a1f60120-041a-4fed-a296-56c4bcdcad62",
   "metadata": {},
   "source": [
    "#### Plotting Number of Fish Stocking Occurrences by Species"
   ]
  },
  {
   "cell_type": "code",
   "execution_count": 15,
   "id": "b461ca99-9fc2-47bf-97d7-f923ad07a617",
   "metadata": {},
   "outputs": [
    {
     "data": {
      "image/png": "[encoded data removed]",
      "text/plain": [
       "<Figure size 864x720 with 1 Axes>"
      ]
     },
     "metadata": {
      "needs_background": "light"
     },
     "output_type": "display_data"
    }
   ],
   "source": [
    "species_by_year.plot(kind='bar', stacked=True, figsize=(12,10))\n",
    "plt.ylabel('Proportion of Fish Stocked')\n",
    "plt.xlabel('Year of Stock')\n",
    "plt.title('Proportion of Fish Stocked by Ontario in Lake Ontario by Species (2013-2021)')\n",
    "plt.legend(\n",
    "   bbox_to_anchor=(0.8, 0.4, 0.2, 0.6))\n",
    "plt.show()"
   ]
  },
  {
   "cell_type": "markdown",
   "id": "6487c9af-1830-4d9e-873f-11afb47e176a",
   "metadata": {},
   "source": [
    "By plotting the subset grouped by Stocking Year and Species, we can create a bar graph demonstrating the proportion of occurrences each of the five fish species were stocked in Lake Ontario. \n",
    "\n",
    "The x-axis spans the years (2013-2021), while the y-axis shows the number of times that species was stocked that year. We can immediately tell that Brown Trout and Chinook Salmon are disproportionately stocked compared to the other three species."
   ]
  },
  {
   "cell_type": "markdown",
   "id": "f9d72329-6b35-4d7e-8a53-2e9375ed4dab",
   "metadata": {},
   "source": [
    "### Creating data subset grouped by Stocking Year and Species followed by Number of Fish Stocked"
   ]
  },
  {
   "cell_type": "code",
   "execution_count": 16,
   "id": "a893623e-2364-42ac-b52c-76fa82e561d3",
   "metadata": {},
   "outputs": [
    {
     "data": {
      "text/html": [
       "<div>\n",
       "<style scoped>\n",
       "    .dataframe tbody tr th:only-of-type {\n",
       "        vertical-align: middle;\n",
       "    }\n",
       "\n",
       "    .dataframe tbody tr th {\n",
       "        vertical-align: top;\n",
       "    }\n",
       "\n",
       "    .dataframe thead th {\n",
       "        text-align: right;\n",
       "    }\n",
       "</style>\n",
       "<table border=\"1\" class=\"dataframe\">\n",
       "  <thead>\n",
       "    <tr style=\"text-align: right;\">\n",
       "      <th>Species</th>\n",
       "      <th>Atlantic Salmon</th>\n",
       "      <th>Brown Trout</th>\n",
       "      <th>Chinook Salmon</th>\n",
       "      <th>Lake Trout</th>\n",
       "      <th>Rainbow Trout</th>\n",
       "    </tr>\n",
       "    <tr>\n",
       "      <th>Stocking_Year</th>\n",
       "      <th></th>\n",
       "      <th></th>\n",
       "      <th></th>\n",
       "      <th></th>\n",
       "      <th></th>\n",
       "    </tr>\n",
       "  </thead>\n",
       "  <tbody>\n",
       "    <tr>\n",
       "      <th>2013</th>\n",
       "      <td>NaN</td>\n",
       "      <td>141797.0</td>\n",
       "      <td>283457.0</td>\n",
       "      <td>72180.0</td>\n",
       "      <td>39866.0</td>\n",
       "    </tr>\n",
       "    <tr>\n",
       "      <th>2014</th>\n",
       "      <td>NaN</td>\n",
       "      <td>135716.0</td>\n",
       "      <td>238257.0</td>\n",
       "      <td>155585.0</td>\n",
       "      <td>40122.0</td>\n",
       "    </tr>\n",
       "    <tr>\n",
       "      <th>2015</th>\n",
       "      <td>NaN</td>\n",
       "      <td>151927.0</td>\n",
       "      <td>215645.0</td>\n",
       "      <td>93223.0</td>\n",
       "      <td>53016.0</td>\n",
       "    </tr>\n",
       "    <tr>\n",
       "      <th>2016</th>\n",
       "      <td>25004.0</td>\n",
       "      <td>163727.0</td>\n",
       "      <td>308190.0</td>\n",
       "      <td>134141.0</td>\n",
       "      <td>NaN</td>\n",
       "    </tr>\n",
       "    <tr>\n",
       "      <th>2017</th>\n",
       "      <td>NaN</td>\n",
       "      <td>173741.0</td>\n",
       "      <td>209360.0</td>\n",
       "      <td>NaN</td>\n",
       "      <td>23759.0</td>\n",
       "    </tr>\n",
       "    <tr>\n",
       "      <th>2018</th>\n",
       "      <td>416.0</td>\n",
       "      <td>177911.0</td>\n",
       "      <td>196554.0</td>\n",
       "      <td>NaN</td>\n",
       "      <td>29238.0</td>\n",
       "    </tr>\n",
       "    <tr>\n",
       "      <th>2019</th>\n",
       "      <td>597.0</td>\n",
       "      <td>178721.0</td>\n",
       "      <td>203040.0</td>\n",
       "      <td>NaN</td>\n",
       "      <td>29160.0</td>\n",
       "    </tr>\n",
       "    <tr>\n",
       "      <th>2020</th>\n",
       "      <td>NaN</td>\n",
       "      <td>156320.0</td>\n",
       "      <td>382415.0</td>\n",
       "      <td>14458.0</td>\n",
       "      <td>30137.0</td>\n",
       "    </tr>\n",
       "    <tr>\n",
       "      <th>2021</th>\n",
       "      <td>984.0</td>\n",
       "      <td>161158.0</td>\n",
       "      <td>179839.0</td>\n",
       "      <td>NaN</td>\n",
       "      <td>31617.0</td>\n",
       "    </tr>\n",
       "  </tbody>\n",
       "</table>\n",
       "</div>"
      ],
      "text/plain": [
       "Species        Atlantic Salmon  Brown Trout  Chinook Salmon  Lake Trout  \\\n",
       "Stocking_Year                                                             \n",
       "2013                       NaN     141797.0        283457.0     72180.0   \n",
       "2014                       NaN     135716.0        238257.0    155585.0   \n",
       "2015                       NaN     151927.0        215645.0     93223.0   \n",
       "2016                   25004.0     163727.0        308190.0    134141.0   \n",
       "2017                       NaN     173741.0        209360.0         NaN   \n",
       "2018                     416.0     177911.0        196554.0         NaN   \n",
       "2019                     597.0     178721.0        203040.0         NaN   \n",
       "2020                       NaN     156320.0        382415.0     14458.0   \n",
       "2021                     984.0     161158.0        179839.0         NaN   \n",
       "\n",
       "Species        Rainbow Trout  \n",
       "Stocking_Year                 \n",
       "2013                 39866.0  \n",
       "2014                 40122.0  \n",
       "2015                 53016.0  \n",
       "2016                     NaN  \n",
       "2017                 23759.0  \n",
       "2018                 29238.0  \n",
       "2019                 29160.0  \n",
       "2020                 30137.0  \n",
       "2021                 31617.0  "
      ]
     },
     "execution_count": 16,
     "metadata": {},
     "output_type": "execute_result"
    }
   ],
   "source": [
    "species_amount_by_year = ca_lake_ontario.groupby(['Stocking_Year', 'Species'])['Number_of_Fish_Stocked'].sum().unstack()\n",
    "species_amount_by_year"
   ]
  },
  {
   "cell_type": "markdown",
   "id": "57a17a20-9931-4cc4-8c2c-17151034b729",
   "metadata": {},
   "source": [
    "#### Plotting Amount of Fish Stocked by Year and Species"
   ]
  },
  {
   "cell_type": "code",
   "execution_count": 17,
   "id": "171a60e9-9e71-4d12-b833-dcac1d28deb3",
   "metadata": {},
   "outputs": [
    {
     "data": {
      "image/png": "[encoded data removed]",
      "text/plain": [
       "<Figure size 864x720 with 1 Axes>"
      ]
     },
     "metadata": {
      "needs_background": "light"
     },
     "output_type": "display_data"
    }
   ],
   "source": [
    "species_amount_by_year.plot(kind='line', stacked=True, figsize=(12,10))\n",
    "plt.ylabel('Number of Fish Stocked')\n",
    "plt.xlabel('Year of Stock')\n",
    "plt.title('Number of Fish Stocked by Ontario in Lake Ontario by Species (2013-2021)')\n",
    "plt.legend(\n",
    "   bbox_to_anchor=(1, 0.4, 0.2, 0.6))\n",
    "plt.show()"
   ]
  },
  {
   "cell_type": "markdown",
   "id": "abda9c61-b3dd-40ab-870c-321836bdcaad",
   "metadata": {},
   "source": [
    "By plotting the subset of fish stocked by year followed by species, we can create a line graph demonstrating the amount each of the five fish species were stocked in Lake Ontario across the years.\n",
    "\n",
    "The x-axis spans the years (2013-2021), while the y-axis shows the amount of fish that were stocked that year. We can immediately tell that Chinook Salmon, Lake Trout, and Rainbow Trout have a disproportionate amount of fish stocked compared to Atlantic Salmon and Brown Trout."
   ]
  }
 ],
 "metadata": {
  "kernelspec": {
   "display_name": "Python 3 (COMM318)",
   "language": "python",
   "name": "python3"
  },
  "language_info": {
   "codemirror_mode": {
    "name": "ipython",
    "version": 3
   },
   "file_extension": ".py",
   "mimetype": "text/x-python",
   "name": "python",
   "nbconvert_exporter": "python",
   "pygments_lexer": "ipython3",
   "version": "3.8.8"
  }
 },
 "nbformat": 4,
 "nbformat_minor": 5
}
