{
 "cells": [
  {
   "cell_type": "markdown",
   "id": "d013e0c2-1a03-4639-9c43-8601fc53328d",
   "metadata": {},
   "source": [
    "# Exploring Foreign Aid and It's Impact Globally\n",
    "\n",
    "### Arlette Ngabonzima, Nikita Patel"
   ]
  },
  {
   "cell_type": "markdown",
   "id": "edc84789-f19a-47b7-9c8b-39eb209b88e1",
   "metadata": {},
   "source": [
    "![](../data/Global_Impact.png)"
   ]
  },
  {
   "cell_type": "markdown",
   "id": "f891def8-77f7-4213-9c63-fdc7066d0d5b",
   "metadata": {},
   "source": [
    "### Over the last several years foreign has been scrutinized for its efficacy or lack thereof in supporting developing countries to become sustainable via their aid distribution policies. The following two methods are primary modes of disbursement:\n",
    "- Foreign aid distributed to governments are later collected as debts w/ interest \n",
    "- Used via Non-governmental organizations that are contingent on deliverables "
   ]
  },
  {
   "cell_type": "markdown",
   "id": "5e6530b0-9550-4edc-b542-3fe81e8f36cc",
   "metadata": {},
   "source": [
    "### That got us thinking, do these concepts perpetuate a cycle of reliance and stagnancy?\n"
   ]
  },
  {
   "cell_type": "markdown",
   "id": "284fbdb8-90da-4250-b747-23596e6fcaf4",
   "metadata": {
    "tags": []
   },
   "source": [
    "#### ...so, of course we had to consult the data! Off to the World Bank Datasets we went!"
   ]
  },
  {
   "cell_type": "markdown",
   "id": "322bcbff-255a-47d1-b392-14791ab592b2",
   "metadata": {},
   "source": [
    "![](../data/World_bank.png)"
   ]
  },
  {
   "cell_type": "markdown",
   "id": "59f0d805-1592-4528-93bd-ffc64a870418",
   "metadata": {},
   "source": [
    "### We then imported data related to foreign aid, poverty, & GDP"
   ]
  },
  {
   "cell_type": "markdown",
   "id": "d00558bc-412e-46e7-868f-39478b269cdf",
   "metadata": {},
   "source": [
    "#### Foreign Aid"
   ]
  },
  {
   "cell_type": "markdown",
   "id": "eb391479-ead2-4126-a4b0-91c101177496",
   "metadata": {},
   "source": [
    "From this data set we primarily referenced the ratio variable of net annual development assistance and official aid assistance received in dollars by country across the world.\n"
   ]
  },
  {
   "cell_type": "markdown",
   "id": "c1600d0a-2cf8-4c4a-aeea-5ea4eea72ac5",
   "metadata": {},
   "source": [
    "#### Poverty"
   ]
  },
  {
   "cell_type": "markdown",
   "id": "4484241b-4a36-4157-a539-fbe31abc821e",
   "metadata": {},
   "source": [
    "From this data set we primarily referenced the ratio variable poverty headcount ratio at $2.15 by country across the world.\n",
    "\n",
    "Poverty headcount ratio at \\\\$3.65 a day (2017 PPP) - \"Poverty headcount ratio at \\\\$2.15 a day is the percentage of the population living on less than $2.15 a day at 2017 purchasing power adjusted prices. As a result of revisions in PPP exchange rates, poverty rates for individual countries cannot be compared with poverty rates reported in earlier editions.\""
   ]
  },
  {
   "cell_type": "markdown",
   "id": "6729f252-50ff-418f-accd-a508c762b527",
   "metadata": {},
   "source": [
    "#### GDP"
   ]
  },
  {
   "cell_type": "markdown",
   "id": "1d7e7a55-ada1-4a5a-9bf5-f70faef548a0",
   "metadata": {},
   "source": [
    "From this data set we primarily referenced the ratio variable of annual percent GDP growth by country across the world. GDP is measure of the monetary value of all final goods and services produced within a country or region in a specific time period and reflective of economic standing."
   ]
  },
  {
   "cell_type": "markdown",
   "id": "3ad3eec3-7548-4d50-a6d9-11a5b988940d",
   "metadata": {},
   "source": [
    "## The Process"
   ]
  },
  {
   "cell_type": "markdown",
   "id": "55341869-c29f-4ebd-846d-80d99fbb01a6",
   "metadata": {},
   "source": [
    "1. We merged theses three values to one dataframe that included matching country, year, region, and continent data from 2000-2019\n",
    "2. We then narrowed our analysis to the 4 sub-regions receiving the most foreign aid and 2 receiving the least respectively: Western Africa, Eastern Africa, Southern Asia, Western Asia, Northern America, & Australia and New Zealand in order to take a more in-depth analysis.\n",
    "3. Compared foreign aid with GDP and Poverty over time primarily via a line chart in addition to other analyses using box plots, scatter plots, and bar graphs"
   ]
  },
  {
   "cell_type": "markdown",
   "id": "a392ae8c-ab22-41c1-a043-b41dd22ebbbf",
   "metadata": {},
   "source": [
    "## Conjectures"
   ]
  },
  {
   "cell_type": "markdown",
   "id": "59cea53d-68b5-43ab-940b-3ee6ec5fe7ba",
   "metadata": {},
   "source": [
    "#### Foreign Aid & Poverty"
   ]
  },
  {
   "cell_type": "markdown",
   "id": "eb667840-b9ec-4471-acee-aa107662eb67",
   "metadata": {},
   "source": [
    "Hypothesis: Foreign aid and poverty will have a direct relationship in a sub-region (likely due to the unsustainability of foreign aid disbursement practices and resulting greater need for foreign aid). "
   ]
  },
  {
   "cell_type": "markdown",
   "id": "54d2684b-c2c1-4e7e-af41-c5ae13be3a15",
   "metadata": {},
   "source": [
    "Result: A clear pattern was not apparent across any multiple sub-regions regarding this relationship. Overall, when looking at all foreign aid distributed and the mean poverty headcount ratio, it appears that there is an indirect relationship as poverty by this marker on average across the world has decreased over time. "
   ]
  },
  {
   "cell_type": "markdown",
   "id": "79464083-8534-4462-98d4-4a0df70c0c79",
   "metadata": {},
   "source": [
    "![](../data/HIghest_FA.png)"
   ]
  },
  {
   "cell_type": "markdown",
   "id": "83082ba4-7015-447e-90b8-0b3c25bd1028",
   "metadata": {},
   "source": [
    "![](../data/Wealthier_Poverty.png)"
   ]
  },
  {
   "cell_type": "markdown",
   "id": "944041c2-eb1e-4402-90dd-ca0941ea43ed",
   "metadata": {},
   "source": [
    "##### Contextualizing the data:\n",
    "- Further exploration into Nigeria, a country that showed a relatively greater use of foreign aid, had a loosely negative association with lower poverty levels. For the most part, this is true at the country level that reception of aid indicates at least minor decreases in poverty. \n",
    "- Similarly, despite incidents like the Iraq War in 2005 when Iraq became the highest receiver of foreign aid in 2005, there were no records of its poverty rates. We also see a similar increase in foreign aid in Syria starting in 2011, due to the wider 2011 Arab Spring protests. Nevertheless there are no corresponding decreases in poverty recorded. There seems to be no correlation between foreign aid and poverty rates.\n",
    "- For the two wealthier subregions explored, comparison is difficult due to the lack of foreign aid recieved but Australian floods of 2010–11 that principally affected the three eastern states of Australia and was one of the worst in the country's history. This explains the poverty rate increase that starts from 2010."
   ]
  },
  {
   "cell_type": "markdown",
   "id": "944c5521-5e13-4251-acc5-e10d6c903d42",
   "metadata": {},
   "source": [
    "#### Foreign Aid & GDP"
   ]
  },
  {
   "cell_type": "markdown",
   "id": "97494cf6-88ef-4bb0-9f76-9d447da55c89",
   "metadata": {},
   "source": [
    "Hypothesis: Foreign aid and GDP will have an inverse relationship in a sub-region (likely because foreign aid does not support economic growth)"
   ]
  },
  {
   "cell_type": "markdown",
   "id": "a668c3b7-c9a1-4c2b-b183-f112b302085d",
   "metadata": {},
   "source": [
    "![](../data/GDP.png)"
   ]
  },
  {
   "cell_type": "markdown",
   "id": "a0eedb52-f2fc-47d3-8680-0c7f413459e4",
   "metadata": {},
   "source": [
    "Result: A clear pattern was not apparent across any multiple sub-regions regarding this relationship."
   ]
  },
  {
   "cell_type": "markdown",
   "id": "b3b059b1-79fc-42d4-914c-73a56f443bdd",
   "metadata": {},
   "source": [
    "##### Contextualizing the data: similar nuances as applied to poverty apply to GDP as historical context impacts a country's relationship with others, relationship with their own people and thus impacting resulting foreign aid disbursements and execution. "
   ]
  },
  {
   "cell_type": "markdown",
   "id": "dea01314-317e-40db-a631-8e8c0a9b9323",
   "metadata": {},
   "source": [
    "#### Putting it together"
   ]
  },
  {
   "cell_type": "markdown",
   "id": "9b920c9e-9f16-4c00-8403-7311820a0d0d",
   "metadata": {},
   "source": [
    "Although no one pattern or relationship applies as a blanket for sub-regions or countries, varying existent relationships among foreign aid, GDP, & poverty does emphasize the individual, nuanced impact foreign aid can have on a country as the interest on aid can differ by where a country gets their aid and NGOs can have various missions and execution that can impact foreign aid's impact on a country/ region. Thus, for further inspection of our question analysis by country, its poverty focused NGOs, aid distribution, and poverty rate outcome contextualized by foreign debt and interest  would be an adequate next step. \n",
    "\n",
    "***Corruption Index: Exploring the corruption index for all regions found no significant relationship disproving our consequent hypothesis that corruption may play a role in particularly countries where increased foreign aid is associated with decreasing GDP and/or increasing poverty, but this was not apparent for any sub-region. "
   ]
  },
  {
   "cell_type": "code",
   "execution_count": null,
   "id": "024ebd60-dc28-4c55-a01a-2203684efd64",
   "metadata": {},
   "outputs": [],
   "source": []
  }
 ],
 "metadata": {
  "kernelspec": {
   "display_name": "Python 3 (COMM318)",
   "language": "python",
   "name": "python3"
  },
  "language_info": {
   "codemirror_mode": {
    "name": "ipython",
    "version": 3
   },
   "file_extension": ".py",
   "mimetype": "text/x-python",
   "name": "python",
   "nbconvert_exporter": "python",
   "pygments_lexer": "ipython3",
   "version": "3.8.8"
  }
 },
 "nbformat": 4,
 "nbformat_minor": 5
}
