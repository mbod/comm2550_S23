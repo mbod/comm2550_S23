{
 "cells": [
  {
   "cell_type": "markdown",
   "metadata": {},
   "source": [
    "### Getting Data from Google Trends\n",
    "This notebook outlines the steps to download the Google Trends data.\n",
    "\n",
    "Note: `pytrends` Python package was required and used to run this notebook. Unfortunately, it was not possible to install the required package and dependencies here on Jupyter hub, so this notebook will not run as expected here."
   ]
  },
  {
   "cell_type": "code",
   "execution_count": 1,
   "metadata": {},
   "outputs": [],
   "source": [
    "from pytrends.request import TrendReq, exceptions\n",
    "import pandas as pd\n",
    "import time"
   ]
  },
  {
   "cell_type": "markdown",
   "metadata": {},
   "source": [
    "First, create a list of the keywords we want to query on Google Trends."
   ]
  },
  {
   "cell_type": "code",
   "execution_count": 2,
   "metadata": {},
   "outputs": [],
   "source": [
    "keywords = ['dengue', \n",
    "           'dengue fever', \n",
    "           'bone pain', \n",
    "           'rain', \n",
    "           'mosquito bite', \n",
    "           'fever', \n",
    "           'rashes', \n",
    "           'rash', \n",
    "           'mosquito']"
   ]
  },
  {
   "cell_type": "markdown",
   "metadata": {},
   "source": [
    "We also create a list of timeframes that represent the start and end of each epidemiological year from 2012 to 2022. \n",
    "\n",
    "Dates were referenced from the Central Massachusetts Mosquito Control Project: https://www.cmmcp.org/mosquito-surveillance-data/pages/epi-week-calendars-2008-2023"
   ]
  },
  {
   "cell_type": "code",
   "execution_count": 3,
   "metadata": {},
   "outputs": [],
   "source": [
    "timeframes = ['2022-01-02 2022-12-31',\n",
    "              '2021-01-03 2022-01-01',\n",
    "              '2019-12-29 2021-01-02',\n",
    "              '2018-12-30 2019-12-28',\n",
    "              '2017-12-31 2018-12-29',\n",
    "              '2017-01-01 2017-12-30',\n",
    "              '2016-01-03 2016-12-31',\n",
    "              '2015-01-04 2016-01-02',\n",
    "              '2013-12-29 2015-01-03',\n",
    "              '2012-12-30 2013-12-28',\n",
    "              '2012-01-01 2012-12-29']"
   ]
  },
  {
   "cell_type": "markdown",
   "metadata": {},
   "source": [
    "Now we are ready to use the `pytrends` package to query Google Trends. Note the several \"quirks\" that are important to note when using Google Trends (some of which we found out along the way):\n",
    "\n",
    "1. Querying by specific dates that are about a year apart will result in weekly Trends results\n",
    "2. Querying for a particular time period gives the relative popularity from 0-100% of the search term, not an absolute number of queries\n",
    "3. Querying more than one search term for a particular time period gives the relative popularity across *all* search terms throughout the time period\n",
    "4. However, only up to 5 terms can be searched in one go\n",
    "5. Google Trends will limit the rate at which API calls/requests can be made\n",
    "\n",
    "As such, we decided that we had to (1) query each epidemiological year separately to obtain weekly results, (2) query each search term separately to get more accurate trends of each search term, rather than a relative popularity between batches of 5 search terms."
   ]
  },
  {
   "cell_type": "code",
   "execution_count": 4,
   "metadata": {},
   "outputs": [],
   "source": [
    "def get_trends_data(timeframe, keyword):\n",
    "    res = None\n",
    "    while res is None:\n",
    "        pytrends = TrendReq(hl='en-SG') # reset request so as not to get rate limited by Trends\n",
    "        pytrends.build_payload([keyword], cat=0, geo='SG', timeframe=timeframe)\n",
    "        try:\n",
    "            res = pytrends.interest_over_time()\n",
    "        except:\n",
    "            time.sleep(3)\n",
    "    return res"
   ]
  },
  {
   "cell_type": "code",
   "execution_count": 5,
   "metadata": {},
   "outputs": [
    {
     "name": "stdout",
     "output_type": "stream",
     "text": [
      "Timeframe 11/11 @ Keyword 9/9\r"
     ]
    }
   ],
   "source": [
    "yearly = []\n",
    "for i, timeframe in enumerate(timeframes):\n",
    "    for j, keyword in enumerate(keywords):\n",
    "        print(f'Timeframe {i+1}/{len(timeframes)} @ Keyword {j+1}/{len(keywords)}', end='\\r', flush=True)\n",
    "        yearly.append(get_trends_data(timeframe, keyword))"
   ]
  },
  {
   "cell_type": "markdown",
   "metadata": {},
   "source": [
    "After obtaining the raw data from Google Trends, we can then convert them into dataframes."
   ]
  },
  {
   "cell_type": "code",
   "execution_count": 6,
   "metadata": {},
   "outputs": [
    {
     "data": {
      "text/html": [
       "<div>\n",
       "<style scoped>\n",
       "    .dataframe tbody tr th:only-of-type {\n",
       "        vertical-align: middle;\n",
       "    }\n",
       "\n",
       "    .dataframe tbody tr th {\n",
       "        vertical-align: top;\n",
       "    }\n",
       "\n",
       "    .dataframe thead th {\n",
       "        text-align: right;\n",
       "    }\n",
       "</style>\n",
       "<table border=\"1\" class=\"dataframe\">\n",
       "  <thead>\n",
       "    <tr style=\"text-align: right;\">\n",
       "      <th></th>\n",
       "      <th>date</th>\n",
       "      <th>dengue</th>\n",
       "      <th>dengue fever</th>\n",
       "      <th>bone pain</th>\n",
       "      <th>rain</th>\n",
       "      <th>mosquito bite</th>\n",
       "      <th>fever</th>\n",
       "      <th>rashes</th>\n",
       "      <th>rash</th>\n",
       "      <th>mosquito</th>\n",
       "    </tr>\n",
       "  </thead>\n",
       "  <tbody>\n",
       "    <tr>\n",
       "      <th>0</th>\n",
       "      <td>2022-01-02</td>\n",
       "      <td>10</td>\n",
       "      <td>0</td>\n",
       "      <td>70</td>\n",
       "      <td>85</td>\n",
       "      <td>81</td>\n",
       "      <td>54</td>\n",
       "      <td>27</td>\n",
       "      <td>66</td>\n",
       "      <td>39</td>\n",
       "    </tr>\n",
       "    <tr>\n",
       "      <th>1</th>\n",
       "      <td>2022-01-09</td>\n",
       "      <td>19</td>\n",
       "      <td>0</td>\n",
       "      <td>91</td>\n",
       "      <td>36</td>\n",
       "      <td>31</td>\n",
       "      <td>60</td>\n",
       "      <td>100</td>\n",
       "      <td>63</td>\n",
       "      <td>38</td>\n",
       "    </tr>\n",
       "    <tr>\n",
       "      <th>2</th>\n",
       "      <td>2022-01-16</td>\n",
       "      <td>11</td>\n",
       "      <td>18</td>\n",
       "      <td>0</td>\n",
       "      <td>44</td>\n",
       "      <td>23</td>\n",
       "      <td>64</td>\n",
       "      <td>76</td>\n",
       "      <td>73</td>\n",
       "      <td>48</td>\n",
       "    </tr>\n",
       "    <tr>\n",
       "      <th>3</th>\n",
       "      <td>2022-01-23</td>\n",
       "      <td>16</td>\n",
       "      <td>0</td>\n",
       "      <td>0</td>\n",
       "      <td>32</td>\n",
       "      <td>70</td>\n",
       "      <td>65</td>\n",
       "      <td>53</td>\n",
       "      <td>69</td>\n",
       "      <td>47</td>\n",
       "    </tr>\n",
       "    <tr>\n",
       "      <th>4</th>\n",
       "      <td>2022-01-30</td>\n",
       "      <td>11</td>\n",
       "      <td>0</td>\n",
       "      <td>49</td>\n",
       "      <td>52</td>\n",
       "      <td>69</td>\n",
       "      <td>66</td>\n",
       "      <td>75</td>\n",
       "      <td>75</td>\n",
       "      <td>45</td>\n",
       "    </tr>\n",
       "    <tr>\n",
       "      <th>...</th>\n",
       "      <td>...</td>\n",
       "      <td>...</td>\n",
       "      <td>...</td>\n",
       "      <td>...</td>\n",
       "      <td>...</td>\n",
       "      <td>...</td>\n",
       "      <td>...</td>\n",
       "      <td>...</td>\n",
       "      <td>...</td>\n",
       "      <td>...</td>\n",
       "    </tr>\n",
       "    <tr>\n",
       "      <th>569</th>\n",
       "      <td>2012-11-25</td>\n",
       "      <td>53</td>\n",
       "      <td>48</td>\n",
       "      <td>21</td>\n",
       "      <td>40</td>\n",
       "      <td>0</td>\n",
       "      <td>92</td>\n",
       "      <td>45</td>\n",
       "      <td>61</td>\n",
       "      <td>57</td>\n",
       "    </tr>\n",
       "    <tr>\n",
       "      <th>570</th>\n",
       "      <td>2012-12-02</td>\n",
       "      <td>37</td>\n",
       "      <td>34</td>\n",
       "      <td>0</td>\n",
       "      <td>52</td>\n",
       "      <td>50</td>\n",
       "      <td>90</td>\n",
       "      <td>60</td>\n",
       "      <td>48</td>\n",
       "      <td>70</td>\n",
       "    </tr>\n",
       "    <tr>\n",
       "      <th>571</th>\n",
       "      <td>2012-12-09</td>\n",
       "      <td>43</td>\n",
       "      <td>48</td>\n",
       "      <td>77</td>\n",
       "      <td>49</td>\n",
       "      <td>80</td>\n",
       "      <td>94</td>\n",
       "      <td>58</td>\n",
       "      <td>75</td>\n",
       "      <td>46</td>\n",
       "    </tr>\n",
       "    <tr>\n",
       "      <th>572</th>\n",
       "      <td>2012-12-16</td>\n",
       "      <td>53</td>\n",
       "      <td>45</td>\n",
       "      <td>0</td>\n",
       "      <td>59</td>\n",
       "      <td>100</td>\n",
       "      <td>86</td>\n",
       "      <td>56</td>\n",
       "      <td>62</td>\n",
       "      <td>59</td>\n",
       "    </tr>\n",
       "    <tr>\n",
       "      <th>573</th>\n",
       "      <td>2012-12-23</td>\n",
       "      <td>28</td>\n",
       "      <td>35</td>\n",
       "      <td>0</td>\n",
       "      <td>49</td>\n",
       "      <td>40</td>\n",
       "      <td>85</td>\n",
       "      <td>79</td>\n",
       "      <td>100</td>\n",
       "      <td>60</td>\n",
       "    </tr>\n",
       "  </tbody>\n",
       "</table>\n",
       "<p>574 rows × 10 columns</p>\n",
       "</div>"
      ],
      "text/plain": [
       "          date  dengue  dengue fever  bone pain  rain  mosquito bite  fever   \n",
       "0   2022-01-02      10             0         70    85             81     54  \\\n",
       "1   2022-01-09      19             0         91    36             31     60   \n",
       "2   2022-01-16      11            18          0    44             23     64   \n",
       "3   2022-01-23      16             0          0    32             70     65   \n",
       "4   2022-01-30      11             0         49    52             69     66   \n",
       "..         ...     ...           ...        ...   ...            ...    ...   \n",
       "569 2012-11-25      53            48         21    40              0     92   \n",
       "570 2012-12-02      37            34          0    52             50     90   \n",
       "571 2012-12-09      43            48         77    49             80     94   \n",
       "572 2012-12-16      53            45          0    59            100     86   \n",
       "573 2012-12-23      28            35          0    49             40     85   \n",
       "\n",
       "     rashes  rash  mosquito  \n",
       "0        27    66        39  \n",
       "1       100    63        38  \n",
       "2        76    73        48  \n",
       "3        53    69        47  \n",
       "4        75    75        45  \n",
       "..      ...   ...       ...  \n",
       "569      45    61        57  \n",
       "570      60    48        70  \n",
       "571      58    75        46  \n",
       "572      56    62        59  \n",
       "573      79   100        60  \n",
       "\n",
       "[574 rows x 10 columns]"
      ]
     },
     "execution_count": 6,
     "metadata": {},
     "output_type": "execute_result"
    }
   ],
   "source": [
    "dfs = []\n",
    "for i in range(0, len(yearly), 9):\n",
    "    dfs.append(pd.concat(yearly[i:i+9], axis=1).drop('isPartial', axis=1))\n",
    "\n",
    "df = pd.concat(dfs).reset_index()\n",
    "df"
   ]
  },
  {
   "cell_type": "markdown",
   "metadata": {},
   "source": [
    "### Save the downloaded data dataframe as a csv\n",
    "\n",
    "So that we can easily read it for cleaning subsequently."
   ]
  },
  {
   "cell_type": "code",
   "execution_count": 8,
   "metadata": {},
   "outputs": [],
   "source": [
    "df.to_csv('../../data/trends_monthly.csv', index=False)"
   ]
  }
 ],
 "metadata": {
  "kernelspec": {
   "display_name": "Python 3 (COMM318)",
   "language": "python",
   "name": "python3"
  },
  "language_info": {
   "codemirror_mode": {
    "name": "ipython",
    "version": 3
   },
   "file_extension": ".py",
   "mimetype": "text/x-python",
   "name": "python",
   "nbconvert_exporter": "python",
   "pygments_lexer": "ipython3",
   "version": "3.8.8"
  }
 },
 "nbformat": 4,
 "nbformat_minor": 4
}
