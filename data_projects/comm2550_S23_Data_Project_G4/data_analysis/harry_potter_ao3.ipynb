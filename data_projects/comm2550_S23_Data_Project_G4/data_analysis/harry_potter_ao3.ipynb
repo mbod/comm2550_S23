{
 "cells": [
  {
   "cell_type": "markdown",
   "metadata": {
    "id": "ImKgce3H52aI"
   },
   "source": [
    "# **Harry Potter Fanfic and LQBTQ+ acceptance**\n",
    "Ria Dawar and Michelle Pang\n",
    "\n",
    "For this project we were interested in researching the potential use of fan fiction as an indicator of LGBTQ+ acceptance in society. We wanted to see whether the popularity of queer relationships in Harry Potter fan fiction be an indicator of a country’s LGBTQ+ acceptance or its attitudes towards queer individuals."
   ]
  },
  {
   "cell_type": "code",
   "execution_count": 11,
   "metadata": {
    "id": "qFF22nJqes_z"
   },
   "outputs": [],
   "source": [
    "import pandas as pd"
   ]
  },
  {
   "cell_type": "markdown",
   "metadata": {
    "id": "0Q7y1X9q_I-k"
   },
   "source": [
    "## Data Loading"
   ]
  },
  {
   "cell_type": "markdown",
   "metadata": {
    "id": "EJ1NSjE586jv"
   },
   "source": [
    "Our first dataset was from Archive of Our Own, a popular fanfiction website. This is in the form of two csv files:\n",
    "1. **works_df** - contains information about \n",
    "- creation date\n",
    "- language \n",
    "- word count \n",
    "- restricted or not\n",
    "- complete or not\n",
    "- associated tag IDs\n",
    "\n",
    "2. **tags_df** - contains information about\n",
    "- tag ID\n",
    "- tag type\n",
    "- tag name\n",
    "- canonical or not\n",
    "- approximate number of uses\n",
    "- merger ID"
   ]
  },
  {
   "cell_type": "code",
   "execution_count": 20,
   "metadata": {
    "id": "kZeNT-VTJs_i"
   },
   "outputs": [],
   "source": [
    "path = \"../data/works_ao3.csv\"\n",
    "works_df = pd.read_csv(path)\n",
    "# tags_df = pd.read_csv(\"comm2550_S23_Data_Project_G4/data/tags_ao3.csv\")"
   ]
  },
  {
   "cell_type": "code",
   "execution_count": 19,
   "metadata": {},
   "outputs": [],
   "source": [
    "tags_df = pd.read_csv(\"../data/tags_ao3.csv\")"
   ]
  },
  {
   "cell_type": "code",
   "execution_count": 21,
   "metadata": {
    "colab": {
     "base_uri": "https://localhost:8080/",
     "height": 678
    },
    "id": "_v7NPP_eKw-3",
    "outputId": "c8adb262-4bf1-435d-8a65-807518f99ec0"
   },
   "outputs": [
    {
     "data": {
      "text/html": [
       "<div>\n",
       "<style scoped>\n",
       "    .dataframe tbody tr th:only-of-type {\n",
       "        vertical-align: middle;\n",
       "    }\n",
       "\n",
       "    .dataframe tbody tr th {\n",
       "        vertical-align: top;\n",
       "    }\n",
       "\n",
       "    .dataframe thead th {\n",
       "        text-align: right;\n",
       "    }\n",
       "</style>\n",
       "<table border=\"1\" class=\"dataframe\">\n",
       "  <thead>\n",
       "    <tr style=\"text-align: right;\">\n",
       "      <th></th>\n",
       "      <th>creation date</th>\n",
       "      <th>language</th>\n",
       "      <th>restricted</th>\n",
       "      <th>complete</th>\n",
       "      <th>word_count</th>\n",
       "      <th>tags</th>\n",
       "      <th>Unnamed: 6</th>\n",
       "    </tr>\n",
       "  </thead>\n",
       "  <tbody>\n",
       "    <tr>\n",
       "      <th>0</th>\n",
       "      <td>2021-02-26</td>\n",
       "      <td>en</td>\n",
       "      <td>False</td>\n",
       "      <td>True</td>\n",
       "      <td>388.0</td>\n",
       "      <td>10+414093+1001939+4577144+1499536+110+4682892+...</td>\n",
       "      <td>NaN</td>\n",
       "    </tr>\n",
       "    <tr>\n",
       "      <th>1</th>\n",
       "      <td>2021-02-26</td>\n",
       "      <td>en</td>\n",
       "      <td>False</td>\n",
       "      <td>True</td>\n",
       "      <td>1638.0</td>\n",
       "      <td>10+20350917+34816907+23666027+23269305+2326930...</td>\n",
       "      <td>NaN</td>\n",
       "    </tr>\n",
       "    <tr>\n",
       "      <th>2</th>\n",
       "      <td>2021-02-26</td>\n",
       "      <td>en</td>\n",
       "      <td>False</td>\n",
       "      <td>True</td>\n",
       "      <td>1502.0</td>\n",
       "      <td>10+10613413+9780526+3763877+3741104+7657229+30...</td>\n",
       "      <td>NaN</td>\n",
       "    </tr>\n",
       "    <tr>\n",
       "      <th>3</th>\n",
       "      <td>2021-02-26</td>\n",
       "      <td>en</td>\n",
       "      <td>False</td>\n",
       "      <td>True</td>\n",
       "      <td>100.0</td>\n",
       "      <td>10+15322+54862755+20595867+32994286+663+471751...</td>\n",
       "      <td>NaN</td>\n",
       "    </tr>\n",
       "    <tr>\n",
       "      <th>4</th>\n",
       "      <td>2021-02-26</td>\n",
       "      <td>en</td>\n",
       "      <td>False</td>\n",
       "      <td>True</td>\n",
       "      <td>994.0</td>\n",
       "      <td>11+721553+54604+1439500+3938423+53483274+54862...</td>\n",
       "      <td>NaN</td>\n",
       "    </tr>\n",
       "    <tr>\n",
       "      <th>...</th>\n",
       "      <td>...</td>\n",
       "      <td>...</td>\n",
       "      <td>...</td>\n",
       "      <td>...</td>\n",
       "      <td>...</td>\n",
       "      <td>...</td>\n",
       "      <td>...</td>\n",
       "    </tr>\n",
       "    <tr>\n",
       "      <th>7269688</th>\n",
       "      <td>2008-09-13</td>\n",
       "      <td>en</td>\n",
       "      <td>True</td>\n",
       "      <td>True</td>\n",
       "      <td>705.0</td>\n",
       "      <td>78+77+84+101+104+105+106+23+13+16+70+933</td>\n",
       "      <td>NaN</td>\n",
       "    </tr>\n",
       "    <tr>\n",
       "      <th>7269689</th>\n",
       "      <td>2008-09-13</td>\n",
       "      <td>en</td>\n",
       "      <td>False</td>\n",
       "      <td>True</td>\n",
       "      <td>1392.0</td>\n",
       "      <td>78+77+84+107+23+10+16+70+933+616</td>\n",
       "      <td>NaN</td>\n",
       "    </tr>\n",
       "    <tr>\n",
       "      <th>7269690</th>\n",
       "      <td>2008-09-13</td>\n",
       "      <td>en</td>\n",
       "      <td>False</td>\n",
       "      <td>True</td>\n",
       "      <td>1755.0</td>\n",
       "      <td>77+78+69+108+109+62+110+23+9+111+16+70+10128+4858</td>\n",
       "      <td>NaN</td>\n",
       "    </tr>\n",
       "    <tr>\n",
       "      <th>7269691</th>\n",
       "      <td>2008-09-13</td>\n",
       "      <td>en</td>\n",
       "      <td>False</td>\n",
       "      <td>True</td>\n",
       "      <td>1338.0</td>\n",
       "      <td>112+113+13+114+16+115+101+117+118+119+120+116+...</td>\n",
       "      <td>NaN</td>\n",
       "    </tr>\n",
       "    <tr>\n",
       "      <th>7269692</th>\n",
       "      <td>2008-09-13</td>\n",
       "      <td>en</td>\n",
       "      <td>False</td>\n",
       "      <td>True</td>\n",
       "      <td>1836.0</td>\n",
       "      <td>123+124+125+127+128+13+129+14+130+131+132+133+...</td>\n",
       "      <td>NaN</td>\n",
       "    </tr>\n",
       "  </tbody>\n",
       "</table>\n",
       "<p>7269693 rows × 7 columns</p>\n",
       "</div>"
      ],
      "text/plain": [
       "        creation date language  restricted  complete  word_count  \\\n",
       "0          2021-02-26       en       False      True       388.0   \n",
       "1          2021-02-26       en       False      True      1638.0   \n",
       "2          2021-02-26       en       False      True      1502.0   \n",
       "3          2021-02-26       en       False      True       100.0   \n",
       "4          2021-02-26       en       False      True       994.0   \n",
       "...               ...      ...         ...       ...         ...   \n",
       "7269688    2008-09-13       en        True      True       705.0   \n",
       "7269689    2008-09-13       en       False      True      1392.0   \n",
       "7269690    2008-09-13       en       False      True      1755.0   \n",
       "7269691    2008-09-13       en       False      True      1338.0   \n",
       "7269692    2008-09-13       en       False      True      1836.0   \n",
       "\n",
       "                                                      tags  Unnamed: 6  \n",
       "0        10+414093+1001939+4577144+1499536+110+4682892+...         NaN  \n",
       "1        10+20350917+34816907+23666027+23269305+2326930...         NaN  \n",
       "2        10+10613413+9780526+3763877+3741104+7657229+30...         NaN  \n",
       "3        10+15322+54862755+20595867+32994286+663+471751...         NaN  \n",
       "4        11+721553+54604+1439500+3938423+53483274+54862...         NaN  \n",
       "...                                                    ...         ...  \n",
       "7269688           78+77+84+101+104+105+106+23+13+16+70+933         NaN  \n",
       "7269689                   78+77+84+107+23+10+16+70+933+616         NaN  \n",
       "7269690  77+78+69+108+109+62+110+23+9+111+16+70+10128+4858         NaN  \n",
       "7269691  112+113+13+114+16+115+101+117+118+119+120+116+...         NaN  \n",
       "7269692  123+124+125+127+128+13+129+14+130+131+132+133+...         NaN  \n",
       "\n",
       "[7269693 rows x 7 columns]"
      ]
     },
     "execution_count": 21,
     "metadata": {},
     "output_type": "execute_result"
    }
   ],
   "source": [
    "works_df"
   ]
  },
  {
   "cell_type": "code",
   "execution_count": 22,
   "metadata": {
    "colab": {
     "base_uri": "https://localhost:8080/",
     "height": 423
    },
    "id": "m5k2mK4dNTgi",
    "outputId": "08772626-d4f9-499c-bd1d-385244848b10"
   },
   "outputs": [
    {
     "data": {
      "text/html": [
       "<div>\n",
       "<style scoped>\n",
       "    .dataframe tbody tr th:only-of-type {\n",
       "        vertical-align: middle;\n",
       "    }\n",
       "\n",
       "    .dataframe tbody tr th {\n",
       "        vertical-align: top;\n",
       "    }\n",
       "\n",
       "    .dataframe thead th {\n",
       "        text-align: right;\n",
       "    }\n",
       "</style>\n",
       "<table border=\"1\" class=\"dataframe\">\n",
       "  <thead>\n",
       "    <tr style=\"text-align: right;\">\n",
       "      <th></th>\n",
       "      <th>id</th>\n",
       "      <th>type</th>\n",
       "      <th>name</th>\n",
       "      <th>canonical</th>\n",
       "      <th>cached_count</th>\n",
       "      <th>merger_id</th>\n",
       "    </tr>\n",
       "  </thead>\n",
       "  <tbody>\n",
       "    <tr>\n",
       "      <th>0</th>\n",
       "      <td>1</td>\n",
       "      <td>Media</td>\n",
       "      <td>TV Shows</td>\n",
       "      <td>True</td>\n",
       "      <td>910</td>\n",
       "      <td>NaN</td>\n",
       "    </tr>\n",
       "    <tr>\n",
       "      <th>1</th>\n",
       "      <td>2</td>\n",
       "      <td>Media</td>\n",
       "      <td>Movies</td>\n",
       "      <td>True</td>\n",
       "      <td>1164</td>\n",
       "      <td>NaN</td>\n",
       "    </tr>\n",
       "    <tr>\n",
       "      <th>2</th>\n",
       "      <td>3</td>\n",
       "      <td>Media</td>\n",
       "      <td>Books &amp; Literature</td>\n",
       "      <td>True</td>\n",
       "      <td>134</td>\n",
       "      <td>NaN</td>\n",
       "    </tr>\n",
       "    <tr>\n",
       "      <th>3</th>\n",
       "      <td>4</td>\n",
       "      <td>Media</td>\n",
       "      <td>Cartoons &amp; Comics &amp; Graphic Novels</td>\n",
       "      <td>True</td>\n",
       "      <td>166</td>\n",
       "      <td>NaN</td>\n",
       "    </tr>\n",
       "    <tr>\n",
       "      <th>4</th>\n",
       "      <td>5</td>\n",
       "      <td>Media</td>\n",
       "      <td>Anime &amp; Manga</td>\n",
       "      <td>True</td>\n",
       "      <td>501</td>\n",
       "      <td>NaN</td>\n",
       "    </tr>\n",
       "    <tr>\n",
       "      <th>...</th>\n",
       "      <td>...</td>\n",
       "      <td>...</td>\n",
       "      <td>...</td>\n",
       "      <td>...</td>\n",
       "      <td>...</td>\n",
       "      <td>...</td>\n",
       "    </tr>\n",
       "    <tr>\n",
       "      <th>14467133</th>\n",
       "      <td>55395603</td>\n",
       "      <td>Freeform</td>\n",
       "      <td>Redacted</td>\n",
       "      <td>False</td>\n",
       "      <td>0</td>\n",
       "      <td>NaN</td>\n",
       "    </tr>\n",
       "    <tr>\n",
       "      <th>14467134</th>\n",
       "      <td>55395606</td>\n",
       "      <td>Freeform</td>\n",
       "      <td>Redacted</td>\n",
       "      <td>False</td>\n",
       "      <td>0</td>\n",
       "      <td>NaN</td>\n",
       "    </tr>\n",
       "    <tr>\n",
       "      <th>14467135</th>\n",
       "      <td>55395609</td>\n",
       "      <td>Freeform</td>\n",
       "      <td>Redacted</td>\n",
       "      <td>False</td>\n",
       "      <td>0</td>\n",
       "      <td>NaN</td>\n",
       "    </tr>\n",
       "    <tr>\n",
       "      <th>14467136</th>\n",
       "      <td>55395612</td>\n",
       "      <td>Freeform</td>\n",
       "      <td>Redacted</td>\n",
       "      <td>False</td>\n",
       "      <td>0</td>\n",
       "      <td>NaN</td>\n",
       "    </tr>\n",
       "    <tr>\n",
       "      <th>14467137</th>\n",
       "      <td>55395615</td>\n",
       "      <td>Freeform</td>\n",
       "      <td>Redacted</td>\n",
       "      <td>False</td>\n",
       "      <td>0</td>\n",
       "      <td>NaN</td>\n",
       "    </tr>\n",
       "  </tbody>\n",
       "</table>\n",
       "<p>14467138 rows × 6 columns</p>\n",
       "</div>"
      ],
      "text/plain": [
       "                id      type                                name  canonical  \\\n",
       "0                1     Media                            TV Shows       True   \n",
       "1                2     Media                              Movies       True   \n",
       "2                3     Media                  Books & Literature       True   \n",
       "3                4     Media  Cartoons & Comics & Graphic Novels       True   \n",
       "4                5     Media                       Anime & Manga       True   \n",
       "...            ...       ...                                 ...        ...   \n",
       "14467133  55395603  Freeform                            Redacted      False   \n",
       "14467134  55395606  Freeform                            Redacted      False   \n",
       "14467135  55395609  Freeform                            Redacted      False   \n",
       "14467136  55395612  Freeform                            Redacted      False   \n",
       "14467137  55395615  Freeform                            Redacted      False   \n",
       "\n",
       "          cached_count  merger_id  \n",
       "0                  910        NaN  \n",
       "1                 1164        NaN  \n",
       "2                  134        NaN  \n",
       "3                  166        NaN  \n",
       "4                  501        NaN  \n",
       "...                ...        ...  \n",
       "14467133             0        NaN  \n",
       "14467134             0        NaN  \n",
       "14467135             0        NaN  \n",
       "14467136             0        NaN  \n",
       "14467137             0        NaN  \n",
       "\n",
       "[14467138 rows x 6 columns]"
      ]
     },
     "execution_count": 22,
     "metadata": {},
     "output_type": "execute_result"
    }
   ],
   "source": [
    "tags_df"
   ]
  },
  {
   "cell_type": "code",
   "execution_count": 23,
   "metadata": {
    "colab": {
     "base_uri": "https://localhost:8080/"
    },
    "id": "k7xyUlAHK0H9",
    "outputId": "16beb02d-9b32-476c-9648-c9b93f4e5279"
   },
   "outputs": [
    {
     "data": {
      "text/plain": [
       "array(['Media', 'Rating', 'ArchiveWarning', 'Category', 'Character',\n",
       "       'Fandom', 'Relationship', 'Freeform', 'UnsortedTag'], dtype=object)"
      ]
     },
     "execution_count": 23,
     "metadata": {},
     "output_type": "execute_result"
    }
   ],
   "source": [
    "tags_df['type'].unique()"
   ]
  },
  {
   "cell_type": "markdown",
   "metadata": {
    "id": "JT-kS5pW_NwB"
   },
   "source": [
    "## Data Analysis"
   ]
  },
  {
   "cell_type": "markdown",
   "metadata": {
    "id": "r6-QbHEl_FAc"
   },
   "source": [
    "We isolated the tag ID that corresponded to the Harry Potter fandom, to isolate all the fanfiction pieces written in the Harry Potter universe. We specify the tag type to be 'Fandom' and use the tag with the most fics written of it"
   ]
  },
  {
   "cell_type": "code",
   "execution_count": 24,
   "metadata": {
    "colab": {
     "base_uri": "https://localhost:8080/",
     "height": 156
    },
    "id": "Wc3C-crUUAdz",
    "outputId": "db701103-2aed-4c6a-e11c-5cf542b6f35e"
   },
   "outputs": [
    {
     "data": {
      "text/html": [
       "<div>\n",
       "<style scoped>\n",
       "    .dataframe tbody tr th:only-of-type {\n",
       "        vertical-align: middle;\n",
       "    }\n",
       "\n",
       "    .dataframe tbody tr th {\n",
       "        vertical-align: top;\n",
       "    }\n",
       "\n",
       "    .dataframe thead th {\n",
       "        text-align: right;\n",
       "    }\n",
       "</style>\n",
       "<table border=\"1\" class=\"dataframe\">\n",
       "  <thead>\n",
       "    <tr style=\"text-align: right;\">\n",
       "      <th></th>\n",
       "      <th>id</th>\n",
       "      <th>type</th>\n",
       "      <th>name</th>\n",
       "      <th>canonical</th>\n",
       "      <th>cached_count</th>\n",
       "      <th>merger_id</th>\n",
       "    </tr>\n",
       "  </thead>\n",
       "  <tbody>\n",
       "    <tr>\n",
       "      <th>94292</th>\n",
       "      <td>136512</td>\n",
       "      <td>Fandom</td>\n",
       "      <td>Harry Potter - J. K. Rowling</td>\n",
       "      <td>True</td>\n",
       "      <td>361919</td>\n",
       "      <td>NaN</td>\n",
       "    </tr>\n",
       "    <tr>\n",
       "      <th>3275208</th>\n",
       "      <td>11055523</td>\n",
       "      <td>Fandom</td>\n",
       "      <td>Harry Potter and the Cursed Child - Thorne &amp; R...</td>\n",
       "      <td>True</td>\n",
       "      <td>3462</td>\n",
       "      <td>NaN</td>\n",
       "    </tr>\n",
       "  </tbody>\n",
       "</table>\n",
       "</div>"
      ],
      "text/plain": [
       "               id    type                                               name  \\\n",
       "94292      136512  Fandom                       Harry Potter - J. K. Rowling   \n",
       "3275208  11055523  Fandom  Harry Potter and the Cursed Child - Thorne & R...   \n",
       "\n",
       "         canonical  cached_count  merger_id  \n",
       "94292         True        361919        NaN  \n",
       "3275208       True          3462        NaN  "
      ]
     },
     "execution_count": 24,
     "metadata": {},
     "output_type": "execute_result"
    }
   ],
   "source": [
    "hp_tags_df = tags_df[(tags_df['type'] == 'Fandom') & (tags_df['name'].str.contains(\"Harry Potter\")) & (tags_df['canonical'] == True)].sort_values(by=['cached_count'], ascending = False).head(2)\n",
    "hp_tags_df"
   ]
  },
  {
   "cell_type": "code",
   "execution_count": 25,
   "metadata": {
    "id": "k-XXKBm5VEj9"
   },
   "outputs": [],
   "source": [
    "hp_tags = hp_tags_df['id'].values.tolist()"
   ]
  },
  {
   "cell_type": "code",
   "execution_count": 26,
   "metadata": {
    "id": "fwZDyVdmS2WI"
   },
   "outputs": [],
   "source": [
    "# add an id column\n",
    "works_df[\"work_id\"] = works_df.index + 1"
   ]
  },
  {
   "cell_type": "markdown",
   "metadata": {
    "id": "zX76GMqntfTk"
   },
   "source": [
    "Then, we define a function to filter for works in the Harry Potter fandom, and apply this function to works_df"
   ]
  },
  {
   "cell_type": "code",
   "execution_count": 27,
   "metadata": {
    "id": "yqC1T5djW675"
   },
   "outputs": [],
   "source": [
    "def checkHp(x):\n",
    "  x = str(x)\n",
    "  if '+' + str(hp_tags[0]) + '+' in x:\n",
    "    return True\n",
    "  if x.startswith(str(hp_tags[0]) + '+'):\n",
    "    return True\n",
    "  if x.endswith('+' + str(hp_tags[0])):\n",
    "    return True\n",
    "  return False"
   ]
  },
  {
   "cell_type": "code",
   "execution_count": 28,
   "metadata": {
    "id": "AjtDv1lmRsIr"
   },
   "outputs": [],
   "source": [
    "# apply the function above to filter \n",
    "hp_df = works_df[works_df['tags'].apply(checkHp)].copy()"
   ]
  },
  {
   "cell_type": "markdown",
   "metadata": {
    "id": "8K68ujp1txKH"
   },
   "source": [
    "We split the tags column into a list of tags. "
   ]
  },
  {
   "cell_type": "code",
   "execution_count": 29,
   "metadata": {
    "colab": {
     "base_uri": "https://localhost:8080/",
     "height": 710
    },
    "id": "CQNWajTBYytF",
    "outputId": "39978c6a-9442-4dab-bdae-237ebaa19370"
   },
   "outputs": [],
   "source": [
    "hp_df['tags'] = hp_df['tags'].apply(lambda x : str(x).split('+'))"
   ]
  },
  {
   "cell_type": "markdown",
   "metadata": {
    "id": "ih5dKsbCt3Rb"
   },
   "source": [
    "**rel_df** describes the one-to-many relationship between a fic and its tags. For each fic-tag relationship, there is a row in **rel_df** which maps the fic id to the tag id.\n"
   ]
  },
  {
   "cell_type": "code",
   "execution_count": 30,
   "metadata": {
    "id": "b0x3fV6DdGcK"
   },
   "outputs": [],
   "source": [
    "rel_df = hp_df[['work_id','tags', 'language']]\n",
    "rel_df = rel_df.explode('tags')\n",
    "rel_df['tags'] = pd.to_numeric(rel_df['tags'])"
   ]
  },
  {
   "cell_type": "markdown",
   "metadata": {
    "id": "YiMCxrYeu2vZ"
   },
   "source": [
    "Make a subset of *tags_df* that only contains tag ID, name and type. "
   ]
  },
  {
   "cell_type": "code",
   "execution_count": 31,
   "metadata": {
    "colab": {
     "base_uri": "https://localhost:8080/",
     "height": 423
    },
    "id": "BsLt0gOWeG-g",
    "outputId": "4e4ca272-dcdd-456c-8cf5-1d392e0ffe88"
   },
   "outputs": [
    {
     "data": {
      "text/html": [
       "<div>\n",
       "<style scoped>\n",
       "    .dataframe tbody tr th:only-of-type {\n",
       "        vertical-align: middle;\n",
       "    }\n",
       "\n",
       "    .dataframe tbody tr th {\n",
       "        vertical-align: top;\n",
       "    }\n",
       "\n",
       "    .dataframe thead th {\n",
       "        text-align: right;\n",
       "    }\n",
       "</style>\n",
       "<table border=\"1\" class=\"dataframe\">\n",
       "  <thead>\n",
       "    <tr style=\"text-align: right;\">\n",
       "      <th></th>\n",
       "      <th>id</th>\n",
       "      <th>name</th>\n",
       "      <th>type</th>\n",
       "    </tr>\n",
       "  </thead>\n",
       "  <tbody>\n",
       "    <tr>\n",
       "      <th>0</th>\n",
       "      <td>1</td>\n",
       "      <td>TV Shows</td>\n",
       "      <td>Media</td>\n",
       "    </tr>\n",
       "    <tr>\n",
       "      <th>1</th>\n",
       "      <td>2</td>\n",
       "      <td>Movies</td>\n",
       "      <td>Media</td>\n",
       "    </tr>\n",
       "    <tr>\n",
       "      <th>2</th>\n",
       "      <td>3</td>\n",
       "      <td>Books &amp; Literature</td>\n",
       "      <td>Media</td>\n",
       "    </tr>\n",
       "    <tr>\n",
       "      <th>3</th>\n",
       "      <td>4</td>\n",
       "      <td>Cartoons &amp; Comics &amp; Graphic Novels</td>\n",
       "      <td>Media</td>\n",
       "    </tr>\n",
       "    <tr>\n",
       "      <th>4</th>\n",
       "      <td>5</td>\n",
       "      <td>Anime &amp; Manga</td>\n",
       "      <td>Media</td>\n",
       "    </tr>\n",
       "    <tr>\n",
       "      <th>...</th>\n",
       "      <td>...</td>\n",
       "      <td>...</td>\n",
       "      <td>...</td>\n",
       "    </tr>\n",
       "    <tr>\n",
       "      <th>14467133</th>\n",
       "      <td>55395603</td>\n",
       "      <td>Redacted</td>\n",
       "      <td>Freeform</td>\n",
       "    </tr>\n",
       "    <tr>\n",
       "      <th>14467134</th>\n",
       "      <td>55395606</td>\n",
       "      <td>Redacted</td>\n",
       "      <td>Freeform</td>\n",
       "    </tr>\n",
       "    <tr>\n",
       "      <th>14467135</th>\n",
       "      <td>55395609</td>\n",
       "      <td>Redacted</td>\n",
       "      <td>Freeform</td>\n",
       "    </tr>\n",
       "    <tr>\n",
       "      <th>14467136</th>\n",
       "      <td>55395612</td>\n",
       "      <td>Redacted</td>\n",
       "      <td>Freeform</td>\n",
       "    </tr>\n",
       "    <tr>\n",
       "      <th>14467137</th>\n",
       "      <td>55395615</td>\n",
       "      <td>Redacted</td>\n",
       "      <td>Freeform</td>\n",
       "    </tr>\n",
       "  </tbody>\n",
       "</table>\n",
       "<p>14467138 rows × 3 columns</p>\n",
       "</div>"
      ],
      "text/plain": [
       "                id                                name      type\n",
       "0                1                            TV Shows     Media\n",
       "1                2                              Movies     Media\n",
       "2                3                  Books & Literature     Media\n",
       "3                4  Cartoons & Comics & Graphic Novels     Media\n",
       "4                5                       Anime & Manga     Media\n",
       "...            ...                                 ...       ...\n",
       "14467133  55395603                            Redacted  Freeform\n",
       "14467134  55395606                            Redacted  Freeform\n",
       "14467135  55395609                            Redacted  Freeform\n",
       "14467136  55395612                            Redacted  Freeform\n",
       "14467137  55395615                            Redacted  Freeform\n",
       "\n",
       "[14467138 rows x 3 columns]"
      ]
     },
     "execution_count": 31,
     "metadata": {},
     "output_type": "execute_result"
    }
   ],
   "source": [
    "tag_names = tags_df[['id', 'name', 'type']]\n",
    "tag_names"
   ]
  },
  {
   "cell_type": "markdown",
   "metadata": {
    "id": "CIv3AJAjvEmg"
   },
   "source": [
    "Then, we merge to find the tag names associated with the id. *work_tag_df* describes the names of all the tags associated with a fanfiction piece. "
   ]
  },
  {
   "cell_type": "code",
   "execution_count": 32,
   "metadata": {
    "id": "a9l-pUpWenV2"
   },
   "outputs": [],
   "source": [
    "work_tag_df = rel_df.merge(tag_names, left_on='tags', right_on='id', how='left')"
   ]
  },
  {
   "cell_type": "code",
   "execution_count": 33,
   "metadata": {
    "colab": {
     "base_uri": "https://localhost:8080/",
     "height": 423
    },
    "id": "qLj_3tishLCO",
    "outputId": "970a4ad5-7adf-4f15-d0ae-37ab080803c7"
   },
   "outputs": [
    {
     "data": {
      "text/html": [
       "<div>\n",
       "<style scoped>\n",
       "    .dataframe tbody tr th:only-of-type {\n",
       "        vertical-align: middle;\n",
       "    }\n",
       "\n",
       "    .dataframe tbody tr th {\n",
       "        vertical-align: top;\n",
       "    }\n",
       "\n",
       "    .dataframe thead th {\n",
       "        text-align: right;\n",
       "    }\n",
       "</style>\n",
       "<table border=\"1\" class=\"dataframe\">\n",
       "  <thead>\n",
       "    <tr style=\"text-align: right;\">\n",
       "      <th></th>\n",
       "      <th>work_id</th>\n",
       "      <th>tags</th>\n",
       "      <th>language</th>\n",
       "      <th>id</th>\n",
       "      <th>name</th>\n",
       "      <th>type</th>\n",
       "    </tr>\n",
       "  </thead>\n",
       "  <tbody>\n",
       "    <tr>\n",
       "      <th>0</th>\n",
       "      <td>31</td>\n",
       "      <td>9</td>\n",
       "      <td>en</td>\n",
       "      <td>9.0</td>\n",
       "      <td>Not Rated</td>\n",
       "      <td>Rating</td>\n",
       "    </tr>\n",
       "    <tr>\n",
       "      <th>1</th>\n",
       "      <td>31</td>\n",
       "      <td>136512</td>\n",
       "      <td>en</td>\n",
       "      <td>136512.0</td>\n",
       "      <td>Harry Potter - J. K. Rowling</td>\n",
       "      <td>Fandom</td>\n",
       "    </tr>\n",
       "    <tr>\n",
       "      <th>2</th>\n",
       "      <td>31</td>\n",
       "      <td>17106</td>\n",
       "      <td>en</td>\n",
       "      <td>17106.0</td>\n",
       "      <td>Minerva McGonagall/Sybill Trelawney</td>\n",
       "      <td>Relationship</td>\n",
       "    </tr>\n",
       "    <tr>\n",
       "      <th>3</th>\n",
       "      <td>31</td>\n",
       "      <td>11235</td>\n",
       "      <td>en</td>\n",
       "      <td>11235.0</td>\n",
       "      <td>none - Character</td>\n",
       "      <td>Character</td>\n",
       "    </tr>\n",
       "    <tr>\n",
       "      <th>4</th>\n",
       "      <td>31</td>\n",
       "      <td>572192</td>\n",
       "      <td>en</td>\n",
       "      <td>572192.0</td>\n",
       "      <td>nope - Freeform</td>\n",
       "      <td>Freeform</td>\n",
       "    </tr>\n",
       "    <tr>\n",
       "      <th>...</th>\n",
       "      <td>...</td>\n",
       "      <td>...</td>\n",
       "      <td>...</td>\n",
       "      <td>...</td>\n",
       "      <td>...</td>\n",
       "      <td>...</td>\n",
       "    </tr>\n",
       "    <tr>\n",
       "      <th>4627708</th>\n",
       "      <td>7268135</td>\n",
       "      <td>3808</td>\n",
       "      <td>en</td>\n",
       "      <td>3808.0</td>\n",
       "      <td>Medium Length</td>\n",
       "      <td>Freeform</td>\n",
       "    </tr>\n",
       "    <tr>\n",
       "      <th>4627709</th>\n",
       "      <td>7268135</td>\n",
       "      <td>2099</td>\n",
       "      <td>en</td>\n",
       "      <td>2099.0</td>\n",
       "      <td>Magic</td>\n",
       "      <td>Freeform</td>\n",
       "    </tr>\n",
       "    <tr>\n",
       "      <th>4627710</th>\n",
       "      <td>7268135</td>\n",
       "      <td>3815</td>\n",
       "      <td>en</td>\n",
       "      <td>3815.0</td>\n",
       "      <td>Mr and Mrs Granger</td>\n",
       "      <td>Character</td>\n",
       "    </tr>\n",
       "    <tr>\n",
       "      <th>4627711</th>\n",
       "      <td>7268135</td>\n",
       "      <td>3914</td>\n",
       "      <td>en</td>\n",
       "      <td>3914.0</td>\n",
       "      <td>icarus - Freeform</td>\n",
       "      <td>Freeform</td>\n",
       "    </tr>\n",
       "    <tr>\n",
       "      <th>4627712</th>\n",
       "      <td>7268135</td>\n",
       "      <td>136512</td>\n",
       "      <td>en</td>\n",
       "      <td>136512.0</td>\n",
       "      <td>Harry Potter - J. K. Rowling</td>\n",
       "      <td>Fandom</td>\n",
       "    </tr>\n",
       "  </tbody>\n",
       "</table>\n",
       "<p>4627713 rows × 6 columns</p>\n",
       "</div>"
      ],
      "text/plain": [
       "         work_id    tags language        id  \\\n",
       "0             31       9       en       9.0   \n",
       "1             31  136512       en  136512.0   \n",
       "2             31   17106       en   17106.0   \n",
       "3             31   11235       en   11235.0   \n",
       "4             31  572192       en  572192.0   \n",
       "...          ...     ...      ...       ...   \n",
       "4627708  7268135    3808       en    3808.0   \n",
       "4627709  7268135    2099       en    2099.0   \n",
       "4627710  7268135    3815       en    3815.0   \n",
       "4627711  7268135    3914       en    3914.0   \n",
       "4627712  7268135  136512       en  136512.0   \n",
       "\n",
       "                                        name          type  \n",
       "0                                  Not Rated        Rating  \n",
       "1               Harry Potter - J. K. Rowling        Fandom  \n",
       "2        Minerva McGonagall/Sybill Trelawney  Relationship  \n",
       "3                           none - Character     Character  \n",
       "4                            nope - Freeform      Freeform  \n",
       "...                                      ...           ...  \n",
       "4627708                        Medium Length      Freeform  \n",
       "4627709                                Magic      Freeform  \n",
       "4627710                   Mr and Mrs Granger     Character  \n",
       "4627711                    icarus - Freeform      Freeform  \n",
       "4627712         Harry Potter - J. K. Rowling        Fandom  \n",
       "\n",
       "[4627713 rows x 6 columns]"
      ]
     },
     "execution_count": 33,
     "metadata": {},
     "output_type": "execute_result"
    }
   ],
   "source": [
    "work_tag_df"
   ]
  },
  {
   "cell_type": "markdown",
   "metadata": {
    "id": "6dGArjkFv8kY"
   },
   "source": [
    "Then, we filter by works that have relationships, and are not redacted. "
   ]
  },
  {
   "cell_type": "code",
   "execution_count": 34,
   "metadata": {
    "colab": {
     "base_uri": "https://localhost:8080/",
     "height": 423
    },
    "id": "DCZJ3V0Ce-4B",
    "outputId": "c3dfc084-a759-42da-b43a-221b35d997a2"
   },
   "outputs": [
    {
     "data": {
      "text/html": [
       "<div>\n",
       "<style scoped>\n",
       "    .dataframe tbody tr th:only-of-type {\n",
       "        vertical-align: middle;\n",
       "    }\n",
       "\n",
       "    .dataframe tbody tr th {\n",
       "        vertical-align: top;\n",
       "    }\n",
       "\n",
       "    .dataframe thead th {\n",
       "        text-align: right;\n",
       "    }\n",
       "</style>\n",
       "<table border=\"1\" class=\"dataframe\">\n",
       "  <thead>\n",
       "    <tr style=\"text-align: right;\">\n",
       "      <th></th>\n",
       "      <th>work_id</th>\n",
       "      <th>tags</th>\n",
       "      <th>language</th>\n",
       "      <th>id</th>\n",
       "      <th>name</th>\n",
       "      <th>type</th>\n",
       "    </tr>\n",
       "  </thead>\n",
       "  <tbody>\n",
       "    <tr>\n",
       "      <th>2</th>\n",
       "      <td>31</td>\n",
       "      <td>17106</td>\n",
       "      <td>en</td>\n",
       "      <td>17106.0</td>\n",
       "      <td>Minerva McGonagall/Sybill Trelawney</td>\n",
       "      <td>Relationship</td>\n",
       "    </tr>\n",
       "    <tr>\n",
       "      <th>9</th>\n",
       "      <td>46</td>\n",
       "      <td>10760</td>\n",
       "      <td>en</td>\n",
       "      <td>10760.0</td>\n",
       "      <td>Hermione Granger/Draco Malfoy</td>\n",
       "      <td>Relationship</td>\n",
       "    </tr>\n",
       "    <tr>\n",
       "      <th>24</th>\n",
       "      <td>108</td>\n",
       "      <td>1110</td>\n",
       "      <td>en</td>\n",
       "      <td>1110.0</td>\n",
       "      <td>Sirius Black/Remus Lupin</td>\n",
       "      <td>Relationship</td>\n",
       "    </tr>\n",
       "    <tr>\n",
       "      <th>37</th>\n",
       "      <td>148</td>\n",
       "      <td>19506784</td>\n",
       "      <td>en</td>\n",
       "      <td>19506784.0</td>\n",
       "      <td>Lán Zhàn | Lán Wàngjī/Wèi Yīng | Wèi Wúxiàn</td>\n",
       "      <td>Relationship</td>\n",
       "    </tr>\n",
       "    <tr>\n",
       "      <th>40</th>\n",
       "      <td>148</td>\n",
       "      <td>25848789</td>\n",
       "      <td>en</td>\n",
       "      <td>25848789.0</td>\n",
       "      <td>Cángsè Sǎnrén/Wèi Chǎngzé</td>\n",
       "      <td>Relationship</td>\n",
       "    </tr>\n",
       "    <tr>\n",
       "      <th>...</th>\n",
       "      <td>...</td>\n",
       "      <td>...</td>\n",
       "      <td>...</td>\n",
       "      <td>...</td>\n",
       "      <td>...</td>\n",
       "      <td>...</td>\n",
       "    </tr>\n",
       "    <tr>\n",
       "      <th>4627598</th>\n",
       "      <td>7268015</td>\n",
       "      <td>3843</td>\n",
       "      <td>en</td>\n",
       "      <td>3843.0</td>\n",
       "      <td>Harry Potter/Percy Weasley</td>\n",
       "      <td>Relationship</td>\n",
       "    </tr>\n",
       "    <tr>\n",
       "      <th>4627617</th>\n",
       "      <td>7268016</td>\n",
       "      <td>3843</td>\n",
       "      <td>en</td>\n",
       "      <td>3843.0</td>\n",
       "      <td>Harry Potter/Percy Weasley</td>\n",
       "      <td>Relationship</td>\n",
       "    </tr>\n",
       "    <tr>\n",
       "      <th>4627632</th>\n",
       "      <td>7268023</td>\n",
       "      <td>3869</td>\n",
       "      <td>en</td>\n",
       "      <td>3869.0</td>\n",
       "      <td>Lucius Malfoy/Percy Weasley</td>\n",
       "      <td>Relationship</td>\n",
       "    </tr>\n",
       "    <tr>\n",
       "      <th>4627680</th>\n",
       "      <td>7268037</td>\n",
       "      <td>1241</td>\n",
       "      <td>en</td>\n",
       "      <td>1241.0</td>\n",
       "      <td>Harry Potter/Ron Weasley</td>\n",
       "      <td>Relationship</td>\n",
       "    </tr>\n",
       "    <tr>\n",
       "      <th>4627705</th>\n",
       "      <td>7268135</td>\n",
       "      <td>233</td>\n",
       "      <td>en</td>\n",
       "      <td>233.0</td>\n",
       "      <td>No Pairing</td>\n",
       "      <td>Relationship</td>\n",
       "    </tr>\n",
       "  </tbody>\n",
       "</table>\n",
       "<p>377542 rows × 6 columns</p>\n",
       "</div>"
      ],
      "text/plain": [
       "         work_id      tags language          id  \\\n",
       "2             31     17106       en     17106.0   \n",
       "9             46     10760       en     10760.0   \n",
       "24           108      1110       en      1110.0   \n",
       "37           148  19506784       en  19506784.0   \n",
       "40           148  25848789       en  25848789.0   \n",
       "...          ...       ...      ...         ...   \n",
       "4627598  7268015      3843       en      3843.0   \n",
       "4627617  7268016      3843       en      3843.0   \n",
       "4627632  7268023      3869       en      3869.0   \n",
       "4627680  7268037      1241       en      1241.0   \n",
       "4627705  7268135       233       en       233.0   \n",
       "\n",
       "                                                name          type  \n",
       "2                Minerva McGonagall/Sybill Trelawney  Relationship  \n",
       "9                      Hermione Granger/Draco Malfoy  Relationship  \n",
       "24                          Sirius Black/Remus Lupin  Relationship  \n",
       "37       Lán Zhàn | Lán Wàngjī/Wèi Yīng | Wèi Wúxiàn  Relationship  \n",
       "40                         Cángsè Sǎnrén/Wèi Chǎngzé  Relationship  \n",
       "...                                              ...           ...  \n",
       "4627598                   Harry Potter/Percy Weasley  Relationship  \n",
       "4627617                   Harry Potter/Percy Weasley  Relationship  \n",
       "4627632                  Lucius Malfoy/Percy Weasley  Relationship  \n",
       "4627680                     Harry Potter/Ron Weasley  Relationship  \n",
       "4627705                                   No Pairing  Relationship  \n",
       "\n",
       "[377542 rows x 6 columns]"
      ]
     },
     "execution_count": 34,
     "metadata": {},
     "output_type": "execute_result"
    }
   ],
   "source": [
    "work_tag_df = work_tag_df[(work_tag_df['type'] == 'Relationship') & ~(work_tag_df['name'] == 'Redacted')]\n",
    "work_tag_df"
   ]
  },
  {
   "cell_type": "markdown",
   "metadata": {
    "id": "D0dZRpwevMXt"
   },
   "source": [
    "We group by relationships to find the counts of each. "
   ]
  },
  {
   "cell_type": "code",
   "execution_count": 35,
   "metadata": {
    "id": "NKZGpKSkhqu8"
   },
   "outputs": [],
   "source": [
    "ship_df = work_tag_df.groupby(['name'])['id'].count().reset_index(name='count').sort_values(['count'], ascending=False)"
   ]
  },
  {
   "cell_type": "code",
   "execution_count": 36,
   "metadata": {
    "colab": {
     "base_uri": "https://localhost:8080/",
     "height": 206
    },
    "id": "SuTP1cqGijy1",
    "outputId": "698f2d9b-e9d4-4886-8cfb-68d4092f85b2"
   },
   "outputs": [
    {
     "data": {
      "text/html": [
       "<div>\n",
       "<style scoped>\n",
       "    .dataframe tbody tr th:only-of-type {\n",
       "        vertical-align: middle;\n",
       "    }\n",
       "\n",
       "    .dataframe tbody tr th {\n",
       "        vertical-align: top;\n",
       "    }\n",
       "\n",
       "    .dataframe thead th {\n",
       "        text-align: right;\n",
       "    }\n",
       "</style>\n",
       "<table border=\"1\" class=\"dataframe\">\n",
       "  <thead>\n",
       "    <tr style=\"text-align: right;\">\n",
       "      <th></th>\n",
       "      <th>name</th>\n",
       "      <th>count</th>\n",
       "    </tr>\n",
       "  </thead>\n",
       "  <tbody>\n",
       "    <tr>\n",
       "      <th>6177</th>\n",
       "      <td>Draco Malfoy/Harry Potter</td>\n",
       "      <td>44367</td>\n",
       "    </tr>\n",
       "    <tr>\n",
       "      <th>21509</th>\n",
       "      <td>Sirius Black/Remus Lupin</td>\n",
       "      <td>19922</td>\n",
       "    </tr>\n",
       "    <tr>\n",
       "      <th>10871</th>\n",
       "      <td>Hermione Granger/Ron Weasley</td>\n",
       "      <td>12716</td>\n",
       "    </tr>\n",
       "    <tr>\n",
       "      <th>10553</th>\n",
       "      <td>Hermione Granger/Draco Malfoy</td>\n",
       "      <td>12087</td>\n",
       "    </tr>\n",
       "    <tr>\n",
       "      <th>9820</th>\n",
       "      <td>Harry Potter/Severus Snape</td>\n",
       "      <td>11275</td>\n",
       "    </tr>\n",
       "  </tbody>\n",
       "</table>\n",
       "</div>"
      ],
      "text/plain": [
       "                                name  count\n",
       "6177       Draco Malfoy/Harry Potter  44367\n",
       "21509       Sirius Black/Remus Lupin  19922\n",
       "10871   Hermione Granger/Ron Weasley  12716\n",
       "10553  Hermione Granger/Draco Malfoy  12087\n",
       "9820      Harry Potter/Severus Snape  11275"
      ]
     },
     "execution_count": 36,
     "metadata": {},
     "output_type": "execute_result"
    }
   ],
   "source": [
    "ship_df.head(5)"
   ]
  },
  {
   "cell_type": "markdown",
   "metadata": {
    "id": "VzvheZk3wHL8"
   },
   "source": [
    "Next, we load our other datasets. We have "
   ]
  },
  {
   "cell_type": "code",
   "execution_count": 45,
   "metadata": {
    "id": "fd5VsV6kva8c"
   },
   "outputs": [],
   "source": [
    "chars_df = pd.read_csv(\"../data/HPCharactersData.csv\")\n",
    "lang_df = pd.read_csv(\"../data/countries-languages.csv\")\n",
    "langcode_df = pd.read_csv('../data/world-languages-simple.csv')\n",
    "gai_df = pd.read_csv('../data/GAI-Data-2000-2020.csv')  "
   ]
  },
  {
   "cell_type": "markdown",
   "metadata": {
    "id": "4mDD4YCychMC"
   },
   "source": [
    "We create a set of simple one-word languages names that we can use to filter for valid languages."
   ]
  },
  {
   "cell_type": "code",
   "execution_count": 46,
   "metadata": {
    "id": "0kTc_bdtxnKs"
   },
   "outputs": [],
   "source": [
    "s = set(langcode_df['Name'].unique())\n",
    "s.remove('Chinese (Mandarin)')\n",
    "s.add('Chinese')"
   ]
  },
  {
   "cell_type": "markdown",
   "metadata": {
    "id": "ubeqMiuadXrC"
   },
   "source": [
    "Each country has a comma-separated list of languages spoken there. Some of the languages are listed along with the percentage of the population that uses them. For these languages, we only include them in the result if over 50% of the population uses them."
   ]
  },
  {
   "cell_type": "code",
   "execution_count": 47,
   "metadata": {
    "id": "vMqqQlzY0REV"
   },
   "outputs": [],
   "source": [
    "import re\n",
    "def filterlang(x):\n",
    "  languages = x.replace(';', ',').split(',')\n",
    "  ret = []\n",
    "  for l in languages:\n",
    "    if '%' in l:\n",
    "      percent = re.findall(r'\\d+', l)[0]\n",
    "      if int(percent) > 50:\n",
    "        for lang in l.split(' '):\n",
    "          if lang in s:\n",
    "            ret.append(lang)\n",
    "    else:\n",
    "      for lang in l.split(' '):\n",
    "        if lang in s:\n",
    "          ret.append(lang)\n",
    "  return ret"
   ]
  },
  {
   "cell_type": "code",
   "execution_count": 48,
   "metadata": {
    "colab": {
     "base_uri": "https://localhost:8080/",
     "height": 81
    },
    "id": "fhFxH234wLLW",
    "outputId": "6d49b6a8-5519-414f-f9fa-031b27b90350"
   },
   "outputs": [
    {
     "data": {
      "text/html": [
       "<div>\n",
       "<style scoped>\n",
       "    .dataframe tbody tr th:only-of-type {\n",
       "        vertical-align: middle;\n",
       "    }\n",
       "\n",
       "    .dataframe tbody tr th {\n",
       "        vertical-align: top;\n",
       "    }\n",
       "\n",
       "    .dataframe thead th {\n",
       "        text-align: right;\n",
       "    }\n",
       "</style>\n",
       "<table border=\"1\" class=\"dataframe\">\n",
       "  <thead>\n",
       "    <tr style=\"text-align: right;\">\n",
       "      <th></th>\n",
       "      <th>Country</th>\n",
       "      <th>Languages Spoken</th>\n",
       "      <th>Languages</th>\n",
       "    </tr>\n",
       "  </thead>\n",
       "  <tbody>\n",
       "    <tr>\n",
       "      <th>46</th>\n",
       "      <td>Denmark</td>\n",
       "      <td>Danish, Faroese, Greenlandic (Inuit dialect), ...</td>\n",
       "      <td>[Danish, German, English]</td>\n",
       "    </tr>\n",
       "  </tbody>\n",
       "</table>\n",
       "</div>"
      ],
      "text/plain": [
       "    Country                                   Languages Spoken  \\\n",
       "46  Denmark  Danish, Faroese, Greenlandic (Inuit dialect), ...   \n",
       "\n",
       "                    Languages  \n",
       "46  [Danish, German, English]  "
      ]
     },
     "execution_count": 48,
     "metadata": {},
     "output_type": "execute_result"
    }
   ],
   "source": [
    "lang_df['Languages'] = lang_df['Languages Spoken'].apply(lambda x: filterlang(x))\n",
    "lang_df[lang_df['Country'] == 'Denmark']"
   ]
  },
  {
   "cell_type": "code",
   "execution_count": 49,
   "metadata": {
    "id": "OSvom7VB6CQG"
   },
   "outputs": [],
   "source": [
    "lang_df = lang_df.explode('Languages')"
   ]
  },
  {
   "cell_type": "code",
   "execution_count": 50,
   "metadata": {
    "colab": {
     "base_uri": "https://localhost:8080/",
     "height": 423
    },
    "id": "TxQmdw-V-lv2",
    "outputId": "e4fc20c9-a179-40ac-9c17-0c4b3bbf0690"
   },
   "outputs": [
    {
     "data": {
      "text/html": [
       "<div>\n",
       "<style scoped>\n",
       "    .dataframe tbody tr th:only-of-type {\n",
       "        vertical-align: middle;\n",
       "    }\n",
       "\n",
       "    .dataframe tbody tr th {\n",
       "        vertical-align: top;\n",
       "    }\n",
       "\n",
       "    .dataframe thead th {\n",
       "        text-align: right;\n",
       "    }\n",
       "</style>\n",
       "<table border=\"1\" class=\"dataframe\">\n",
       "  <thead>\n",
       "    <tr style=\"text-align: right;\">\n",
       "      <th></th>\n",
       "      <th>Country</th>\n",
       "      <th>Languages Spoken</th>\n",
       "      <th>Languages</th>\n",
       "    </tr>\n",
       "  </thead>\n",
       "  <tbody>\n",
       "    <tr>\n",
       "      <th>0</th>\n",
       "      <td>Afghanistan</td>\n",
       "      <td>Dari Persian, Pashtu (both official), other Tu...</td>\n",
       "      <td>Persian</td>\n",
       "    </tr>\n",
       "    <tr>\n",
       "      <th>1</th>\n",
       "      <td>Albania</td>\n",
       "      <td>Albanian (Tosk is the official dialect), Greek</td>\n",
       "      <td>Albanian</td>\n",
       "    </tr>\n",
       "    <tr>\n",
       "      <th>1</th>\n",
       "      <td>Albania</td>\n",
       "      <td>Albanian (Tosk is the official dialect), Greek</td>\n",
       "      <td>Greek</td>\n",
       "    </tr>\n",
       "    <tr>\n",
       "      <th>2</th>\n",
       "      <td>Algeria</td>\n",
       "      <td>Arabic (official), French, Berber dialects</td>\n",
       "      <td>Arabic</td>\n",
       "    </tr>\n",
       "    <tr>\n",
       "      <th>2</th>\n",
       "      <td>Algeria</td>\n",
       "      <td>Arabic (official), French, Berber dialects</td>\n",
       "      <td>French</td>\n",
       "    </tr>\n",
       "    <tr>\n",
       "      <th>...</th>\n",
       "      <td>...</td>\n",
       "      <td>...</td>\n",
       "      <td>...</td>\n",
       "    </tr>\n",
       "    <tr>\n",
       "      <th>194</th>\n",
       "      <td>Western Sahara (proposed state)</td>\n",
       "      <td>Hassaniya Arabic, Moroccan Arabic</td>\n",
       "      <td>Arabic</td>\n",
       "    </tr>\n",
       "    <tr>\n",
       "      <th>195</th>\n",
       "      <td>Yemen</td>\n",
       "      <td>Arabic</td>\n",
       "      <td>Arabic</td>\n",
       "    </tr>\n",
       "    <tr>\n",
       "      <th>196</th>\n",
       "      <td>Zambia</td>\n",
       "      <td>English (official); major vernaculars: Bemba, ...</td>\n",
       "      <td>English</td>\n",
       "    </tr>\n",
       "    <tr>\n",
       "      <th>196</th>\n",
       "      <td>Zambia</td>\n",
       "      <td>English (official); major vernaculars: Bemba, ...</td>\n",
       "      <td>Tonga</td>\n",
       "    </tr>\n",
       "    <tr>\n",
       "      <th>197</th>\n",
       "      <td>Zimbabwe</td>\n",
       "      <td>English (official), Shona, Ndebele (Sindebele)...</td>\n",
       "      <td>English</td>\n",
       "    </tr>\n",
       "  </tbody>\n",
       "</table>\n",
       "<p>347 rows × 3 columns</p>\n",
       "</div>"
      ],
      "text/plain": [
       "                             Country  \\\n",
       "0                        Afghanistan   \n",
       "1                            Albania   \n",
       "1                            Albania   \n",
       "2                            Algeria   \n",
       "2                            Algeria   \n",
       "..                               ...   \n",
       "194  Western Sahara (proposed state)   \n",
       "195                            Yemen   \n",
       "196                           Zambia   \n",
       "196                           Zambia   \n",
       "197                         Zimbabwe   \n",
       "\n",
       "                                      Languages Spoken Languages  \n",
       "0    Dari Persian, Pashtu (both official), other Tu...   Persian  \n",
       "1       Albanian (Tosk is the official dialect), Greek  Albanian  \n",
       "1       Albanian (Tosk is the official dialect), Greek     Greek  \n",
       "2           Arabic (official), French, Berber dialects    Arabic  \n",
       "2           Arabic (official), French, Berber dialects    French  \n",
       "..                                                 ...       ...  \n",
       "194                  Hassaniya Arabic, Moroccan Arabic    Arabic  \n",
       "195                                             Arabic    Arabic  \n",
       "196  English (official); major vernaculars: Bemba, ...   English  \n",
       "196  English (official); major vernaculars: Bemba, ...     Tonga  \n",
       "197  English (official), Shona, Ndebele (Sindebele)...   English  \n",
       "\n",
       "[347 rows x 3 columns]"
      ]
     },
     "execution_count": 50,
     "metadata": {},
     "output_type": "execute_result"
    }
   ],
   "source": [
    "lang_df"
   ]
  },
  {
   "cell_type": "markdown",
   "metadata": {
    "id": "sdgtb8muiUYT"
   },
   "source": [
    "We merge our dataframe which maps countries to languages with the language code dataframe and group by language code to get lists of countries."
   ]
  },
  {
   "cell_type": "code",
   "execution_count": 51,
   "metadata": {
    "colab": {
     "base_uri": "https://localhost:8080/",
     "height": 455
    },
    "id": "mrAnhNKg6S05",
    "outputId": "f8a60d8f-22c5-4ea3-e481-33bc1d5250d3"
   },
   "outputs": [
    {
     "data": {
      "text/html": [
       "<div>\n",
       "<style scoped>\n",
       "    .dataframe tbody tr th:only-of-type {\n",
       "        vertical-align: middle;\n",
       "    }\n",
       "\n",
       "    .dataframe tbody tr th {\n",
       "        vertical-align: top;\n",
       "    }\n",
       "\n",
       "    .dataframe thead th {\n",
       "        text-align: right;\n",
       "    }\n",
       "</style>\n",
       "<table border=\"1\" class=\"dataframe\">\n",
       "  <thead>\n",
       "    <tr style=\"text-align: right;\">\n",
       "      <th></th>\n",
       "      <th>Country</th>\n",
       "    </tr>\n",
       "    <tr>\n",
       "      <th>lang_Code</th>\n",
       "      <th></th>\n",
       "    </tr>\n",
       "  </thead>\n",
       "  <tbody>\n",
       "    <tr>\n",
       "      <th>af</th>\n",
       "      <td>[Namibia]</td>\n",
       "    </tr>\n",
       "    <tr>\n",
       "      <th>ar</th>\n",
       "      <td>[Algeria, Bahrain, Chad, Comoros, Djibouti, Eg...</td>\n",
       "    </tr>\n",
       "    <tr>\n",
       "      <th>bg</th>\n",
       "      <td>[Bulgaria]</td>\n",
       "    </tr>\n",
       "    <tr>\n",
       "      <th>bn</th>\n",
       "      <td>[India]</td>\n",
       "    </tr>\n",
       "    <tr>\n",
       "      <th>bo</th>\n",
       "      <td>[Bhutan]</td>\n",
       "    </tr>\n",
       "    <tr>\n",
       "      <th>...</th>\n",
       "      <td>...</td>\n",
       "    </tr>\n",
       "    <tr>\n",
       "      <th>uk</th>\n",
       "      <td>[Ukraine]</td>\n",
       "    </tr>\n",
       "    <tr>\n",
       "      <th>ur</th>\n",
       "      <td>[Bahrain, Guyana, India, Oman, United Arab Emi...</td>\n",
       "    </tr>\n",
       "    <tr>\n",
       "      <th>uz</th>\n",
       "      <td>[Uzbekistan]</td>\n",
       "    </tr>\n",
       "    <tr>\n",
       "      <th>vi</th>\n",
       "      <td>[Vietnam]</td>\n",
       "    </tr>\n",
       "    <tr>\n",
       "      <th>xh</th>\n",
       "      <td>[Lesotho]</td>\n",
       "    </tr>\n",
       "  </tbody>\n",
       "</table>\n",
       "<p>67 rows × 1 columns</p>\n",
       "</div>"
      ],
      "text/plain": [
       "                                                     Country\n",
       "lang_Code                                                   \n",
       "af                                                 [Namibia]\n",
       "ar         [Algeria, Bahrain, Chad, Comoros, Djibouti, Eg...\n",
       "bg                                                [Bulgaria]\n",
       "bn                                                   [India]\n",
       "bo                                                  [Bhutan]\n",
       "...                                                      ...\n",
       "uk                                                 [Ukraine]\n",
       "ur         [Bahrain, Guyana, India, Oman, United Arab Emi...\n",
       "uz                                              [Uzbekistan]\n",
       "vi                                                 [Vietnam]\n",
       "xh                                                 [Lesotho]\n",
       "\n",
       "[67 rows x 1 columns]"
      ]
     },
     "execution_count": 51,
     "metadata": {},
     "output_type": "execute_result"
    }
   ],
   "source": [
    "lang_combined = lang_df.merge(langcode_df, left_on='Languages', right_on='Name', how='left')\n",
    "lang_combined['lang_Code'] = lang_combined['Code'].apply(lambda x: str(x).lower())\n",
    "lang_country = lang_combined[['lang_Code', 'Country']]\n",
    "lang_country = lang_country.groupby('lang_Code').agg({\"Country\": lambda x: list(x)})\n",
    "lang_country"
   ]
  },
  {
   "cell_type": "markdown",
   "metadata": {
    "id": "EjAhAXIFk84m"
   },
   "source": [
    "We have a dataframe of LGBT global acceptance index (GAI) for each country. We merge this with our country and language dataframe."
   ]
  },
  {
   "cell_type": "code",
   "execution_count": 52,
   "metadata": {
    "id": "Smm_0rObJANN"
   },
   "outputs": [],
   "source": [
    "GAI_lang_df = lang_combined[['lang_Code', 'Country']].merge(gai_df[['Country', 'GAI']], on='Country', how='left').groupby('lang_Code').agg({\"Country\": lambda x: list(x), 'GAI': 'mean'})"
   ]
  },
  {
   "cell_type": "markdown",
   "metadata": {
    "id": "3U3lv9yonNBw"
   },
   "source": [
    "Next, we handle some special cases of character names."
   ]
  },
  {
   "cell_type": "code",
   "execution_count": 53,
   "metadata": {
    "id": "C5SNMQ6C9IIV"
   },
   "outputs": [],
   "source": [
    "chars_df.loc[chars_df['Name'] == 'Lily Potter', 'Name'] = 'Lily Evans Potter'"
   ]
  },
  {
   "cell_type": "code",
   "execution_count": 54,
   "metadata": {
    "colab": {
     "base_uri": "https://localhost:8080/"
    },
    "id": "fak71_y9-Zmb",
    "outputId": "bf156886-fca1-498a-8504-9faf9f40b41b"
   },
   "outputs": [
    {
     "name": "stderr",
     "output_type": "stream",
     "text": [
      "/tmp/ipykernel_2191219/3205639399.py:2: FutureWarning: The frame.append method is deprecated and will be removed from pandas in a future version. Use pandas.concat instead.\n",
      "  chars_df = chars_df.append(df2, ignore_index = True)\n"
     ]
    }
   ],
   "source": [
    "df2 = {'Name': 'Tom Riddle', 'Gender': 'Male', 'Species/Race': 'wizard', 'Blood': 'Half-blood'}\n",
    "chars_df = chars_df.append(df2, ignore_index = True)"
   ]
  },
  {
   "cell_type": "code",
   "execution_count": 55,
   "metadata": {
    "id": "znS1qKwd-K76"
   },
   "outputs": [],
   "source": [
    "chars_df.loc[chars_df['Name'] == 'Lord Voldemort', 'Name'] = 'Voldemort'"
   ]
  },
  {
   "cell_type": "code",
   "execution_count": 56,
   "metadata": {
    "colab": {
     "base_uri": "https://localhost:8080/"
    },
    "id": "5mEuc5aNKSwd",
    "outputId": "6a6688d4-7bd7-4025-bdae-f47f514e91a9"
   },
   "outputs": [
    {
     "name": "stderr",
     "output_type": "stream",
     "text": [
      "/tmp/ipykernel_2191219/3992164409.py:2: FutureWarning: The frame.append method is deprecated and will be removed from pandas in a future version. Use pandas.concat instead.\n",
      "  chars_df = chars_df.append(df2, ignore_index = True)\n"
     ]
    }
   ],
   "source": [
    "df2 = {'Name': 'Narcissa Black Malfoy', 'Gender': 'Female', 'Species/Race': 'witch', 'Blood': 'Pure blood'}\n",
    "chars_df = chars_df.append(df2, ignore_index = True)"
   ]
  },
  {
   "cell_type": "markdown",
   "metadata": {
    "id": "YwbocVq2nski"
   },
   "source": [
    "The ships are in three formats: char1/char2, char1|char2, or char1 & char2. We split on these delimiters and merge the result with our table of characters and genders."
   ]
  },
  {
   "cell_type": "code",
   "execution_count": 57,
   "metadata": {
    "id": "l1Wmmu3Dv7dr"
   },
   "outputs": [],
   "source": [
    "import re\n",
    "\n",
    "ship_type = pd.DataFrame({'ship':work_tag_df['name'], 'chars': work_tag_df['name'].apply(lambda x: re.split(r'/| & ', str(x)))})\n",
    "ship_type = ship_type.drop_duplicates('ship')\n",
    "ship_type = ship_type.explode('chars').merge(chars_df, left_on='chars', right_on='Name', how='left')[['ship', 'chars', 'Gender']]\n",
    "ship_type.groupby('ship').agg({\"chars\": lambda x: list(x),\"Gender\": lambda x: list(x)})\n",
    "ship_type = ship_type.dropna()"
   ]
  },
  {
   "cell_type": "code",
   "execution_count": 58,
   "metadata": {
    "colab": {
     "base_uri": "https://localhost:8080/"
    },
    "id": "W_8YPkwx6P3Y",
    "outputId": "8a4146bb-fe4b-4646-f17d-020fd5455534"
   },
   "outputs": [
    {
     "data": {
      "text/plain": [
       "['Minerva McGonagall', 'Sybill Trelawney']"
      ]
     },
     "execution_count": 58,
     "metadata": {},
     "output_type": "execute_result"
    }
   ],
   "source": [
    "x = 'Minerva McGonagall & Sybill Trelawney'\n",
    "re.split(r'/| & ', x)"
   ]
  },
  {
   "cell_type": "code",
   "execution_count": 59,
   "metadata": {
    "colab": {
     "base_uri": "https://localhost:8080/",
     "height": 423
    },
    "id": "H0ku0k9tKOTo",
    "outputId": "43f7700d-6389-4137-81ee-07d988d3e1cf"
   },
   "outputs": [
    {
     "data": {
      "text/html": [
       "<div>\n",
       "<style scoped>\n",
       "    .dataframe tbody tr th:only-of-type {\n",
       "        vertical-align: middle;\n",
       "    }\n",
       "\n",
       "    .dataframe tbody tr th {\n",
       "        vertical-align: top;\n",
       "    }\n",
       "\n",
       "    .dataframe thead th {\n",
       "        text-align: right;\n",
       "    }\n",
       "</style>\n",
       "<table border=\"1\" class=\"dataframe\">\n",
       "  <thead>\n",
       "    <tr style=\"text-align: right;\">\n",
       "      <th></th>\n",
       "      <th>ship</th>\n",
       "      <th>type</th>\n",
       "    </tr>\n",
       "  </thead>\n",
       "  <tbody>\n",
       "    <tr>\n",
       "      <th>4</th>\n",
       "      <td>Aberforth Dumbledore &amp; Albus Dumbledore</td>\n",
       "      <td>[Male, Male]</td>\n",
       "    </tr>\n",
       "    <tr>\n",
       "      <th>5</th>\n",
       "      <td>Aberforth Dumbledore &amp; Albus Dumbledore &amp; Aria...</td>\n",
       "      <td>[Male, Male, Female]</td>\n",
       "    </tr>\n",
       "    <tr>\n",
       "      <th>6</th>\n",
       "      <td>Aberforth Dumbledore &amp; Albus Dumbledore &amp; Aria...</td>\n",
       "      <td>[Male, Male, Female, Male]</td>\n",
       "    </tr>\n",
       "    <tr>\n",
       "      <th>7</th>\n",
       "      <td>Aberforth Dumbledore &amp; Ariana Dumbledore</td>\n",
       "      <td>[Male, Female]</td>\n",
       "    </tr>\n",
       "    <tr>\n",
       "      <th>8</th>\n",
       "      <td>Aberforth Dumbledore &amp; Gellert Grindelwald</td>\n",
       "      <td>[Male, Male]</td>\n",
       "    </tr>\n",
       "    <tr>\n",
       "      <th>...</th>\n",
       "      <td>...</td>\n",
       "      <td>...</td>\n",
       "    </tr>\n",
       "    <tr>\n",
       "      <th>10448</th>\n",
       "      <td>Zacharias Smith/Blaise Zabini</td>\n",
       "      <td>[Male, Male]</td>\n",
       "    </tr>\n",
       "    <tr>\n",
       "      <th>10450</th>\n",
       "      <td>Zacharias Smith/Fred Weasley/George Weasley</td>\n",
       "      <td>[Male, Male, Male]</td>\n",
       "    </tr>\n",
       "    <tr>\n",
       "      <th>10451</th>\n",
       "      <td>Zacharias Smith/Ginny Weasley</td>\n",
       "      <td>[Male, Female]</td>\n",
       "    </tr>\n",
       "    <tr>\n",
       "      <th>10452</th>\n",
       "      <td>Zacharias Smith/Lucy Weasley</td>\n",
       "      <td>[Male, Female]</td>\n",
       "    </tr>\n",
       "    <tr>\n",
       "      <th>10455</th>\n",
       "      <td>Zacharias Smith/Ron Weasley</td>\n",
       "      <td>[Male, Male]</td>\n",
       "    </tr>\n",
       "  </tbody>\n",
       "</table>\n",
       "<p>5393 rows × 2 columns</p>\n",
       "</div>"
      ],
      "text/plain": [
       "                                                    ship  \\\n",
       "4                Aberforth Dumbledore & Albus Dumbledore   \n",
       "5      Aberforth Dumbledore & Albus Dumbledore & Aria...   \n",
       "6      Aberforth Dumbledore & Albus Dumbledore & Aria...   \n",
       "7               Aberforth Dumbledore & Ariana Dumbledore   \n",
       "8             Aberforth Dumbledore & Gellert Grindelwald   \n",
       "...                                                  ...   \n",
       "10448                      Zacharias Smith/Blaise Zabini   \n",
       "10450        Zacharias Smith/Fred Weasley/George Weasley   \n",
       "10451                      Zacharias Smith/Ginny Weasley   \n",
       "10452                       Zacharias Smith/Lucy Weasley   \n",
       "10455                        Zacharias Smith/Ron Weasley   \n",
       "\n",
       "                             type  \n",
       "4                    [Male, Male]  \n",
       "5            [Male, Male, Female]  \n",
       "6      [Male, Male, Female, Male]  \n",
       "7                  [Male, Female]  \n",
       "8                    [Male, Male]  \n",
       "...                           ...  \n",
       "10448                [Male, Male]  \n",
       "10450          [Male, Male, Male]  \n",
       "10451              [Male, Female]  \n",
       "10452              [Male, Female]  \n",
       "10455                [Male, Male]  \n",
       "\n",
       "[5393 rows x 2 columns]"
      ]
     },
     "execution_count": 59,
     "metadata": {},
     "output_type": "execute_result"
    }
   ],
   "source": [
    "ship_type = ship_type.groupby('ship')['Gender'].apply(list).reset_index(name='type')\n",
    "ship_type = ship_type[ship_type.apply(lambda x: True if (len(x['type'])) > 1 else False,axis=1)]\n",
    "ship_type"
   ]
  },
  {
   "cell_type": "code",
   "execution_count": 60,
   "metadata": {
    "id": "dQ6iJW8h_xPr"
   },
   "outputs": [],
   "source": [
    "#top_5_country_df takes the five most popular ships for each language\n",
    "work_country_df = work_tag_df.groupby(['language','name'])['work_id'].count().reset_index(name='count').sort_values(['count'], ascending=False)\n",
    "top_5_country_df = work_country_df.groupby(['language']).head(5)\n",
    "top_5_country_df = top_5_country_df.merge(ship_type, left_on='name', right_on='ship', how='left').drop(['ship'], axis=1)"
   ]
  },
  {
   "cell_type": "code",
   "execution_count": 61,
   "metadata": {
    "id": "5NXjBYhDSjbZ"
   },
   "outputs": [],
   "source": [
    "top_country_df = work_country_df.merge(ship_type, left_on='name', right_on='ship', how='left').drop(['ship'], axis=1).dropna()\n",
    "top_country_df = top_country_df.merge(GAI_lang_df, left_on='language', right_on='lang_Code')"
   ]
  },
  {
   "cell_type": "code",
   "execution_count": 62,
   "metadata": {
    "id": "BmSG2W-9IuHo"
   },
   "outputs": [],
   "source": [
    "def convert(x):\n",
    "  if type(x) is list:\n",
    "    if 'Female' in x and 'Male' in x:\n",
    "      return 1\n",
    "  return 0"
   ]
  },
  {
   "cell_type": "code",
   "execution_count": 63,
   "metadata": {
    "id": "LlI3gIYDIxjH"
   },
   "outputs": [],
   "source": [
    "top_country_df['gay'] = top_country_df.apply(lambda x: convert(x['type'])* x['count'], axis=1)"
   ]
  },
  {
   "cell_type": "code",
   "execution_count": 64,
   "metadata": {
    "id": "uqmm0UcwJTEN"
   },
   "outputs": [],
   "source": [
    "# gay_rating will be our Gay Acceptance Index\n",
    "top_country_df = top_country_df[['language', 'GAI', 'Country', 'count', 'gay']].groupby(['language', 'GAI']).agg({'count': 'sum', 'Country': 'first', 'gay': 'sum' }).reset_index(names=['language', 'GAI'])\n",
    "top_country_df['gay_rating'] = top_country_df.apply(lambda x: x['gay'] / x['count'], axis=1)"
   ]
  },
  {
   "cell_type": "code",
   "execution_count": 65,
   "metadata": {
    "colab": {
     "base_uri": "https://localhost:8080/",
     "height": 989
    },
    "id": "dS8fU8MMJK5H",
    "outputId": "bd733044-3d4d-496b-f4e3-42e6de0eafa1"
   },
   "outputs": [
    {
     "data": {
      "text/html": [
       "<div>\n",
       "<style scoped>\n",
       "    .dataframe tbody tr th:only-of-type {\n",
       "        vertical-align: middle;\n",
       "    }\n",
       "\n",
       "    .dataframe tbody tr th {\n",
       "        vertical-align: top;\n",
       "    }\n",
       "\n",
       "    .dataframe thead th {\n",
       "        text-align: right;\n",
       "    }\n",
       "</style>\n",
       "<table border=\"1\" class=\"dataframe\">\n",
       "  <thead>\n",
       "    <tr style=\"text-align: right;\">\n",
       "      <th></th>\n",
       "      <th>language</th>\n",
       "      <th>GAI</th>\n",
       "      <th>count</th>\n",
       "      <th>Country</th>\n",
       "      <th>gay</th>\n",
       "      <th>gay_rating</th>\n",
       "    </tr>\n",
       "  </thead>\n",
       "  <tbody>\n",
       "    <tr>\n",
       "      <th>0</th>\n",
       "      <td>ar</td>\n",
       "      <td>3.438333</td>\n",
       "      <td>1</td>\n",
       "      <td>[Algeria, Bahrain, Chad, Comoros, Djibouti, Eg...</td>\n",
       "      <td>0</td>\n",
       "      <td>0.000000</td>\n",
       "    </tr>\n",
       "    <tr>\n",
       "      <th>1</th>\n",
       "      <td>bg</td>\n",
       "      <td>4.190000</td>\n",
       "      <td>5</td>\n",
       "      <td>[Bulgaria]</td>\n",
       "      <td>2</td>\n",
       "      <td>0.400000</td>\n",
       "    </tr>\n",
       "    <tr>\n",
       "      <th>2</th>\n",
       "      <td>ca</td>\n",
       "      <td>7.730000</td>\n",
       "      <td>1</td>\n",
       "      <td>[France]</td>\n",
       "      <td>0</td>\n",
       "      <td>0.000000</td>\n",
       "    </tr>\n",
       "    <tr>\n",
       "      <th>3</th>\n",
       "      <td>cs</td>\n",
       "      <td>5.460000</td>\n",
       "      <td>334</td>\n",
       "      <td>[Croatia, Czech Republic]</td>\n",
       "      <td>97</td>\n",
       "      <td>0.290419</td>\n",
       "    </tr>\n",
       "    <tr>\n",
       "      <th>4</th>\n",
       "      <td>cy</td>\n",
       "      <td>8.340000</td>\n",
       "      <td>4</td>\n",
       "      <td>[United Kingdom]</td>\n",
       "      <td>0</td>\n",
       "      <td>0.000000</td>\n",
       "    </tr>\n",
       "    <tr>\n",
       "      <th>5</th>\n",
       "      <td>da</td>\n",
       "      <td>8.690000</td>\n",
       "      <td>2</td>\n",
       "      <td>[Denmark]</td>\n",
       "      <td>2</td>\n",
       "      <td>1.000000</td>\n",
       "    </tr>\n",
       "    <tr>\n",
       "      <th>6</th>\n",
       "      <td>de</td>\n",
       "      <td>7.548750</td>\n",
       "      <td>1277</td>\n",
       "      <td>[Argentina, Austria, Denmark, Germany, Iceland...</td>\n",
       "      <td>546</td>\n",
       "      <td>0.427565</td>\n",
       "    </tr>\n",
       "    <tr>\n",
       "      <th>7</th>\n",
       "      <td>el</td>\n",
       "      <td>4.416667</td>\n",
       "      <td>3</td>\n",
       "      <td>[Albania, Cyprus, Greece]</td>\n",
       "      <td>0</td>\n",
       "      <td>0.000000</td>\n",
       "    </tr>\n",
       "    <tr>\n",
       "      <th>8</th>\n",
       "      <td>en</td>\n",
       "      <td>4.718548</td>\n",
       "      <td>254357</td>\n",
       "      <td>[Antigua and Barbuda, Argentina, Australia, Ba...</td>\n",
       "      <td>114349</td>\n",
       "      <td>0.449561</td>\n",
       "    </tr>\n",
       "    <tr>\n",
       "      <th>9</th>\n",
       "      <td>es</td>\n",
       "      <td>5.836364</td>\n",
       "      <td>5425</td>\n",
       "      <td>[Argentina, Belize, Bolivia, Brazil, Chile, Co...</td>\n",
       "      <td>1710</td>\n",
       "      <td>0.315207</td>\n",
       "    </tr>\n",
       "    <tr>\n",
       "      <th>10</th>\n",
       "      <td>et</td>\n",
       "      <td>5.250000</td>\n",
       "      <td>1</td>\n",
       "      <td>[Estonia]</td>\n",
       "      <td>1</td>\n",
       "      <td>1.000000</td>\n",
       "    </tr>\n",
       "    <tr>\n",
       "      <th>11</th>\n",
       "      <td>fi</td>\n",
       "      <td>7.960000</td>\n",
       "      <td>514</td>\n",
       "      <td>[Finland]</td>\n",
       "      <td>114</td>\n",
       "      <td>0.221790</td>\n",
       "    </tr>\n",
       "    <tr>\n",
       "      <th>12</th>\n",
       "      <td>fr</td>\n",
       "      <td>4.015000</td>\n",
       "      <td>2619</td>\n",
       "      <td>[Algeria, Andorra, Argentina, Benin, Brazil, B...</td>\n",
       "      <td>1096</td>\n",
       "      <td>0.418480</td>\n",
       "    </tr>\n",
       "    <tr>\n",
       "      <th>13</th>\n",
       "      <td>ga</td>\n",
       "      <td>8.410000</td>\n",
       "      <td>18</td>\n",
       "      <td>[Ireland]</td>\n",
       "      <td>5</td>\n",
       "      <td>0.277778</td>\n",
       "    </tr>\n",
       "    <tr>\n",
       "      <th>14</th>\n",
       "      <td>he</td>\n",
       "      <td>5.690000</td>\n",
       "      <td>87</td>\n",
       "      <td>[Israel, Palestinian State (proposed)]</td>\n",
       "      <td>51</td>\n",
       "      <td>0.586207</td>\n",
       "    </tr>\n",
       "    <tr>\n",
       "      <th>15</th>\n",
       "      <td>hi</td>\n",
       "      <td>4.530000</td>\n",
       "      <td>2</td>\n",
       "      <td>[Guyana, Trinidad and Tobago, United Arab Emir...</td>\n",
       "      <td>0</td>\n",
       "      <td>0.000000</td>\n",
       "    </tr>\n",
       "    <tr>\n",
       "      <th>16</th>\n",
       "      <td>hu</td>\n",
       "      <td>4.594000</td>\n",
       "      <td>235</td>\n",
       "      <td>[Austria, Croatia, Romania, Serbia, Ukraine]</td>\n",
       "      <td>79</td>\n",
       "      <td>0.336170</td>\n",
       "    </tr>\n",
       "    <tr>\n",
       "      <th>17</th>\n",
       "      <td>it</td>\n",
       "      <td>5.930000</td>\n",
       "      <td>1340</td>\n",
       "      <td>[Argentina, Italy, Libya, Monaco, San Marino, ...</td>\n",
       "      <td>629</td>\n",
       "      <td>0.469403</td>\n",
       "    </tr>\n",
       "    <tr>\n",
       "      <th>18</th>\n",
       "      <td>ja</td>\n",
       "      <td>5.260000</td>\n",
       "      <td>2</td>\n",
       "      <td>[Japan, Marshall Islands]</td>\n",
       "      <td>0</td>\n",
       "      <td>0.000000</td>\n",
       "    </tr>\n",
       "    <tr>\n",
       "      <th>19</th>\n",
       "      <td>lv</td>\n",
       "      <td>4.420000</td>\n",
       "      <td>6</td>\n",
       "      <td>[Latvia]</td>\n",
       "      <td>6</td>\n",
       "      <td>1.000000</td>\n",
       "    </tr>\n",
       "    <tr>\n",
       "      <th>20</th>\n",
       "      <td>nl</td>\n",
       "      <td>6.210000</td>\n",
       "      <td>10</td>\n",
       "      <td>[Belgium, Indonesia, Netherlands, Suriname]</td>\n",
       "      <td>4</td>\n",
       "      <td>0.400000</td>\n",
       "    </tr>\n",
       "    <tr>\n",
       "      <th>21</th>\n",
       "      <td>no</td>\n",
       "      <td>9.380000</td>\n",
       "      <td>1</td>\n",
       "      <td>[Norway, Norway]</td>\n",
       "      <td>0</td>\n",
       "      <td>0.000000</td>\n",
       "    </tr>\n",
       "    <tr>\n",
       "      <th>22</th>\n",
       "      <td>pl</td>\n",
       "      <td>4.030000</td>\n",
       "      <td>1560</td>\n",
       "      <td>[Poland, Ukraine]</td>\n",
       "      <td>535</td>\n",
       "      <td>0.342949</td>\n",
       "    </tr>\n",
       "    <tr>\n",
       "      <th>23</th>\n",
       "      <td>ru</td>\n",
       "      <td>2.482500</td>\n",
       "      <td>5516</td>\n",
       "      <td>[Armenia, Belarus, Kazakhstan, Kyrgyzstan, Mol...</td>\n",
       "      <td>1637</td>\n",
       "      <td>0.296773</td>\n",
       "    </tr>\n",
       "    <tr>\n",
       "      <th>24</th>\n",
       "      <td>sk</td>\n",
       "      <td>4.526667</td>\n",
       "      <td>7</td>\n",
       "      <td>[Croatia, Serbia, Slovakia]</td>\n",
       "      <td>2</td>\n",
       "      <td>0.285714</td>\n",
       "    </tr>\n",
       "    <tr>\n",
       "      <th>25</th>\n",
       "      <td>sv</td>\n",
       "      <td>9.180000</td>\n",
       "      <td>3</td>\n",
       "      <td>[Sweden]</td>\n",
       "      <td>0</td>\n",
       "      <td>0.000000</td>\n",
       "    </tr>\n",
       "    <tr>\n",
       "      <th>26</th>\n",
       "      <td>th</td>\n",
       "      <td>4.645000</td>\n",
       "      <td>12</td>\n",
       "      <td>[Malaysia, Thailand]</td>\n",
       "      <td>3</td>\n",
       "      <td>0.250000</td>\n",
       "    </tr>\n",
       "    <tr>\n",
       "      <th>27</th>\n",
       "      <td>tr</td>\n",
       "      <td>3.632500</td>\n",
       "      <td>218</td>\n",
       "      <td>[Cyprus, Kosovo, Moldova, Turkey]</td>\n",
       "      <td>172</td>\n",
       "      <td>0.788991</td>\n",
       "    </tr>\n",
       "    <tr>\n",
       "      <th>28</th>\n",
       "      <td>uk</td>\n",
       "      <td>2.910000</td>\n",
       "      <td>22</td>\n",
       "      <td>[Ukraine]</td>\n",
       "      <td>16</td>\n",
       "      <td>0.727273</td>\n",
       "    </tr>\n",
       "    <tr>\n",
       "      <th>29</th>\n",
       "      <td>vi</td>\n",
       "      <td>4.990000</td>\n",
       "      <td>122</td>\n",
       "      <td>[Vietnam]</td>\n",
       "      <td>25</td>\n",
       "      <td>0.204918</td>\n",
       "    </tr>\n",
       "  </tbody>\n",
       "</table>\n",
       "</div>"
      ],
      "text/plain": [
       "   language       GAI   count  \\\n",
       "0        ar  3.438333       1   \n",
       "1        bg  4.190000       5   \n",
       "2        ca  7.730000       1   \n",
       "3        cs  5.460000     334   \n",
       "4        cy  8.340000       4   \n",
       "5        da  8.690000       2   \n",
       "6        de  7.548750    1277   \n",
       "7        el  4.416667       3   \n",
       "8        en  4.718548  254357   \n",
       "9        es  5.836364    5425   \n",
       "10       et  5.250000       1   \n",
       "11       fi  7.960000     514   \n",
       "12       fr  4.015000    2619   \n",
       "13       ga  8.410000      18   \n",
       "14       he  5.690000      87   \n",
       "15       hi  4.530000       2   \n",
       "16       hu  4.594000     235   \n",
       "17       it  5.930000    1340   \n",
       "18       ja  5.260000       2   \n",
       "19       lv  4.420000       6   \n",
       "20       nl  6.210000      10   \n",
       "21       no  9.380000       1   \n",
       "22       pl  4.030000    1560   \n",
       "23       ru  2.482500    5516   \n",
       "24       sk  4.526667       7   \n",
       "25       sv  9.180000       3   \n",
       "26       th  4.645000      12   \n",
       "27       tr  3.632500     218   \n",
       "28       uk  2.910000      22   \n",
       "29       vi  4.990000     122   \n",
       "\n",
       "                                              Country     gay  gay_rating  \n",
       "0   [Algeria, Bahrain, Chad, Comoros, Djibouti, Eg...       0    0.000000  \n",
       "1                                          [Bulgaria]       2    0.400000  \n",
       "2                                            [France]       0    0.000000  \n",
       "3                           [Croatia, Czech Republic]      97    0.290419  \n",
       "4                                    [United Kingdom]       0    0.000000  \n",
       "5                                           [Denmark]       2    1.000000  \n",
       "6   [Argentina, Austria, Denmark, Germany, Iceland...     546    0.427565  \n",
       "7                           [Albania, Cyprus, Greece]       0    0.000000  \n",
       "8   [Antigua and Barbuda, Argentina, Australia, Ba...  114349    0.449561  \n",
       "9   [Argentina, Belize, Bolivia, Brazil, Chile, Co...    1710    0.315207  \n",
       "10                                          [Estonia]       1    1.000000  \n",
       "11                                          [Finland]     114    0.221790  \n",
       "12  [Algeria, Andorra, Argentina, Benin, Brazil, B...    1096    0.418480  \n",
       "13                                          [Ireland]       5    0.277778  \n",
       "14             [Israel, Palestinian State (proposed)]      51    0.586207  \n",
       "15  [Guyana, Trinidad and Tobago, United Arab Emir...       0    0.000000  \n",
       "16       [Austria, Croatia, Romania, Serbia, Ukraine]      79    0.336170  \n",
       "17  [Argentina, Italy, Libya, Monaco, San Marino, ...     629    0.469403  \n",
       "18                          [Japan, Marshall Islands]       0    0.000000  \n",
       "19                                           [Latvia]       6    1.000000  \n",
       "20        [Belgium, Indonesia, Netherlands, Suriname]       4    0.400000  \n",
       "21                                   [Norway, Norway]       0    0.000000  \n",
       "22                                  [Poland, Ukraine]     535    0.342949  \n",
       "23  [Armenia, Belarus, Kazakhstan, Kyrgyzstan, Mol...    1637    0.296773  \n",
       "24                        [Croatia, Serbia, Slovakia]       2    0.285714  \n",
       "25                                           [Sweden]       0    0.000000  \n",
       "26                               [Malaysia, Thailand]       3    0.250000  \n",
       "27                  [Cyprus, Kosovo, Moldova, Turkey]     172    0.788991  \n",
       "28                                          [Ukraine]      16    0.727273  \n",
       "29                                          [Vietnam]      25    0.204918  "
      ]
     },
     "execution_count": 65,
     "metadata": {},
     "output_type": "execute_result"
    }
   ],
   "source": [
    "top_country_df"
   ]
  },
  {
   "cell_type": "markdown",
   "metadata": {
    "id": "HV0VVVUxx2Jx"
   },
   "source": [
    "Then, we find the correlation between these columns and represent it as a heatmap. "
   ]
  },
  {
   "cell_type": "code",
   "execution_count": 66,
   "metadata": {
    "colab": {
     "base_uri": "https://localhost:8080/",
     "height": 492
    },
    "id": "w_z9ynpoO52Y",
    "outputId": "91860b51-ced8-444f-8446-e80fae6edc1e"
   },
   "outputs": [
    {
     "name": "stderr",
     "output_type": "stream",
     "text": [
      "/tmp/ipykernel_2191219/722160116.py:4: FutureWarning: The default value of numeric_only in DataFrame.corr is deprecated. In a future version, it will default to False. Select only valid columns or specify the value of numeric_only to silence this warning.\n",
      "  sns.heatmap(top_country_df.corr(), annot = True)\n"
     ]
    },
    {
     "data": {
      "image/png": "[encoded data removed]",
      "text/plain": [
       "<Figure size 432x288 with 2 Axes>"
      ]
     },
     "metadata": {
      "needs_background": "light"
     },
     "output_type": "display_data"
    }
   ],
   "source": [
    "import seaborn as sns\n",
    "import matplotlib.pyplot as plt\n",
    "\n",
    "sns.heatmap(top_country_df.corr(), annot = True)\n",
    "plt.show()"
   ]
  },
  {
   "cell_type": "code",
   "execution_count": 67,
   "metadata": {
    "colab": {
     "base_uri": "https://localhost:8080/",
     "height": 394
    },
    "id": "Y02WXnooKJa0",
    "outputId": "8d99e0f5-2a26-4bf6-bf02-1910b3542009"
   },
   "outputs": [
    {
     "data": {
      "text/html": [
       "<div>\n",
       "<style scoped>\n",
       "    .dataframe tbody tr th:only-of-type {\n",
       "        vertical-align: middle;\n",
       "    }\n",
       "\n",
       "    .dataframe tbody tr th {\n",
       "        vertical-align: top;\n",
       "    }\n",
       "\n",
       "    .dataframe thead th {\n",
       "        text-align: right;\n",
       "    }\n",
       "</style>\n",
       "<table border=\"1\" class=\"dataframe\">\n",
       "  <thead>\n",
       "    <tr style=\"text-align: right;\">\n",
       "      <th></th>\n",
       "      <th>language</th>\n",
       "      <th>GAI</th>\n",
       "      <th>Country</th>\n",
       "      <th>gay_rating</th>\n",
       "    </tr>\n",
       "  </thead>\n",
       "  <tbody>\n",
       "    <tr>\n",
       "      <th>1</th>\n",
       "      <td>bg</td>\n",
       "      <td>4.19</td>\n",
       "      <td>[Bulgaria]</td>\n",
       "      <td>0.400000</td>\n",
       "    </tr>\n",
       "    <tr>\n",
       "      <th>2</th>\n",
       "      <td>ca</td>\n",
       "      <td>7.73</td>\n",
       "      <td>[France]</td>\n",
       "      <td>0.000000</td>\n",
       "    </tr>\n",
       "    <tr>\n",
       "      <th>4</th>\n",
       "      <td>cy</td>\n",
       "      <td>8.34</td>\n",
       "      <td>[United Kingdom]</td>\n",
       "      <td>0.000000</td>\n",
       "    </tr>\n",
       "    <tr>\n",
       "      <th>5</th>\n",
       "      <td>da</td>\n",
       "      <td>8.69</td>\n",
       "      <td>[Denmark]</td>\n",
       "      <td>1.000000</td>\n",
       "    </tr>\n",
       "    <tr>\n",
       "      <th>10</th>\n",
       "      <td>et</td>\n",
       "      <td>5.25</td>\n",
       "      <td>[Estonia]</td>\n",
       "      <td>1.000000</td>\n",
       "    </tr>\n",
       "    <tr>\n",
       "      <th>11</th>\n",
       "      <td>fi</td>\n",
       "      <td>7.96</td>\n",
       "      <td>[Finland]</td>\n",
       "      <td>0.221790</td>\n",
       "    </tr>\n",
       "    <tr>\n",
       "      <th>13</th>\n",
       "      <td>ga</td>\n",
       "      <td>8.41</td>\n",
       "      <td>[Ireland]</td>\n",
       "      <td>0.277778</td>\n",
       "    </tr>\n",
       "    <tr>\n",
       "      <th>19</th>\n",
       "      <td>lv</td>\n",
       "      <td>4.42</td>\n",
       "      <td>[Latvia]</td>\n",
       "      <td>1.000000</td>\n",
       "    </tr>\n",
       "    <tr>\n",
       "      <th>25</th>\n",
       "      <td>sv</td>\n",
       "      <td>9.18</td>\n",
       "      <td>[Sweden]</td>\n",
       "      <td>0.000000</td>\n",
       "    </tr>\n",
       "    <tr>\n",
       "      <th>28</th>\n",
       "      <td>uk</td>\n",
       "      <td>2.91</td>\n",
       "      <td>[Ukraine]</td>\n",
       "      <td>0.727273</td>\n",
       "    </tr>\n",
       "    <tr>\n",
       "      <th>29</th>\n",
       "      <td>vi</td>\n",
       "      <td>4.99</td>\n",
       "      <td>[Vietnam]</td>\n",
       "      <td>0.204918</td>\n",
       "    </tr>\n",
       "  </tbody>\n",
       "</table>\n",
       "</div>"
      ],
      "text/plain": [
       "   language   GAI           Country  gay_rating\n",
       "1        bg  4.19        [Bulgaria]    0.400000\n",
       "2        ca  7.73          [France]    0.000000\n",
       "4        cy  8.34  [United Kingdom]    0.000000\n",
       "5        da  8.69         [Denmark]    1.000000\n",
       "10       et  5.25         [Estonia]    1.000000\n",
       "11       fi  7.96         [Finland]    0.221790\n",
       "13       ga  8.41         [Ireland]    0.277778\n",
       "19       lv  4.42          [Latvia]    1.000000\n",
       "25       sv  9.18          [Sweden]    0.000000\n",
       "28       uk  2.91         [Ukraine]    0.727273\n",
       "29       vi  4.99         [Vietnam]    0.204918"
      ]
     },
     "execution_count": 67,
     "metadata": {},
     "output_type": "execute_result"
    }
   ],
   "source": [
    "df_test = top_country_df[top_country_df.apply(lambda x: len(x['Country']) < 2, axis=1)]\n",
    "df_test = df_test.drop(columns = {'gay', 'count'})\n",
    "df_test"
   ]
  },
  {
   "cell_type": "code",
   "execution_count": 68,
   "metadata": {
    "colab": {
     "base_uri": "https://localhost:8080/",
     "height": 168
    },
    "id": "EBHMmFEQMrxj",
    "outputId": "c0607aae-b2d2-4562-dc7a-130f6177e1a2"
   },
   "outputs": [
    {
     "name": "stderr",
     "output_type": "stream",
     "text": [
      "/tmp/ipykernel_2191219/1745600460.py:1: FutureWarning: The default value of numeric_only in DataFrame.corr is deprecated. In a future version, it will default to False. Select only valid columns or specify the value of numeric_only to silence this warning.\n",
      "  corr_top_country = df_test.corr()\n"
     ]
    },
    {
     "data": {
      "text/html": [
       "<div>\n",
       "<style scoped>\n",
       "    .dataframe tbody tr th:only-of-type {\n",
       "        vertical-align: middle;\n",
       "    }\n",
       "\n",
       "    .dataframe tbody tr th {\n",
       "        vertical-align: top;\n",
       "    }\n",
       "\n",
       "    .dataframe thead th {\n",
       "        text-align: right;\n",
       "    }\n",
       "</style>\n",
       "<table border=\"1\" class=\"dataframe\">\n",
       "  <thead>\n",
       "    <tr style=\"text-align: right;\">\n",
       "      <th></th>\n",
       "      <th>GAI</th>\n",
       "      <th>gay_rating</th>\n",
       "    </tr>\n",
       "  </thead>\n",
       "  <tbody>\n",
       "    <tr>\n",
       "      <th>GAI</th>\n",
       "      <td>1.000000</td>\n",
       "      <td>-0.474986</td>\n",
       "    </tr>\n",
       "    <tr>\n",
       "      <th>gay_rating</th>\n",
       "      <td>-0.474986</td>\n",
       "      <td>1.000000</td>\n",
       "    </tr>\n",
       "  </tbody>\n",
       "</table>\n",
       "</div>"
      ],
      "text/plain": [
       "                 GAI  gay_rating\n",
       "GAI         1.000000   -0.474986\n",
       "gay_rating -0.474986    1.000000"
      ]
     },
     "execution_count": 68,
     "metadata": {},
     "output_type": "execute_result"
    }
   ],
   "source": [
    "corr_top_country = df_test.corr()\n",
    "corr_top_country"
   ]
  },
  {
   "cell_type": "code",
   "execution_count": 69,
   "metadata": {
    "colab": {
     "base_uri": "https://localhost:8080/",
     "height": 435
    },
    "id": "Mxt_USbyHhH-",
    "outputId": "9a0a3dbb-d134-4ba2-f8d2-2598f93a2832"
   },
   "outputs": [
    {
     "data": {
      "image/png": "[encoded data removed]",
      "text/plain": [
       "<Figure size 432x288 with 2 Axes>"
      ]
     },
     "metadata": {
      "needs_background": "light"
     },
     "output_type": "display_data"
    }
   ],
   "source": [
    "sns.heatmap(corr_top_country, annot = True)\n",
    "plt.show()"
   ]
  },
  {
   "cell_type": "code",
   "execution_count": 70,
   "metadata": {
    "colab": {
     "base_uri": "https://localhost:8080/",
     "height": 229
    },
    "id": "olsByY5CO2K5",
    "outputId": "cc19a2fe-763f-4f3a-c56f-5298d2801f95"
   },
   "outputs": [
    {
     "name": "stderr",
     "output_type": "stream",
     "text": [
      "/tmp/ipykernel_2191219/3143493810.py:1: FutureWarning: The default value of numeric_only in DataFrame.corr is deprecated. In a future version, it will default to False. Select only valid columns or specify the value of numeric_only to silence this warning.\n",
      "  top_country_df[top_country_df.apply(lambda x: len(x['Country']) < 15, axis=1)].corr()\n"
     ]
    },
    {
     "data": {
      "text/html": [
       "<div>\n",
       "<style scoped>\n",
       "    .dataframe tbody tr th:only-of-type {\n",
       "        vertical-align: middle;\n",
       "    }\n",
       "\n",
       "    .dataframe tbody tr th {\n",
       "        vertical-align: top;\n",
       "    }\n",
       "\n",
       "    .dataframe thead th {\n",
       "        text-align: right;\n",
       "    }\n",
       "</style>\n",
       "<table border=\"1\" class=\"dataframe\">\n",
       "  <thead>\n",
       "    <tr style=\"text-align: right;\">\n",
       "      <th></th>\n",
       "      <th>GAI</th>\n",
       "      <th>count</th>\n",
       "      <th>gay</th>\n",
       "      <th>gay_rating</th>\n",
       "    </tr>\n",
       "  </thead>\n",
       "  <tbody>\n",
       "    <tr>\n",
       "      <th>GAI</th>\n",
       "      <td>1.000000</td>\n",
       "      <td>-0.328009</td>\n",
       "      <td>-0.319372</td>\n",
       "      <td>-0.259632</td>\n",
       "    </tr>\n",
       "    <tr>\n",
       "      <th>count</th>\n",
       "      <td>-0.328009</td>\n",
       "      <td>1.000000</td>\n",
       "      <td>0.986625</td>\n",
       "      <td>-0.013089</td>\n",
       "    </tr>\n",
       "    <tr>\n",
       "      <th>gay</th>\n",
       "      <td>-0.319372</td>\n",
       "      <td>0.986625</td>\n",
       "      <td>1.000000</td>\n",
       "      <td>0.024279</td>\n",
       "    </tr>\n",
       "    <tr>\n",
       "      <th>gay_rating</th>\n",
       "      <td>-0.259632</td>\n",
       "      <td>-0.013089</td>\n",
       "      <td>0.024279</td>\n",
       "      <td>1.000000</td>\n",
       "    </tr>\n",
       "  </tbody>\n",
       "</table>\n",
       "</div>"
      ],
      "text/plain": [
       "                 GAI     count       gay  gay_rating\n",
       "GAI         1.000000 -0.328009 -0.319372   -0.259632\n",
       "count      -0.328009  1.000000  0.986625   -0.013089\n",
       "gay        -0.319372  0.986625  1.000000    0.024279\n",
       "gay_rating -0.259632 -0.013089  0.024279    1.000000"
      ]
     },
     "execution_count": 70,
     "metadata": {},
     "output_type": "execute_result"
    }
   ],
   "source": [
    "top_country_df[top_country_df.apply(lambda x: len(x['Country']) < 15, axis=1)].corr()"
   ]
  },
  {
   "cell_type": "code",
   "execution_count": 71,
   "metadata": {
    "colab": {
     "base_uri": "https://localhost:8080/",
     "height": 423
    },
    "id": "GI7OQcv27k2P",
    "outputId": "3978cc25-4d89-4227-f359-fa024ea196b0"
   },
   "outputs": [
    {
     "data": {
      "text/html": [
       "<div>\n",
       "<style scoped>\n",
       "    .dataframe tbody tr th:only-of-type {\n",
       "        vertical-align: middle;\n",
       "    }\n",
       "\n",
       "    .dataframe tbody tr th {\n",
       "        vertical-align: top;\n",
       "    }\n",
       "\n",
       "    .dataframe thead th {\n",
       "        text-align: right;\n",
       "    }\n",
       "</style>\n",
       "<table border=\"1\" class=\"dataframe\">\n",
       "  <thead>\n",
       "    <tr style=\"text-align: right;\">\n",
       "      <th></th>\n",
       "      <th>language</th>\n",
       "      <th>name</th>\n",
       "      <th>count</th>\n",
       "      <th>type</th>\n",
       "    </tr>\n",
       "  </thead>\n",
       "  <tbody>\n",
       "    <tr>\n",
       "      <th>0</th>\n",
       "      <td>en</td>\n",
       "      <td>Draco Malfoy/Harry Potter</td>\n",
       "      <td>39138</td>\n",
       "      <td>[Male, Male]</td>\n",
       "    </tr>\n",
       "    <tr>\n",
       "      <th>1</th>\n",
       "      <td>en</td>\n",
       "      <td>Sirius Black/Remus Lupin</td>\n",
       "      <td>18631</td>\n",
       "      <td>[Male, Male]</td>\n",
       "    </tr>\n",
       "    <tr>\n",
       "      <th>2</th>\n",
       "      <td>en</td>\n",
       "      <td>Hermione Granger/Ron Weasley</td>\n",
       "      <td>11836</td>\n",
       "      <td>[Female, Male]</td>\n",
       "    </tr>\n",
       "    <tr>\n",
       "      <th>3</th>\n",
       "      <td>en</td>\n",
       "      <td>Hermione Granger/Draco Malfoy</td>\n",
       "      <td>11358</td>\n",
       "      <td>[Female, Male]</td>\n",
       "    </tr>\n",
       "    <tr>\n",
       "      <th>4</th>\n",
       "      <td>en</td>\n",
       "      <td>James Potter/Lily Evans Potter</td>\n",
       "      <td>9768</td>\n",
       "      <td>[Male, Female]</td>\n",
       "    </tr>\n",
       "    <tr>\n",
       "      <th>...</th>\n",
       "      <td>...</td>\n",
       "      <td>...</td>\n",
       "      <td>...</td>\n",
       "      <td>...</td>\n",
       "    </tr>\n",
       "    <tr>\n",
       "      <th>146</th>\n",
       "      <td>bg</td>\n",
       "      <td>Pansy Parkinson/Fred Weasley/George Weasley/Bl...</td>\n",
       "      <td>1</td>\n",
       "      <td>[Female, Male, Male, Male]</td>\n",
       "    </tr>\n",
       "    <tr>\n",
       "      <th>147</th>\n",
       "      <td>bg</td>\n",
       "      <td>OFC/OMC</td>\n",
       "      <td>1</td>\n",
       "      <td>NaN</td>\n",
       "    </tr>\n",
       "    <tr>\n",
       "      <th>148</th>\n",
       "      <td>bg</td>\n",
       "      <td>Neville Longbottom/Luna Lovegood</td>\n",
       "      <td>1</td>\n",
       "      <td>[Male, Female]</td>\n",
       "    </tr>\n",
       "    <tr>\n",
       "      <th>149</th>\n",
       "      <td>da</td>\n",
       "      <td>Hermione Granger/Lucius Malfoy</td>\n",
       "      <td>1</td>\n",
       "      <td>[Female, Male]</td>\n",
       "    </tr>\n",
       "    <tr>\n",
       "      <th>150</th>\n",
       "      <td>da</td>\n",
       "      <td>Hermione Granger/Draco Malfoy</td>\n",
       "      <td>1</td>\n",
       "      <td>[Female, Male]</td>\n",
       "    </tr>\n",
       "  </tbody>\n",
       "</table>\n",
       "<p>151 rows × 4 columns</p>\n",
       "</div>"
      ],
      "text/plain": [
       "    language                                               name  count  \\\n",
       "0         en                          Draco Malfoy/Harry Potter  39138   \n",
       "1         en                           Sirius Black/Remus Lupin  18631   \n",
       "2         en                       Hermione Granger/Ron Weasley  11836   \n",
       "3         en                      Hermione Granger/Draco Malfoy  11358   \n",
       "4         en                     James Potter/Lily Evans Potter   9768   \n",
       "..       ...                                                ...    ...   \n",
       "146       bg  Pansy Parkinson/Fred Weasley/George Weasley/Bl...      1   \n",
       "147       bg                                            OFC/OMC      1   \n",
       "148       bg                   Neville Longbottom/Luna Lovegood      1   \n",
       "149       da                     Hermione Granger/Lucius Malfoy      1   \n",
       "150       da                      Hermione Granger/Draco Malfoy      1   \n",
       "\n",
       "                           type  \n",
       "0                  [Male, Male]  \n",
       "1                  [Male, Male]  \n",
       "2                [Female, Male]  \n",
       "3                [Female, Male]  \n",
       "4                [Male, Female]  \n",
       "..                          ...  \n",
       "146  [Female, Male, Male, Male]  \n",
       "147                         NaN  \n",
       "148              [Male, Female]  \n",
       "149              [Female, Male]  \n",
       "150              [Female, Male]  \n",
       "\n",
       "[151 rows x 4 columns]"
      ]
     },
     "execution_count": 71,
     "metadata": {},
     "output_type": "execute_result"
    }
   ],
   "source": [
    "top_5_country_df"
   ]
  },
  {
   "cell_type": "markdown",
   "metadata": {
    "id": "NYTMnbMvqaI8"
   },
   "source": [
    "## Exploratory Data Analysis"
   ]
  },
  {
   "cell_type": "markdown",
   "metadata": {
    "id": "bpCP8_zPrF1k"
   },
   "source": [
    "First, we found the most popular languages that fanfiction pieces were written in. "
   ]
  },
  {
   "cell_type": "code",
   "execution_count": 72,
   "metadata": {
    "colab": {
     "base_uri": "https://localhost:8080/",
     "height": 363
    },
    "id": "vvt4mHngjqml",
    "outputId": "7e3f8950-4ec1-4c2b-ebba-4f2fef17ff72"
   },
   "outputs": [
    {
     "data": {
      "text/html": [
       "<div>\n",
       "<style scoped>\n",
       "    .dataframe tbody tr th:only-of-type {\n",
       "        vertical-align: middle;\n",
       "    }\n",
       "\n",
       "    .dataframe tbody tr th {\n",
       "        vertical-align: top;\n",
       "    }\n",
       "\n",
       "    .dataframe thead th {\n",
       "        text-align: right;\n",
       "    }\n",
       "</style>\n",
       "<table border=\"1\" class=\"dataframe\">\n",
       "  <thead>\n",
       "    <tr style=\"text-align: right;\">\n",
       "      <th></th>\n",
       "      <th>language</th>\n",
       "      <th>count</th>\n",
       "    </tr>\n",
       "  </thead>\n",
       "  <tbody>\n",
       "    <tr>\n",
       "      <th>9</th>\n",
       "      <td>en</td>\n",
       "      <td>22976</td>\n",
       "    </tr>\n",
       "    <tr>\n",
       "      <th>13</th>\n",
       "      <td>fr</td>\n",
       "      <td>1507</td>\n",
       "    </tr>\n",
       "    <tr>\n",
       "      <th>10</th>\n",
       "      <td>es</td>\n",
       "      <td>1444</td>\n",
       "    </tr>\n",
       "    <tr>\n",
       "      <th>31</th>\n",
       "      <td>ru</td>\n",
       "      <td>1385</td>\n",
       "    </tr>\n",
       "    <tr>\n",
       "      <th>39</th>\n",
       "      <td>zh</td>\n",
       "      <td>765</td>\n",
       "    </tr>\n",
       "    <tr>\n",
       "      <th>19</th>\n",
       "      <td>it</td>\n",
       "      <td>603</td>\n",
       "    </tr>\n",
       "    <tr>\n",
       "      <th>26</th>\n",
       "      <td>pl</td>\n",
       "      <td>522</td>\n",
       "    </tr>\n",
       "    <tr>\n",
       "      <th>7</th>\n",
       "      <td>de</td>\n",
       "      <td>497</td>\n",
       "    </tr>\n",
       "    <tr>\n",
       "      <th>27</th>\n",
       "      <td>ptBR</td>\n",
       "      <td>472</td>\n",
       "    </tr>\n",
       "    <tr>\n",
       "      <th>12</th>\n",
       "      <td>fi</td>\n",
       "      <td>213</td>\n",
       "    </tr>\n",
       "  </tbody>\n",
       "</table>\n",
       "</div>"
      ],
      "text/plain": [
       "   language  count\n",
       "9        en  22976\n",
       "13       fr   1507\n",
       "10       es   1444\n",
       "31       ru   1385\n",
       "39       zh    765\n",
       "19       it    603\n",
       "26       pl    522\n",
       "7        de    497\n",
       "27     ptBR    472\n",
       "12       fi    213"
      ]
     },
     "execution_count": 72,
     "metadata": {},
     "output_type": "execute_result"
    }
   ],
   "source": [
    "import seaborn as sns\n",
    "import matplotlib.pyplot as plt\n",
    "lang_frequency_df = work_country_df.groupby(['language']).count()\n",
    "lang_frequency_df = lang_frequency_df.drop(columns = 'name')\n",
    "lang_frequency_df = lang_frequency_df.reset_index()\n",
    "lang_frequency_df = lang_frequency_df.sort_values(by = 'count', ascending = False)\n",
    "lang_frequency_df.head(10)"
   ]
  },
  {
   "cell_type": "markdown",
   "metadata": {
    "id": "dPaeY_JfrPDc"
   },
   "source": [
    "We plotted the most popular languages that fanfiction was written in using a pie chart, and a bar chart. "
   ]
  },
  {
   "cell_type": "code",
   "execution_count": 73,
   "metadata": {
    "colab": {
     "base_uri": "https://localhost:8080/",
     "height": 406
    },
    "id": "UhzOLfhUm0mT",
    "outputId": "bc1929eb-8dcc-4a34-bbe6-5b4321a5eb23"
   },
   "outputs": [
    {
     "data": {
      "image/png": "[encoded data removed]",
      "text/plain": [
       "<Figure size 432x288 with 1 Axes>"
      ]
     },
     "metadata": {},
     "output_type": "display_data"
    }
   ],
   "source": [
    "# plt.pie(data = lang_frequency_df, x = 'count')\n",
    "plt.pie(lang_frequency_df.head(10)['count'], labels=lang_frequency_df.head(10)['language'], autopct='%1.1f%%')\n",
    "plt.show()"
   ]
  },
  {
   "cell_type": "code",
   "execution_count": 75,
   "metadata": {
    "colab": {
     "base_uri": "https://localhost:8080/",
     "height": 449
    },
    "id": "QVWI7pvGkjH5",
    "outputId": "b65c1734-419e-4780-ee6f-a75cc928d62d"
   },
   "outputs": [
    {
     "data": {
      "text/plain": [
       "<Axes: xlabel='language', ylabel='count'>"
      ]
     },
     "execution_count": 75,
     "metadata": {},
     "output_type": "execute_result"
    },
    {
     "data": {
      "image/png": "[encoded data removed]",
      "text/plain": [
       "<Figure size 432x288 with 1 Axes>"
      ]
     },
     "metadata": {
      "needs_background": "light"
     },
     "output_type": "display_data"
    }
   ],
   "source": [
    "sns.set_palette('husl')\n",
    "sns.barplot(data = lang_frequency_df.head(10), x = 'language', y = 'count')\n",
    "# plt.savefig('/language_freq_plot.png')"
   ]
  },
  {
   "cell_type": "markdown",
   "metadata": {
    "id": "cXSoebRqrZ3q"
   },
   "source": [
    "We also wanted to find the top 5 relationship pairings by specific languages, such as in English"
   ]
  },
  {
   "cell_type": "code",
   "execution_count": 76,
   "metadata": {
    "id": "vpW1gEh4Dqvt"
   },
   "outputs": [],
   "source": [
    "top_5_country_df = top_5_country_df.merge(lang_country, left_on='language', right_on='lang_Code')"
   ]
  },
  {
   "cell_type": "code",
   "execution_count": 77,
   "metadata": {
    "colab": {
     "base_uri": "https://localhost:8080/",
     "height": 206
    },
    "id": "qMBgK2rWs3Wm",
    "outputId": "3773e4a4-a716-47a4-88f1-85018ad8466e"
   },
   "outputs": [
    {
     "data": {
      "text/html": [
       "<div>\n",
       "<style scoped>\n",
       "    .dataframe tbody tr th:only-of-type {\n",
       "        vertical-align: middle;\n",
       "    }\n",
       "\n",
       "    .dataframe tbody tr th {\n",
       "        vertical-align: top;\n",
       "    }\n",
       "\n",
       "    .dataframe thead th {\n",
       "        text-align: right;\n",
       "    }\n",
       "</style>\n",
       "<table border=\"1\" class=\"dataframe\">\n",
       "  <thead>\n",
       "    <tr style=\"text-align: right;\">\n",
       "      <th></th>\n",
       "      <th>language</th>\n",
       "      <th>name</th>\n",
       "      <th>count</th>\n",
       "      <th>type</th>\n",
       "      <th>Country</th>\n",
       "    </tr>\n",
       "  </thead>\n",
       "  <tbody>\n",
       "    <tr>\n",
       "      <th>0</th>\n",
       "      <td>en</td>\n",
       "      <td>Draco Malfoy/Harry Potter</td>\n",
       "      <td>39138</td>\n",
       "      <td>[Male, Male]</td>\n",
       "      <td>[Antigua and Barbuda, Argentina, Australia, Ba...</td>\n",
       "    </tr>\n",
       "    <tr>\n",
       "      <th>1</th>\n",
       "      <td>en</td>\n",
       "      <td>Sirius Black/Remus Lupin</td>\n",
       "      <td>18631</td>\n",
       "      <td>[Male, Male]</td>\n",
       "      <td>[Antigua and Barbuda, Argentina, Australia, Ba...</td>\n",
       "    </tr>\n",
       "    <tr>\n",
       "      <th>2</th>\n",
       "      <td>en</td>\n",
       "      <td>Hermione Granger/Ron Weasley</td>\n",
       "      <td>11836</td>\n",
       "      <td>[Female, Male]</td>\n",
       "      <td>[Antigua and Barbuda, Argentina, Australia, Ba...</td>\n",
       "    </tr>\n",
       "    <tr>\n",
       "      <th>3</th>\n",
       "      <td>en</td>\n",
       "      <td>Hermione Granger/Draco Malfoy</td>\n",
       "      <td>11358</td>\n",
       "      <td>[Female, Male]</td>\n",
       "      <td>[Antigua and Barbuda, Argentina, Australia, Ba...</td>\n",
       "    </tr>\n",
       "    <tr>\n",
       "      <th>4</th>\n",
       "      <td>en</td>\n",
       "      <td>James Potter/Lily Evans Potter</td>\n",
       "      <td>9768</td>\n",
       "      <td>[Male, Female]</td>\n",
       "      <td>[Antigua and Barbuda, Argentina, Australia, Ba...</td>\n",
       "    </tr>\n",
       "  </tbody>\n",
       "</table>\n",
       "</div>"
      ],
      "text/plain": [
       "  language                            name  count            type  \\\n",
       "0       en       Draco Malfoy/Harry Potter  39138    [Male, Male]   \n",
       "1       en        Sirius Black/Remus Lupin  18631    [Male, Male]   \n",
       "2       en    Hermione Granger/Ron Weasley  11836  [Female, Male]   \n",
       "3       en   Hermione Granger/Draco Malfoy  11358  [Female, Male]   \n",
       "4       en  James Potter/Lily Evans Potter   9768  [Male, Female]   \n",
       "\n",
       "                                             Country  \n",
       "0  [Antigua and Barbuda, Argentina, Australia, Ba...  \n",
       "1  [Antigua and Barbuda, Argentina, Australia, Ba...  \n",
       "2  [Antigua and Barbuda, Argentina, Australia, Ba...  \n",
       "3  [Antigua and Barbuda, Argentina, Australia, Ba...  \n",
       "4  [Antigua and Barbuda, Argentina, Australia, Ba...  "
      ]
     },
     "execution_count": 77,
     "metadata": {},
     "output_type": "execute_result"
    }
   ],
   "source": [
    "top_5_country_df[top_5_country_df['language'].isin(['en'])]"
   ]
  },
  {
   "cell_type": "markdown",
   "metadata": {
    "id": "uY3QSbJprjxl"
   },
   "source": [
    "We also looked for the top 5 relationship pairings in all languages except English. "
   ]
  },
  {
   "cell_type": "code",
   "execution_count": 78,
   "metadata": {
    "colab": {
     "base_uri": "https://localhost:8080/",
     "height": 423
    },
    "id": "j3QbBA9kDU19",
    "outputId": "b8ffda93-1741-44cb-fc96-a73513ef54a7"
   },
   "outputs": [
    {
     "data": {
      "text/html": [
       "<div>\n",
       "<style scoped>\n",
       "    .dataframe tbody tr th:only-of-type {\n",
       "        vertical-align: middle;\n",
       "    }\n",
       "\n",
       "    .dataframe tbody tr th {\n",
       "        vertical-align: top;\n",
       "    }\n",
       "\n",
       "    .dataframe thead th {\n",
       "        text-align: right;\n",
       "    }\n",
       "</style>\n",
       "<table border=\"1\" class=\"dataframe\">\n",
       "  <thead>\n",
       "    <tr style=\"text-align: right;\">\n",
       "      <th></th>\n",
       "      <th>language</th>\n",
       "      <th>name</th>\n",
       "      <th>count</th>\n",
       "      <th>type</th>\n",
       "      <th>Country</th>\n",
       "    </tr>\n",
       "  </thead>\n",
       "  <tbody>\n",
       "    <tr>\n",
       "      <th>5</th>\n",
       "      <td>es</td>\n",
       "      <td>Draco Malfoy/Harry Potter</td>\n",
       "      <td>1364</td>\n",
       "      <td>[Male, Male]</td>\n",
       "      <td>[Argentina, Belize, Bolivia, Brazil, Chile, Co...</td>\n",
       "    </tr>\n",
       "    <tr>\n",
       "      <th>6</th>\n",
       "      <td>es</td>\n",
       "      <td>Sirius Black/Remus Lupin</td>\n",
       "      <td>357</td>\n",
       "      <td>[Male, Male]</td>\n",
       "      <td>[Argentina, Belize, Bolivia, Brazil, Chile, Co...</td>\n",
       "    </tr>\n",
       "    <tr>\n",
       "      <th>7</th>\n",
       "      <td>es</td>\n",
       "      <td>Harry Potter/Severus Snape</td>\n",
       "      <td>281</td>\n",
       "      <td>[Male, Male]</td>\n",
       "      <td>[Argentina, Belize, Bolivia, Brazil, Chile, Co...</td>\n",
       "    </tr>\n",
       "    <tr>\n",
       "      <th>8</th>\n",
       "      <td>es</td>\n",
       "      <td>Harry Potter/Tom Riddle</td>\n",
       "      <td>199</td>\n",
       "      <td>[Male, Male]</td>\n",
       "      <td>[Argentina, Belize, Bolivia, Brazil, Chile, Co...</td>\n",
       "    </tr>\n",
       "    <tr>\n",
       "      <th>9</th>\n",
       "      <td>es</td>\n",
       "      <td>Hermione Granger/Ron Weasley</td>\n",
       "      <td>181</td>\n",
       "      <td>[Female, Male]</td>\n",
       "      <td>[Argentina, Belize, Bolivia, Brazil, Chile, Co...</td>\n",
       "    </tr>\n",
       "    <tr>\n",
       "      <th>...</th>\n",
       "      <td>...</td>\n",
       "      <td>...</td>\n",
       "      <td>...</td>\n",
       "      <td>...</td>\n",
       "      <td>...</td>\n",
       "    </tr>\n",
       "    <tr>\n",
       "      <th>121</th>\n",
       "      <td>bg</td>\n",
       "      <td>Pansy Parkinson/Fred Weasley/George Weasley/Bl...</td>\n",
       "      <td>1</td>\n",
       "      <td>[Female, Male, Male, Male]</td>\n",
       "      <td>[Bulgaria]</td>\n",
       "    </tr>\n",
       "    <tr>\n",
       "      <th>122</th>\n",
       "      <td>bg</td>\n",
       "      <td>OFC/OMC</td>\n",
       "      <td>1</td>\n",
       "      <td>NaN</td>\n",
       "      <td>[Bulgaria]</td>\n",
       "    </tr>\n",
       "    <tr>\n",
       "      <th>123</th>\n",
       "      <td>bg</td>\n",
       "      <td>Neville Longbottom/Luna Lovegood</td>\n",
       "      <td>1</td>\n",
       "      <td>[Male, Female]</td>\n",
       "      <td>[Bulgaria]</td>\n",
       "    </tr>\n",
       "    <tr>\n",
       "      <th>124</th>\n",
       "      <td>da</td>\n",
       "      <td>Hermione Granger/Lucius Malfoy</td>\n",
       "      <td>1</td>\n",
       "      <td>[Female, Male]</td>\n",
       "      <td>[Denmark]</td>\n",
       "    </tr>\n",
       "    <tr>\n",
       "      <th>125</th>\n",
       "      <td>da</td>\n",
       "      <td>Hermione Granger/Draco Malfoy</td>\n",
       "      <td>1</td>\n",
       "      <td>[Female, Male]</td>\n",
       "      <td>[Denmark]</td>\n",
       "    </tr>\n",
       "  </tbody>\n",
       "</table>\n",
       "<p>121 rows × 5 columns</p>\n",
       "</div>"
      ],
      "text/plain": [
       "    language                                               name  count  \\\n",
       "5         es                          Draco Malfoy/Harry Potter   1364   \n",
       "6         es                           Sirius Black/Remus Lupin    357   \n",
       "7         es                         Harry Potter/Severus Snape    281   \n",
       "8         es                            Harry Potter/Tom Riddle    199   \n",
       "9         es                       Hermione Granger/Ron Weasley    181   \n",
       "..       ...                                                ...    ...   \n",
       "121       bg  Pansy Parkinson/Fred Weasley/George Weasley/Bl...      1   \n",
       "122       bg                                            OFC/OMC      1   \n",
       "123       bg                   Neville Longbottom/Luna Lovegood      1   \n",
       "124       da                     Hermione Granger/Lucius Malfoy      1   \n",
       "125       da                      Hermione Granger/Draco Malfoy      1   \n",
       "\n",
       "                           type  \\\n",
       "5                  [Male, Male]   \n",
       "6                  [Male, Male]   \n",
       "7                  [Male, Male]   \n",
       "8                  [Male, Male]   \n",
       "9                [Female, Male]   \n",
       "..                          ...   \n",
       "121  [Female, Male, Male, Male]   \n",
       "122                         NaN   \n",
       "123              [Male, Female]   \n",
       "124              [Female, Male]   \n",
       "125              [Female, Male]   \n",
       "\n",
       "                                               Country  \n",
       "5    [Argentina, Belize, Bolivia, Brazil, Chile, Co...  \n",
       "6    [Argentina, Belize, Bolivia, Brazil, Chile, Co...  \n",
       "7    [Argentina, Belize, Bolivia, Brazil, Chile, Co...  \n",
       "8    [Argentina, Belize, Bolivia, Brazil, Chile, Co...  \n",
       "9    [Argentina, Belize, Bolivia, Brazil, Chile, Co...  \n",
       "..                                                 ...  \n",
       "121                                         [Bulgaria]  \n",
       "122                                         [Bulgaria]  \n",
       "123                                         [Bulgaria]  \n",
       "124                                          [Denmark]  \n",
       "125                                          [Denmark]  \n",
       "\n",
       "[121 rows x 5 columns]"
      ]
     },
     "execution_count": 78,
     "metadata": {},
     "output_type": "execute_result"
    }
   ],
   "source": [
    "top_5_country_df[~top_5_country_df['language'].isin(['en'])]"
   ]
  },
  {
   "cell_type": "markdown",
   "metadata": {
    "id": "peaO3D3arr-1"
   },
   "source": [
    "We also explored this for the French language. "
   ]
  },
  {
   "cell_type": "code",
   "execution_count": 79,
   "metadata": {
    "colab": {
     "base_uri": "https://localhost:8080/",
     "height": 206
    },
    "id": "VPB4-t1XGLDs",
    "outputId": "15972f61-1034-4d50-b8f8-21fe8750c327"
   },
   "outputs": [
    {
     "data": {
      "text/html": [
       "<div>\n",
       "<style scoped>\n",
       "    .dataframe tbody tr th:only-of-type {\n",
       "        vertical-align: middle;\n",
       "    }\n",
       "\n",
       "    .dataframe tbody tr th {\n",
       "        vertical-align: top;\n",
       "    }\n",
       "\n",
       "    .dataframe thead th {\n",
       "        text-align: right;\n",
       "    }\n",
       "</style>\n",
       "<table border=\"1\" class=\"dataframe\">\n",
       "  <thead>\n",
       "    <tr style=\"text-align: right;\">\n",
       "      <th></th>\n",
       "      <th>language</th>\n",
       "      <th>name</th>\n",
       "      <th>count</th>\n",
       "      <th>type</th>\n",
       "      <th>Country</th>\n",
       "    </tr>\n",
       "  </thead>\n",
       "  <tbody>\n",
       "    <tr>\n",
       "      <th>15</th>\n",
       "      <td>fr</td>\n",
       "      <td>Draco Malfoy/Harry Potter</td>\n",
       "      <td>375</td>\n",
       "      <td>[Male, Male]</td>\n",
       "      <td>[Algeria, Andorra, Argentina, Benin, Brazil, B...</td>\n",
       "    </tr>\n",
       "    <tr>\n",
       "      <th>16</th>\n",
       "      <td>fr</td>\n",
       "      <td>Sirius Black/Remus Lupin</td>\n",
       "      <td>132</td>\n",
       "      <td>[Male, Male]</td>\n",
       "      <td>[Algeria, Andorra, Argentina, Benin, Brazil, B...</td>\n",
       "    </tr>\n",
       "    <tr>\n",
       "      <th>17</th>\n",
       "      <td>fr</td>\n",
       "      <td>Hermione Granger/Ron Weasley</td>\n",
       "      <td>107</td>\n",
       "      <td>[Female, Male]</td>\n",
       "      <td>[Algeria, Andorra, Argentina, Benin, Brazil, B...</td>\n",
       "    </tr>\n",
       "    <tr>\n",
       "      <th>18</th>\n",
       "      <td>fr</td>\n",
       "      <td>Hermione Granger/Draco Malfoy</td>\n",
       "      <td>89</td>\n",
       "      <td>[Female, Male]</td>\n",
       "      <td>[Algeria, Andorra, Argentina, Benin, Brazil, B...</td>\n",
       "    </tr>\n",
       "    <tr>\n",
       "      <th>19</th>\n",
       "      <td>fr</td>\n",
       "      <td>Harry Potter/Ginny Weasley</td>\n",
       "      <td>76</td>\n",
       "      <td>[Male, Female]</td>\n",
       "      <td>[Algeria, Andorra, Argentina, Benin, Brazil, B...</td>\n",
       "    </tr>\n",
       "  </tbody>\n",
       "</table>\n",
       "</div>"
      ],
      "text/plain": [
       "   language                           name  count            type  \\\n",
       "15       fr      Draco Malfoy/Harry Potter    375    [Male, Male]   \n",
       "16       fr       Sirius Black/Remus Lupin    132    [Male, Male]   \n",
       "17       fr   Hermione Granger/Ron Weasley    107  [Female, Male]   \n",
       "18       fr  Hermione Granger/Draco Malfoy     89  [Female, Male]   \n",
       "19       fr     Harry Potter/Ginny Weasley     76  [Male, Female]   \n",
       "\n",
       "                                              Country  \n",
       "15  [Algeria, Andorra, Argentina, Benin, Brazil, B...  \n",
       "16  [Algeria, Andorra, Argentina, Benin, Brazil, B...  \n",
       "17  [Algeria, Andorra, Argentina, Benin, Brazil, B...  \n",
       "18  [Algeria, Andorra, Argentina, Benin, Brazil, B...  \n",
       "19  [Algeria, Andorra, Argentina, Benin, Brazil, B...  "
      ]
     },
     "execution_count": 79,
     "metadata": {},
     "output_type": "execute_result"
    }
   ],
   "source": [
    "top_5_country_df[top_5_country_df['language'].isin(['fr'])]"
   ]
  },
  {
   "cell_type": "code",
   "execution_count": 80,
   "metadata": {
    "id": "XKnkS9xuuC8V"
   },
   "outputs": [],
   "source": [
    "pd.set_option('display.max_rows', 20)\n",
    "# pd.set_option('display.max_rows', None)"
   ]
  },
  {
   "cell_type": "code",
   "execution_count": 81,
   "metadata": {
    "colab": {
     "base_uri": "https://localhost:8080/",
     "height": 423
    },
    "id": "pOOdCCHmEf_j",
    "outputId": "70a63db8-8834-495d-8b24-8e35539d89a6"
   },
   "outputs": [
    {
     "data": {
      "text/html": [
       "<div>\n",
       "<style scoped>\n",
       "    .dataframe tbody tr th:only-of-type {\n",
       "        vertical-align: middle;\n",
       "    }\n",
       "\n",
       "    .dataframe tbody tr th {\n",
       "        vertical-align: top;\n",
       "    }\n",
       "\n",
       "    .dataframe thead th {\n",
       "        text-align: right;\n",
       "    }\n",
       "</style>\n",
       "<table border=\"1\" class=\"dataframe\">\n",
       "  <thead>\n",
       "    <tr style=\"text-align: right;\">\n",
       "      <th></th>\n",
       "      <th>language</th>\n",
       "      <th>name</th>\n",
       "      <th>count</th>\n",
       "      <th>type</th>\n",
       "      <th>Country</th>\n",
       "    </tr>\n",
       "  </thead>\n",
       "  <tbody>\n",
       "    <tr>\n",
       "      <th>10</th>\n",
       "      <td>ru</td>\n",
       "      <td>Draco Malfoy/Harry Potter</td>\n",
       "      <td>1050</td>\n",
       "      <td>[Male, Male]</td>\n",
       "      <td>[Armenia, Belarus, Kazakhstan, Kyrgyzstan, Mol...</td>\n",
       "    </tr>\n",
       "    <tr>\n",
       "      <th>11</th>\n",
       "      <td>ru</td>\n",
       "      <td>Harry Potter/Severus Snape</td>\n",
       "      <td>747</td>\n",
       "      <td>[Male, Male]</td>\n",
       "      <td>[Armenia, Belarus, Kazakhstan, Kyrgyzstan, Mol...</td>\n",
       "    </tr>\n",
       "    <tr>\n",
       "      <th>12</th>\n",
       "      <td>ru</td>\n",
       "      <td>Albus Dumbledore/Gellert Grindelwald</td>\n",
       "      <td>172</td>\n",
       "      <td>[Male, Male]</td>\n",
       "      <td>[Armenia, Belarus, Kazakhstan, Kyrgyzstan, Mol...</td>\n",
       "    </tr>\n",
       "    <tr>\n",
       "      <th>13</th>\n",
       "      <td>ru</td>\n",
       "      <td>Hermione Granger/Ron Weasley</td>\n",
       "      <td>163</td>\n",
       "      <td>[Female, Male]</td>\n",
       "      <td>[Armenia, Belarus, Kazakhstan, Kyrgyzstan, Mol...</td>\n",
       "    </tr>\n",
       "    <tr>\n",
       "      <th>14</th>\n",
       "      <td>ru</td>\n",
       "      <td>Hermione Granger/Draco Malfoy</td>\n",
       "      <td>147</td>\n",
       "      <td>[Female, Male]</td>\n",
       "      <td>[Armenia, Belarus, Kazakhstan, Kyrgyzstan, Mol...</td>\n",
       "    </tr>\n",
       "    <tr>\n",
       "      <th>...</th>\n",
       "      <td>...</td>\n",
       "      <td>...</td>\n",
       "      <td>...</td>\n",
       "      <td>...</td>\n",
       "      <td>...</td>\n",
       "    </tr>\n",
       "    <tr>\n",
       "      <th>121</th>\n",
       "      <td>bg</td>\n",
       "      <td>Pansy Parkinson/Fred Weasley/George Weasley/Bl...</td>\n",
       "      <td>1</td>\n",
       "      <td>[Female, Male, Male, Male]</td>\n",
       "      <td>[Bulgaria]</td>\n",
       "    </tr>\n",
       "    <tr>\n",
       "      <th>122</th>\n",
       "      <td>bg</td>\n",
       "      <td>OFC/OMC</td>\n",
       "      <td>1</td>\n",
       "      <td>NaN</td>\n",
       "      <td>[Bulgaria]</td>\n",
       "    </tr>\n",
       "    <tr>\n",
       "      <th>123</th>\n",
       "      <td>bg</td>\n",
       "      <td>Neville Longbottom/Luna Lovegood</td>\n",
       "      <td>1</td>\n",
       "      <td>[Male, Female]</td>\n",
       "      <td>[Bulgaria]</td>\n",
       "    </tr>\n",
       "    <tr>\n",
       "      <th>124</th>\n",
       "      <td>da</td>\n",
       "      <td>Hermione Granger/Lucius Malfoy</td>\n",
       "      <td>1</td>\n",
       "      <td>[Female, Male]</td>\n",
       "      <td>[Denmark]</td>\n",
       "    </tr>\n",
       "    <tr>\n",
       "      <th>125</th>\n",
       "      <td>da</td>\n",
       "      <td>Hermione Granger/Draco Malfoy</td>\n",
       "      <td>1</td>\n",
       "      <td>[Female, Male]</td>\n",
       "      <td>[Denmark]</td>\n",
       "    </tr>\n",
       "  </tbody>\n",
       "</table>\n",
       "<p>110 rows × 5 columns</p>\n",
       "</div>"
      ],
      "text/plain": [
       "    language                                               name  count  \\\n",
       "10        ru                          Draco Malfoy/Harry Potter   1050   \n",
       "11        ru                         Harry Potter/Severus Snape    747   \n",
       "12        ru               Albus Dumbledore/Gellert Grindelwald    172   \n",
       "13        ru                       Hermione Granger/Ron Weasley    163   \n",
       "14        ru                      Hermione Granger/Draco Malfoy    147   \n",
       "..       ...                                                ...    ...   \n",
       "121       bg  Pansy Parkinson/Fred Weasley/George Weasley/Bl...      1   \n",
       "122       bg                                            OFC/OMC      1   \n",
       "123       bg                   Neville Longbottom/Luna Lovegood      1   \n",
       "124       da                     Hermione Granger/Lucius Malfoy      1   \n",
       "125       da                      Hermione Granger/Draco Malfoy      1   \n",
       "\n",
       "                           type  \\\n",
       "10                 [Male, Male]   \n",
       "11                 [Male, Male]   \n",
       "12                 [Male, Male]   \n",
       "13               [Female, Male]   \n",
       "14               [Female, Male]   \n",
       "..                          ...   \n",
       "121  [Female, Male, Male, Male]   \n",
       "122                         NaN   \n",
       "123              [Male, Female]   \n",
       "124              [Female, Male]   \n",
       "125              [Female, Male]   \n",
       "\n",
       "                                               Country  \n",
       "10   [Armenia, Belarus, Kazakhstan, Kyrgyzstan, Mol...  \n",
       "11   [Armenia, Belarus, Kazakhstan, Kyrgyzstan, Mol...  \n",
       "12   [Armenia, Belarus, Kazakhstan, Kyrgyzstan, Mol...  \n",
       "13   [Armenia, Belarus, Kazakhstan, Kyrgyzstan, Mol...  \n",
       "14   [Armenia, Belarus, Kazakhstan, Kyrgyzstan, Mol...  \n",
       "..                                                 ...  \n",
       "121                                         [Bulgaria]  \n",
       "122                                         [Bulgaria]  \n",
       "123                                         [Bulgaria]  \n",
       "124                                          [Denmark]  \n",
       "125                                          [Denmark]  \n",
       "\n",
       "[110 rows x 5 columns]"
      ]
     },
     "execution_count": 81,
     "metadata": {},
     "output_type": "execute_result"
    }
   ],
   "source": [
    "top_5_country_df[top_5_country_df.apply(lambda x: len(x['Country']) < 15, axis=1)]"
   ]
  }
 ],
 "metadata": {
  "colab": {
   "provenance": []
  },
  "kernelspec": {
   "display_name": "Python 3 (COMM318)",
   "language": "python",
   "name": "python3"
  },
  "language_info": {
   "codemirror_mode": {
    "name": "ipython",
    "version": 3
   },
   "file_extension": ".py",
   "mimetype": "text/x-python",
   "name": "python",
   "nbconvert_exporter": "python",
   "pygments_lexer": "ipython3",
   "version": "3.8.8"
  }
 },
 "nbformat": 4,
 "nbformat_minor": 4
}
